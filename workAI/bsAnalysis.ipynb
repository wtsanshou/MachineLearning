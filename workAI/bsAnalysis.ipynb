{
 "cells": [
  {
   "cell_type": "markdown",
   "metadata": {
    "deletable": true,
    "editable": true
   },
   "source": [
    "# Final Project\n",
    "\n",
    "## Predict whether a mammogram mass is benign or malignant\n",
    "\n",
    "We'll be using the \"mammographic masses\" public dataset from the UCI repository (source: https://archive.ics.uci.edu/ml/datasets/Mammographic+Mass)\n",
    "\n",
    "This data contains 961 instances of masses detected in mammograms, and contains the following attributes:\n",
    "\n",
    "\n",
    "   1. BI-RADS assessment: 1 to 5 (ordinal)  \n",
    "   2. Age: patient's age in years (integer)\n",
    "   3. Shape: mass shape: round=1 oval=2 lobular=3 irregular=4 (nominal)\n",
    "   4. Margin: mass margin: circumscribed=1 microlobulated=2 obscured=3 ill-defined=4 spiculated=5 (nominal)\n",
    "   5. Density: mass density high=1 iso=2 low=3 fat-containing=4 (ordinal)\n",
    "   6. Severity: benign=0 or malignant=1 (binominal)\n",
    "   \n",
    "BI-RADS is an assesment of how confident the severity classification is; it is not a \"predictive\" attribute and so we will discard it. The age, shape, margin, and density attributes are the features that we will build our model with, and \"severity\" is the classification we will attempt to predict based on those attributes.\n",
    "\n",
    "Although \"shape\" and \"margin\" are nominal data types, which sklearn typically doesn't deal with well, they are close enough to ordinal that we shouldn't just discard them. The \"shape\" for example is ordered increasingly from round to irregular.\n",
    "\n",
    "A lot of unnecessary anguish and surgery arises from false positives arising from mammogram results. If we can build a better way to interpret them through supervised machine learning, it could improve a lot of lives.\n",
    "\n",
    "## Your assignment\n",
    "\n",
    "Apply several different supervised machine learning techniques to this data set, and see which one yields the highest accuracy as measured with K-Fold cross validation (K=10). Apply:\n",
    "\n",
    "* Decision tree\n",
    "* Random forest\n",
    "* KNN\n",
    "* Naive Bayes\n",
    "* SVM\n",
    "* Logistic Regression\n",
    "* And, as a bonus challenge, a neural network using Keras.\n",
    "\n",
    "The data needs to be cleaned; many rows contain missing data, and there may be erroneous data identifiable as outliers as well.\n",
    "\n",
    "Remember some techniques such as SVM also require the input data to be normalized first.\n",
    "\n",
    "Many techniques also have \"hyperparameters\" that need to be tuned. Once you identify a promising approach, see if you can make it even better by tuning its hyperparameters.\n",
    "\n",
    "I was able to achieve over 80% accuracy - can you beat that?\n",
    "\n",
    "Below I've set up an outline of a notebook for this project, with some guidance and hints. If you're up for a real challenge, try doing this project from scratch in a new, clean notebook!\n"
   ]
  },
  {
   "cell_type": "markdown",
   "metadata": {
    "deletable": true,
    "editable": true
   },
   "source": [
    "## Let's begin: prepare your data\n",
    "\n",
    "Start by importing the mammographic_masses.data.txt file into a Pandas dataframe (hint: use read_csv) and take a look at it."
   ]
  },
  {
   "cell_type": "code",
   "execution_count": 1,
   "metadata": {
    "collapsed": false,
    "deletable": true,
    "editable": true
   },
   "outputs": [
    {
     "data": {
      "text/plain": [
       "0      [{'selection': {'eventID': None, 'eventTypeID'...\n",
       "1      [{'selection': {'eventID': '5937002', 'eventTy...\n",
       "2      [{'selection': {'eventID': '5936655', 'eventTy...\n",
       "3      [{'selection': {'eventID': None, 'eventTypeID'...\n",
       "4      [{'selection': {'eventID': None, 'eventTypeID'...\n",
       "5      [{'selection': {'eventID': '5936956', 'eventTy...\n",
       "6      [{'selection': {'eventID': '5937443', 'eventTy...\n",
       "7      [{'selection': {'eventID': '5938855', 'eventTy...\n",
       "8      [{'selection': {'eventID': '5436113', 'eventTy...\n",
       "9      [{'selection': {'eventID': None, 'eventTypeID'...\n",
       "10     [{'selection': {'eventID': None, 'eventTypeID'...\n",
       "11     [{'selection': {'eventID': '5936655', 'eventTy...\n",
       "12     [{'selection': {'eventID': '5934347', 'eventTy...\n",
       "13     [{'selection': {'eventID': '5937443', 'eventTy...\n",
       "14     [{'selection': {'eventID': '5936633', 'eventTy...\n",
       "15     [{'selection': {'eventID': '5936443', 'eventTy...\n",
       "16     [{'selection': {'eventID': '5936443', 'eventTy...\n",
       "17     [{'selection': {'eventID': None, 'eventTypeID'...\n",
       "18     [{'selection': {'eventID': '5937566', 'eventTy...\n",
       "19     [{'selection': {'eventID': '5936633', 'eventTy...\n",
       "20     [{'selection': {'eventID': None, 'eventTypeID'...\n",
       "21     [{'selection': {'eventID': '5936443', 'eventTy...\n",
       "22     [{'selection': {'eventID': '5936633', 'eventTy...\n",
       "23     [{'selection': {'eventID': '5937443', 'eventTy...\n",
       "24     [{'selection': {'eventID': '5937443', 'eventTy...\n",
       "25     [{'selection': {'eventID': '5937587', 'eventTy...\n",
       "26     [{'selection': {'eventID': '5937566', 'eventTy...\n",
       "27     [{'selection': {'eventID': '5937566', 'eventTy...\n",
       "28     [{'selection': {'eventID': '5937587', 'eventTy...\n",
       "29     [{'selection': {'eventID': '5937587', 'eventTy...\n",
       "                             ...                        \n",
       "286    [{'selection': {'eventID': '5936494', 'eventTy...\n",
       "287    [{'selection': {'eventID': '5936494', 'eventTy...\n",
       "288    [{'selection': {'eventID': '5937443', 'eventTy...\n",
       "289    [{'selection': {'eventID': '5937566', 'eventTy...\n",
       "290    [{'selection': {'eventID': '5937408', 'eventTy...\n",
       "291    [{'selection': {'eventID': None, 'eventTypeID'...\n",
       "292    [{'selection': {'eventID': '5937443', 'eventTy...\n",
       "293    [{'selection': {'eventID': '5936494', 'eventTy...\n",
       "294    [{'selection': {'eventID': None, 'eventTypeID'...\n",
       "295    [{'selection': {'eventID': '5937566', 'eventTy...\n",
       "296    [{'selection': {'eventID': '5933162', 'eventTy...\n",
       "297    [{'selection': {'eventID': '5936494', 'eventTy...\n",
       "298    [{'selection': {'eventID': None, 'eventTypeID'...\n",
       "299    [{'selection': {'eventID': '5773738', 'eventTy...\n",
       "300    [{'selection': {'eventID': None, 'eventTypeID'...\n",
       "301    [{'selection': {'eventID': None, 'eventTypeID'...\n",
       "302    [{'selection': {'eventID': '5937566', 'eventTy...\n",
       "303    [{'selection': {'eventID': '5934346', 'eventTy...\n",
       "304    [{'selection': {'eventID': '5936927', 'eventTy...\n",
       "305    [{'selection': {'eventID': None, 'eventTypeID'...\n",
       "306    [{'selection': {'eventID': '5937587', 'eventTy...\n",
       "307    [{'selection': {'eventID': '5937587', 'eventTy...\n",
       "308    [{'selection': {'eventID': '5937443', 'eventTy...\n",
       "309    [{'selection': {'eventID': '5938855', 'eventTy...\n",
       "310    [{'selection': {'eventID': None, 'eventTypeID'...\n",
       "311    [{'selection': {'eventID': '5937566', 'eventTy...\n",
       "312    [{'selection': {'eventID': '5937566', 'eventTy...\n",
       "313    [{'selection': {'eventID': '5773738', 'eventTy...\n",
       "314    [{'selection': {'eventID': None, 'eventTypeID'...\n",
       "315    [{'selection': {'eventID': None, 'eventTypeID'...\n",
       "Name: legs, Length: 316, dtype: object"
      ]
     },
     "execution_count": 1,
     "metadata": {},
     "output_type": "execute_result"
    }
   ],
   "source": [
    "import json\n",
    "import pandas as pd\n",
    "import codecs\n",
    "\n",
    "bet_data = json.load(codecs.open('/Users/weit/study/ML/bsAI/data0.json', 'r', 'utf-8-sig'))\n",
    "\n",
    "#for bet in bet_data:\n",
    "#    print(bet)\n",
    "\n",
    "data = pd.DataFrame(bet_data)\n",
    "data['legs']\n",
    "\n"
   ]
  },
  {
   "cell_type": "markdown",
   "metadata": {
    "deletable": true,
    "editable": true
   },
   "source": [
    "Make sure you use the optional parmaters in read_csv to convert missing data (indicated by a ?) into NaN, and to add the appropriate column names (BI_RADS, age, shape, margin, density, and severity):"
   ]
  },
  {
   "cell_type": "code",
   "execution_count": 2,
   "metadata": {
    "collapsed": false,
    "deletable": true,
    "editable": true
   },
   "outputs": [
    {
     "data": {
      "text/plain": [
       "betCurrency                  316\n",
       "betID                        316\n",
       "betSource                    316\n",
       "betTimestamp                 316\n",
       "betType                      316\n",
       "customer                     316\n",
       "legs                         316\n",
       "liabilityAmount              316\n",
       "platformReferenceCurrency    316\n",
       "sourceBetType                316\n",
       "totalLegs                    316\n",
       "totalStake                   316\n",
       "dtype: int64"
      ]
     },
     "execution_count": 2,
     "metadata": {},
     "output_type": "execute_result"
    }
   ],
   "source": [
    "data.count()"
   ]
  },
  {
   "cell_type": "markdown",
   "metadata": {
    "deletable": true,
    "editable": true
   },
   "source": [
    "Evaluate whether the data needs cleaning; your model is only as good as the data it's given. Hint: use describe() on the dataframe."
   ]
  },
  {
   "cell_type": "code",
   "execution_count": 3,
   "metadata": {
    "collapsed": false,
    "deletable": true,
    "editable": true
   },
   "outputs": [
    {
     "data": {
      "text/html": [
       "<div>\n",
       "<style scoped>\n",
       "    .dataframe tbody tr th:only-of-type {\n",
       "        vertical-align: middle;\n",
       "    }\n",
       "\n",
       "    .dataframe tbody tr th {\n",
       "        vertical-align: top;\n",
       "    }\n",
       "\n",
       "    .dataframe thead th {\n",
       "        text-align: right;\n",
       "    }\n",
       "</style>\n",
       "<table border=\"1\" class=\"dataframe\">\n",
       "  <thead>\n",
       "    <tr style=\"text-align: right;\">\n",
       "      <th></th>\n",
       "      <th>betCurrency</th>\n",
       "      <th>betID</th>\n",
       "      <th>betSource</th>\n",
       "      <th>betTimestamp</th>\n",
       "      <th>betType</th>\n",
       "      <th>customer</th>\n",
       "      <th>legs</th>\n",
       "      <th>liabilityAmount</th>\n",
       "      <th>platformReferenceCurrency</th>\n",
       "      <th>sourceBetType</th>\n",
       "      <th>totalLegs</th>\n",
       "      <th>totalStake</th>\n",
       "    </tr>\n",
       "  </thead>\n",
       "  <tbody>\n",
       "    <tr>\n",
       "      <th>150</th>\n",
       "      <td>AUD</td>\n",
       "      <td>1132567200</td>\n",
       "      <td>{'channel': 'ONLINE', 'locationID': '10.11.95....</td>\n",
       "      <td>1542141043000</td>\n",
       "      <td>SINGLE</td>\n",
       "      <td>{'customerIsElite': 'false', 'stakeFactor': '0...</td>\n",
       "      <td>[{'selection': {'eventID': '5932868', 'eventTy...</td>\n",
       "      <td>OK 126.50 1.0000</td>\n",
       "      <td>AUD</td>\n",
       "      <td>SGL</td>\n",
       "      <td>1</td>\n",
       "      <td>50.00</td>\n",
       "    </tr>\n",
       "    <tr>\n",
       "      <th>173</th>\n",
       "      <td>AUD</td>\n",
       "      <td>1132567205</td>\n",
       "      <td>{'channel': 'ONLINE', 'locationID': '10.11.91....</td>\n",
       "      <td>1542141059000</td>\n",
       "      <td>SINGLE</td>\n",
       "      <td>{'customerIsElite': 'false', 'stakeFactor': '0...</td>\n",
       "      <td>[{'selection': {'eventID': '5937443', 'eventTy...</td>\n",
       "      <td>OK 1451.60 1.0000</td>\n",
       "      <td>AUD</td>\n",
       "      <td>SGL</td>\n",
       "      <td>1</td>\n",
       "      <td>760.00</td>\n",
       "    </tr>\n",
       "  </tbody>\n",
       "</table>\n",
       "</div>"
      ],
      "text/plain": [
       "    betCurrency       betID  \\\n",
       "150         AUD  1132567200   \n",
       "173         AUD  1132567205   \n",
       "\n",
       "                                             betSource   betTimestamp betType  \\\n",
       "150  {'channel': 'ONLINE', 'locationID': '10.11.95....  1542141043000  SINGLE   \n",
       "173  {'channel': 'ONLINE', 'locationID': '10.11.91....  1542141059000  SINGLE   \n",
       "\n",
       "                                              customer  \\\n",
       "150  {'customerIsElite': 'false', 'stakeFactor': '0...   \n",
       "173  {'customerIsElite': 'false', 'stakeFactor': '0...   \n",
       "\n",
       "                                                  legs    liabilityAmount  \\\n",
       "150  [{'selection': {'eventID': '5932868', 'eventTy...   OK 126.50 1.0000   \n",
       "173  [{'selection': {'eventID': '5937443', 'eventTy...  OK 1451.60 1.0000   \n",
       "\n",
       "    platformReferenceCurrency sourceBetType totalLegs totalStake  \n",
       "150                       AUD           SGL         1      50.00  \n",
       "173                       AUD           SGL         1     760.00  "
      ]
     },
     "execution_count": 3,
     "metadata": {},
     "output_type": "execute_result"
    }
   ],
   "source": [
    "data.loc[data['liabilityAmount'].str.contains(\"OK\")]"
   ]
  },
  {
   "cell_type": "markdown",
   "metadata": {
    "deletable": true,
    "editable": true
   },
   "source": [
    "There are quite a few missing values in the data set. Before we just drop every row that's missing data, let's make sure we don't bias our data in doing so. Does there appear to be any sort of correlation to what sort of data has missing fields? If there were, we'd have to try and go back and fill that data in."
   ]
  },
  {
   "cell_type": "code",
   "execution_count": 4,
   "metadata": {
    "collapsed": false,
    "deletable": true,
    "editable": true
   },
   "outputs": [
    {
     "data": {
      "text/plain": [
       "betCurrency                  314\n",
       "betID                        314\n",
       "betSource                    314\n",
       "betTimestamp                 314\n",
       "betType                      314\n",
       "customer                     314\n",
       "legs                         314\n",
       "liabilityAmount              314\n",
       "platformReferenceCurrency    314\n",
       "sourceBetType                314\n",
       "totalLegs                    314\n",
       "totalStake                   314\n",
       "dtype: int64"
      ]
     },
     "execution_count": 4,
     "metadata": {},
     "output_type": "execute_result"
    }
   ],
   "source": [
    "cleaned_data = data[~data['liabilityAmount'].str.contains(\"OK\")]\n",
    "cleaned_data.count()"
   ]
  },
  {
   "cell_type": "markdown",
   "metadata": {
    "deletable": true,
    "editable": true
   },
   "source": [
    "If the missing data seems randomly distributed, go ahead and drop rows with missing data. Hint: use dropna()."
   ]
  },
  {
   "cell_type": "code",
   "execution_count": 5,
   "metadata": {
    "collapsed": false,
    "deletable": true,
    "editable": true
   },
   "outputs": [
    {
     "ename": "TypeError",
     "evalue": "unsupported operand type(s) for -: 'str' and 'str'",
     "output_type": "error",
     "traceback": [
      "\u001b[0;31m---------------------------------------------------------------------------\u001b[0m",
      "\u001b[0;31mTypeError\u001b[0m                                 Traceback (most recent call last)",
      "\u001b[0;32m<ipython-input-5-a5a0ea51c246>\u001b[0m in \u001b[0;36m<module>\u001b[0;34m()\u001b[0m\n\u001b[1;32m      9\u001b[0m \u001b[0;34m\u001b[0m\u001b[0m\n\u001b[1;32m     10\u001b[0m \u001b[0mX_opt\u001b[0m \u001b[0;34m=\u001b[0m \u001b[0mcleaned_data\u001b[0m\u001b[0;34m[\u001b[0m\u001b[0;34m[\u001b[0m\u001b[0;34m'totalLegs'\u001b[0m\u001b[0;34m,\u001b[0m \u001b[0;34m'totalStake'\u001b[0m\u001b[0;34m,\u001b[0m \u001b[0;34m'liabilityAmount'\u001b[0m\u001b[0;34m]\u001b[0m\u001b[0;34m]\u001b[0m\u001b[0;34m.\u001b[0m\u001b[0mvalues\u001b[0m\u001b[0;34m\u001b[0m\u001b[0m\n\u001b[0;32m---> 11\u001b[0;31m \u001b[0mregressor_OLS\u001b[0m \u001b[0;34m=\u001b[0m \u001b[0msm\u001b[0m\u001b[0;34m.\u001b[0m\u001b[0mOLS\u001b[0m\u001b[0;34m(\u001b[0m\u001b[0mendog\u001b[0m \u001b[0;34m=\u001b[0m \u001b[0mall_classes\u001b[0m\u001b[0;34m,\u001b[0m \u001b[0mexog\u001b[0m \u001b[0;34m=\u001b[0m \u001b[0mX_opt\u001b[0m\u001b[0;34m)\u001b[0m\u001b[0;34m.\u001b[0m\u001b[0mfit\u001b[0m\u001b[0;34m(\u001b[0m\u001b[0;34m)\u001b[0m\u001b[0;34m\u001b[0m\u001b[0m\n\u001b[0m\u001b[1;32m     12\u001b[0m \u001b[0mregressor_OLS\u001b[0m\u001b[0;34m.\u001b[0m\u001b[0msumary\u001b[0m\u001b[0;34m(\u001b[0m\u001b[0;34m)\u001b[0m\u001b[0;34m\u001b[0m\u001b[0m\n",
      "\u001b[0;32m/Users/weit/Library/Enthought/Canopy/edm/envs/User/lib/python3.5/site-packages/statsmodels/regression/linear_model.py\u001b[0m in \u001b[0;36m__init__\u001b[0;34m(self, endog, exog, missing, hasconst, **kwargs)\u001b[0m\n\u001b[1;32m    629\u001b[0m                  **kwargs):\n\u001b[1;32m    630\u001b[0m         super(OLS, self).__init__(endog, exog, missing=missing,\n\u001b[0;32m--> 631\u001b[0;31m                                   hasconst=hasconst, **kwargs)\n\u001b[0m\u001b[1;32m    632\u001b[0m         \u001b[0;32mif\u001b[0m \u001b[0;34m\"weights\"\u001b[0m \u001b[0;32min\u001b[0m \u001b[0mself\u001b[0m\u001b[0;34m.\u001b[0m\u001b[0m_init_keys\u001b[0m\u001b[0;34m:\u001b[0m\u001b[0;34m\u001b[0m\u001b[0m\n\u001b[1;32m    633\u001b[0m             \u001b[0mself\u001b[0m\u001b[0;34m.\u001b[0m\u001b[0m_init_keys\u001b[0m\u001b[0;34m.\u001b[0m\u001b[0mremove\u001b[0m\u001b[0;34m(\u001b[0m\u001b[0;34m\"weights\"\u001b[0m\u001b[0;34m)\u001b[0m\u001b[0;34m\u001b[0m\u001b[0m\n",
      "\u001b[0;32m/Users/weit/Library/Enthought/Canopy/edm/envs/User/lib/python3.5/site-packages/statsmodels/regression/linear_model.py\u001b[0m in \u001b[0;36m__init__\u001b[0;34m(self, endog, exog, weights, missing, hasconst, **kwargs)\u001b[0m\n\u001b[1;32m    524\u001b[0m             \u001b[0mweights\u001b[0m \u001b[0;34m=\u001b[0m \u001b[0mweights\u001b[0m\u001b[0;34m.\u001b[0m\u001b[0msqueeze\u001b[0m\u001b[0;34m(\u001b[0m\u001b[0;34m)\u001b[0m\u001b[0;34m\u001b[0m\u001b[0m\n\u001b[1;32m    525\u001b[0m         super(WLS, self).__init__(endog, exog, missing=missing,\n\u001b[0;32m--> 526\u001b[0;31m                                   weights=weights, hasconst=hasconst, **kwargs)\n\u001b[0m\u001b[1;32m    527\u001b[0m         \u001b[0mnobs\u001b[0m \u001b[0;34m=\u001b[0m \u001b[0mself\u001b[0m\u001b[0;34m.\u001b[0m\u001b[0mexog\u001b[0m\u001b[0;34m.\u001b[0m\u001b[0mshape\u001b[0m\u001b[0;34m[\u001b[0m\u001b[0;36m0\u001b[0m\u001b[0;34m]\u001b[0m\u001b[0;34m\u001b[0m\u001b[0m\n\u001b[1;32m    528\u001b[0m         \u001b[0mweights\u001b[0m \u001b[0;34m=\u001b[0m \u001b[0mself\u001b[0m\u001b[0;34m.\u001b[0m\u001b[0mweights\u001b[0m\u001b[0;34m\u001b[0m\u001b[0m\n",
      "\u001b[0;32m/Users/weit/Library/Enthought/Canopy/edm/envs/User/lib/python3.5/site-packages/statsmodels/regression/linear_model.py\u001b[0m in \u001b[0;36m__init__\u001b[0;34m(self, endog, exog, **kwargs)\u001b[0m\n\u001b[1;32m     93\u001b[0m     \"\"\"\n\u001b[1;32m     94\u001b[0m     \u001b[0;32mdef\u001b[0m \u001b[0m__init__\u001b[0m\u001b[0;34m(\u001b[0m\u001b[0mself\u001b[0m\u001b[0;34m,\u001b[0m \u001b[0mendog\u001b[0m\u001b[0;34m,\u001b[0m \u001b[0mexog\u001b[0m\u001b[0;34m,\u001b[0m \u001b[0;34m**\u001b[0m\u001b[0mkwargs\u001b[0m\u001b[0;34m)\u001b[0m\u001b[0;34m:\u001b[0m\u001b[0;34m\u001b[0m\u001b[0m\n\u001b[0;32m---> 95\u001b[0;31m         \u001b[0msuper\u001b[0m\u001b[0;34m(\u001b[0m\u001b[0mRegressionModel\u001b[0m\u001b[0;34m,\u001b[0m \u001b[0mself\u001b[0m\u001b[0;34m)\u001b[0m\u001b[0;34m.\u001b[0m\u001b[0m__init__\u001b[0m\u001b[0;34m(\u001b[0m\u001b[0mendog\u001b[0m\u001b[0;34m,\u001b[0m \u001b[0mexog\u001b[0m\u001b[0;34m,\u001b[0m \u001b[0;34m**\u001b[0m\u001b[0mkwargs\u001b[0m\u001b[0;34m)\u001b[0m\u001b[0;34m\u001b[0m\u001b[0m\n\u001b[0m\u001b[1;32m     96\u001b[0m         \u001b[0mself\u001b[0m\u001b[0;34m.\u001b[0m\u001b[0m_data_attr\u001b[0m\u001b[0;34m.\u001b[0m\u001b[0mextend\u001b[0m\u001b[0;34m(\u001b[0m\u001b[0;34m[\u001b[0m\u001b[0;34m'pinv_wexog'\u001b[0m\u001b[0;34m,\u001b[0m \u001b[0;34m'wendog'\u001b[0m\u001b[0;34m,\u001b[0m \u001b[0;34m'wexog'\u001b[0m\u001b[0;34m,\u001b[0m \u001b[0;34m'weights'\u001b[0m\u001b[0;34m]\u001b[0m\u001b[0;34m)\u001b[0m\u001b[0;34m\u001b[0m\u001b[0m\n\u001b[1;32m     97\u001b[0m \u001b[0;34m\u001b[0m\u001b[0m\n",
      "\u001b[0;32m/Users/weit/Library/Enthought/Canopy/edm/envs/User/lib/python3.5/site-packages/statsmodels/base/model.py\u001b[0m in \u001b[0;36m__init__\u001b[0;34m(self, endog, exog, **kwargs)\u001b[0m\n\u001b[1;32m    210\u001b[0m \u001b[0;34m\u001b[0m\u001b[0m\n\u001b[1;32m    211\u001b[0m     \u001b[0;32mdef\u001b[0m \u001b[0m__init__\u001b[0m\u001b[0;34m(\u001b[0m\u001b[0mself\u001b[0m\u001b[0;34m,\u001b[0m \u001b[0mendog\u001b[0m\u001b[0;34m,\u001b[0m \u001b[0mexog\u001b[0m\u001b[0;34m=\u001b[0m\u001b[0;32mNone\u001b[0m\u001b[0;34m,\u001b[0m \u001b[0;34m**\u001b[0m\u001b[0mkwargs\u001b[0m\u001b[0;34m)\u001b[0m\u001b[0;34m:\u001b[0m\u001b[0;34m\u001b[0m\u001b[0m\n\u001b[0;32m--> 212\u001b[0;31m         \u001b[0msuper\u001b[0m\u001b[0;34m(\u001b[0m\u001b[0mLikelihoodModel\u001b[0m\u001b[0;34m,\u001b[0m \u001b[0mself\u001b[0m\u001b[0;34m)\u001b[0m\u001b[0;34m.\u001b[0m\u001b[0m__init__\u001b[0m\u001b[0;34m(\u001b[0m\u001b[0mendog\u001b[0m\u001b[0;34m,\u001b[0m \u001b[0mexog\u001b[0m\u001b[0;34m,\u001b[0m \u001b[0;34m**\u001b[0m\u001b[0mkwargs\u001b[0m\u001b[0;34m)\u001b[0m\u001b[0;34m\u001b[0m\u001b[0m\n\u001b[0m\u001b[1;32m    213\u001b[0m         \u001b[0mself\u001b[0m\u001b[0;34m.\u001b[0m\u001b[0minitialize\u001b[0m\u001b[0;34m(\u001b[0m\u001b[0;34m)\u001b[0m\u001b[0;34m\u001b[0m\u001b[0m\n\u001b[1;32m    214\u001b[0m \u001b[0;34m\u001b[0m\u001b[0m\n",
      "\u001b[0;32m/Users/weit/Library/Enthought/Canopy/edm/envs/User/lib/python3.5/site-packages/statsmodels/base/model.py\u001b[0m in \u001b[0;36m__init__\u001b[0;34m(self, endog, exog, **kwargs)\u001b[0m\n\u001b[1;32m     61\u001b[0m         \u001b[0mhasconst\u001b[0m \u001b[0;34m=\u001b[0m \u001b[0mkwargs\u001b[0m\u001b[0;34m.\u001b[0m\u001b[0mpop\u001b[0m\u001b[0;34m(\u001b[0m\u001b[0;34m'hasconst'\u001b[0m\u001b[0;34m,\u001b[0m \u001b[0;32mNone\u001b[0m\u001b[0;34m)\u001b[0m\u001b[0;34m\u001b[0m\u001b[0m\n\u001b[1;32m     62\u001b[0m         self.data = self._handle_data(endog, exog, missing, hasconst,\n\u001b[0;32m---> 63\u001b[0;31m                                       **kwargs)\n\u001b[0m\u001b[1;32m     64\u001b[0m         \u001b[0mself\u001b[0m\u001b[0;34m.\u001b[0m\u001b[0mk_constant\u001b[0m \u001b[0;34m=\u001b[0m \u001b[0mself\u001b[0m\u001b[0;34m.\u001b[0m\u001b[0mdata\u001b[0m\u001b[0;34m.\u001b[0m\u001b[0mk_constant\u001b[0m\u001b[0;34m\u001b[0m\u001b[0m\n\u001b[1;32m     65\u001b[0m         \u001b[0mself\u001b[0m\u001b[0;34m.\u001b[0m\u001b[0mexog\u001b[0m \u001b[0;34m=\u001b[0m \u001b[0mself\u001b[0m\u001b[0;34m.\u001b[0m\u001b[0mdata\u001b[0m\u001b[0;34m.\u001b[0m\u001b[0mexog\u001b[0m\u001b[0;34m\u001b[0m\u001b[0m\n",
      "\u001b[0;32m/Users/weit/Library/Enthought/Canopy/edm/envs/User/lib/python3.5/site-packages/statsmodels/base/model.py\u001b[0m in \u001b[0;36m_handle_data\u001b[0;34m(self, endog, exog, missing, hasconst, **kwargs)\u001b[0m\n\u001b[1;32m     86\u001b[0m \u001b[0;34m\u001b[0m\u001b[0m\n\u001b[1;32m     87\u001b[0m     \u001b[0;32mdef\u001b[0m \u001b[0m_handle_data\u001b[0m\u001b[0;34m(\u001b[0m\u001b[0mself\u001b[0m\u001b[0;34m,\u001b[0m \u001b[0mendog\u001b[0m\u001b[0;34m,\u001b[0m \u001b[0mexog\u001b[0m\u001b[0;34m,\u001b[0m \u001b[0mmissing\u001b[0m\u001b[0;34m,\u001b[0m \u001b[0mhasconst\u001b[0m\u001b[0;34m,\u001b[0m \u001b[0;34m**\u001b[0m\u001b[0mkwargs\u001b[0m\u001b[0;34m)\u001b[0m\u001b[0;34m:\u001b[0m\u001b[0;34m\u001b[0m\u001b[0m\n\u001b[0;32m---> 88\u001b[0;31m         \u001b[0mdata\u001b[0m \u001b[0;34m=\u001b[0m \u001b[0mhandle_data\u001b[0m\u001b[0;34m(\u001b[0m\u001b[0mendog\u001b[0m\u001b[0;34m,\u001b[0m \u001b[0mexog\u001b[0m\u001b[0;34m,\u001b[0m \u001b[0mmissing\u001b[0m\u001b[0;34m,\u001b[0m \u001b[0mhasconst\u001b[0m\u001b[0;34m,\u001b[0m \u001b[0;34m**\u001b[0m\u001b[0mkwargs\u001b[0m\u001b[0;34m)\u001b[0m\u001b[0;34m\u001b[0m\u001b[0m\n\u001b[0m\u001b[1;32m     89\u001b[0m         \u001b[0;31m# kwargs arrays could have changed, easier to just attach here\u001b[0m\u001b[0;34m\u001b[0m\u001b[0;34m\u001b[0m\u001b[0m\n\u001b[1;32m     90\u001b[0m         \u001b[0;32mfor\u001b[0m \u001b[0mkey\u001b[0m \u001b[0;32min\u001b[0m \u001b[0mkwargs\u001b[0m\u001b[0;34m:\u001b[0m\u001b[0;34m\u001b[0m\u001b[0m\n",
      "\u001b[0;32m/Users/weit/Library/Enthought/Canopy/edm/envs/User/lib/python3.5/site-packages/statsmodels/base/data.py\u001b[0m in \u001b[0;36mhandle_data\u001b[0;34m(endog, exog, missing, hasconst, **kwargs)\u001b[0m\n\u001b[1;32m    628\u001b[0m     \u001b[0mklass\u001b[0m \u001b[0;34m=\u001b[0m \u001b[0mhandle_data_class_factory\u001b[0m\u001b[0;34m(\u001b[0m\u001b[0mendog\u001b[0m\u001b[0;34m,\u001b[0m \u001b[0mexog\u001b[0m\u001b[0;34m)\u001b[0m\u001b[0;34m\u001b[0m\u001b[0m\n\u001b[1;32m    629\u001b[0m     return klass(endog, exog=exog, missing=missing, hasconst=hasconst,\n\u001b[0;32m--> 630\u001b[0;31m                  **kwargs)\n\u001b[0m",
      "\u001b[0;32m/Users/weit/Library/Enthought/Canopy/edm/envs/User/lib/python3.5/site-packages/statsmodels/base/data.py\u001b[0m in \u001b[0;36m__init__\u001b[0;34m(self, endog, exog, missing, hasconst, **kwargs)\u001b[0m\n\u001b[1;32m     77\u001b[0m \u001b[0;34m\u001b[0m\u001b[0m\n\u001b[1;32m     78\u001b[0m         \u001b[0;31m# this has side-effects, attaches k_constant and const_idx\u001b[0m\u001b[0;34m\u001b[0m\u001b[0;34m\u001b[0m\u001b[0m\n\u001b[0;32m---> 79\u001b[0;31m         \u001b[0mself\u001b[0m\u001b[0;34m.\u001b[0m\u001b[0m_handle_constant\u001b[0m\u001b[0;34m(\u001b[0m\u001b[0mhasconst\u001b[0m\u001b[0;34m)\u001b[0m\u001b[0;34m\u001b[0m\u001b[0m\n\u001b[0m\u001b[1;32m     80\u001b[0m         \u001b[0mself\u001b[0m\u001b[0;34m.\u001b[0m\u001b[0m_check_integrity\u001b[0m\u001b[0;34m(\u001b[0m\u001b[0;34m)\u001b[0m\u001b[0;34m\u001b[0m\u001b[0m\n\u001b[1;32m     81\u001b[0m         \u001b[0mself\u001b[0m\u001b[0;34m.\u001b[0m\u001b[0m_cache\u001b[0m \u001b[0;34m=\u001b[0m \u001b[0mresettable_cache\u001b[0m\u001b[0;34m(\u001b[0m\u001b[0;34m)\u001b[0m\u001b[0;34m\u001b[0m\u001b[0m\n",
      "\u001b[0;32m/Users/weit/Library/Enthought/Canopy/edm/envs/User/lib/python3.5/site-packages/statsmodels/base/data.py\u001b[0m in \u001b[0;36m_handle_constant\u001b[0;34m(self, hasconst)\u001b[0m\n\u001b[1;32m    129\u001b[0m             \u001b[0;31m# detect where the constant is\u001b[0m\u001b[0;34m\u001b[0m\u001b[0;34m\u001b[0m\u001b[0m\n\u001b[1;32m    130\u001b[0m             \u001b[0mcheck_implicit\u001b[0m \u001b[0;34m=\u001b[0m \u001b[0;32mFalse\u001b[0m\u001b[0;34m\u001b[0m\u001b[0m\n\u001b[0;32m--> 131\u001b[0;31m             \u001b[0mconst_idx\u001b[0m \u001b[0;34m=\u001b[0m \u001b[0mnp\u001b[0m\u001b[0;34m.\u001b[0m\u001b[0mwhere\u001b[0m\u001b[0;34m(\u001b[0m\u001b[0mself\u001b[0m\u001b[0;34m.\u001b[0m\u001b[0mexog\u001b[0m\u001b[0;34m.\u001b[0m\u001b[0mptp\u001b[0m\u001b[0;34m(\u001b[0m\u001b[0maxis\u001b[0m\u001b[0;34m=\u001b[0m\u001b[0;36m0\u001b[0m\u001b[0;34m)\u001b[0m \u001b[0;34m==\u001b[0m \u001b[0;36m0\u001b[0m\u001b[0;34m)\u001b[0m\u001b[0;34m[\u001b[0m\u001b[0;36m0\u001b[0m\u001b[0;34m]\u001b[0m\u001b[0;34m.\u001b[0m\u001b[0msqueeze\u001b[0m\u001b[0;34m(\u001b[0m\u001b[0;34m)\u001b[0m\u001b[0;34m\u001b[0m\u001b[0m\n\u001b[0m\u001b[1;32m    132\u001b[0m             \u001b[0mself\u001b[0m\u001b[0;34m.\u001b[0m\u001b[0mk_constant\u001b[0m \u001b[0;34m=\u001b[0m \u001b[0mconst_idx\u001b[0m\u001b[0;34m.\u001b[0m\u001b[0msize\u001b[0m\u001b[0;34m\u001b[0m\u001b[0m\n\u001b[1;32m    133\u001b[0m \u001b[0;34m\u001b[0m\u001b[0m\n",
      "\u001b[0;32m/Users/weit/Library/Enthought/Canopy/edm/envs/User/lib/python3.5/site-packages/numpy/core/_methods.py\u001b[0m in \u001b[0;36m_ptp\u001b[0;34m(a, axis, out, keepdims)\u001b[0m\n\u001b[1;32m    153\u001b[0m         \u001b[0mumr_maximum\u001b[0m\u001b[0;34m(\u001b[0m\u001b[0ma\u001b[0m\u001b[0;34m,\u001b[0m \u001b[0maxis\u001b[0m\u001b[0;34m,\u001b[0m \u001b[0;32mNone\u001b[0m\u001b[0;34m,\u001b[0m \u001b[0mout\u001b[0m\u001b[0;34m,\u001b[0m \u001b[0mkeepdims\u001b[0m\u001b[0;34m)\u001b[0m\u001b[0;34m,\u001b[0m\u001b[0;34m\u001b[0m\u001b[0m\n\u001b[1;32m    154\u001b[0m         \u001b[0mumr_minimum\u001b[0m\u001b[0;34m(\u001b[0m\u001b[0ma\u001b[0m\u001b[0;34m,\u001b[0m \u001b[0maxis\u001b[0m\u001b[0;34m,\u001b[0m \u001b[0;32mNone\u001b[0m\u001b[0;34m,\u001b[0m \u001b[0;32mNone\u001b[0m\u001b[0;34m,\u001b[0m \u001b[0mkeepdims\u001b[0m\u001b[0;34m)\u001b[0m\u001b[0;34m,\u001b[0m\u001b[0;34m\u001b[0m\u001b[0m\n\u001b[0;32m--> 155\u001b[0;31m         \u001b[0mout\u001b[0m\u001b[0;34m\u001b[0m\u001b[0m\n\u001b[0m\u001b[1;32m    156\u001b[0m     )\n",
      "\u001b[0;31mTypeError\u001b[0m: unsupported operand type(s) for -: 'str' and 'str'"
     ]
    }
   ],
   "source": [
    "import statsmodels.formula.api as sm\n",
    "import numpy\n",
    "\n",
    "numpy.random.seed(1234)\n",
    "\n",
    "all_classes = numpy.random.randint(2, size=314)\n",
    "\n",
    "all_features = cleaned_data[['totalLegs', 'totalStake', 'liabilityAmount']].values\n",
    "\n",
    "X_opt = cleaned_data[['totalLegs', 'totalStake', 'liabilityAmount']].values\n",
    "regressor_OLS = sm.OLS(endog = all_classes, exog = X_opt).fit()\n",
    "regressor_OLS.sumary()"
   ]
  },
  {
   "cell_type": "markdown",
   "metadata": {
    "collapsed": true,
    "deletable": true,
    "editable": true
   },
   "source": [
    "Next you'll need to convert the Pandas dataframes into numpy arrays that can be used by scikit_learn. Create an array that extracts only the feature data we want to work with (age, shape, margin, and density) and another array that contains the classes (severity). You'll also need an array of the feature name labels."
   ]
  },
  {
   "cell_type": "code",
   "execution_count": 6,
   "metadata": {
    "collapsed": false,
    "deletable": true,
    "editable": true
   },
   "outputs": [
    {
     "name": "stdout",
     "output_type": "stream",
     "text": [
      "[1 1 0 1 0 0 0 1 1 1 1 1 0 0 1 0 0 0 0 0 0 0 0 0 1 0 1 1 0 0 1 0 0 1 0 1 0\n",
      " 0 0 1 1 1 0 1 1 0 1 0 1 0 1 1 1 1 0 1 0 1 1 0 0 1 0 0 1 1 1 0 0 0 1 1 1 1\n",
      " 1 1 1 0 1 0 1 0 1 0 0 0 0 0 0 0 0 1 1 1 0 1 0 0 1 1 0 1 0 1 1 0 1 0 0 0 1\n",
      " 1 0 0 0 0 0 1 1 1 1 0 1 0 1 0 1 0 1 0 1 0 1 0 1 0 1 1 1 1 0 1 1 1 0 0 0 1\n",
      " 0 1 0 1 1 0 1 0 0 1 1 1 1 0 0 0 1 0 0 0 0 0 0 0 1 0 0 1 1 0 0 0 1 0 0 1 1\n",
      " 0 0 1 1 0 0 1 1 0 0 1 1 0 1 0 0 1 1 1 0 0 1 1 1 0 0 0 1 1 0 0 1 1 1 0 1 1\n",
      " 1 1 1 1 0 0 1 0 1 1 0 1 1 0 0 0 1 0 1 0 0 0 0 0 1 1 1 1 1 0 1 1 1 1 0 1 1\n",
      " 1 1 1 0 1 1 0 1 0 0 0 0 1 1 1 1 1 0 1 0 0 0 1 1 1 0 0 1 1 1 0 0 1 0 0 1 1\n",
      " 1 1 1 0 1 1 0 0 1 0 0 1 1 0 1 1 0 1]\n"
     ]
    },
    {
     "data": {
      "text/plain": [
       "array([['1', '0.01', '0.01'],\n",
       "       ['1', '5.00', '11.87'],\n",
       "       ['1', '5.00', '15.00'],\n",
       "       ['1', '2.00', '62.00'],\n",
       "       ['1', '15.00', '32.25'],\n",
       "       ['1', '0.50', '1.25'],\n",
       "       ['3', '5.00', '8.47'],\n",
       "       ['3', '20.00', '238.12'],\n",
       "       ['1', '10.00', '210.00'],\n",
       "       ['1', '5.00', '31.50'],\n",
       "       ['7', '7.00', '1018.62'],\n",
       "       ['1', '2.00', '9.00'],\n",
       "       ['1', '45.00', '72.67'],\n",
       "       ['2', '6.50', '9.09'],\n",
       "       ['1', '3.00', '24.00'],\n",
       "       ['1', '6.00', '9.99'],\n",
       "       ['1', '5.00', '8.33'],\n",
       "       ['2', '100.00', '841.00'],\n",
       "       ['1', '2.00', '10.00'],\n",
       "       ['1', '0.50', '1.18'],\n",
       "       ['1', '2.00', '4.60'],\n",
       "       ['1', '2.00', '30.00'],\n",
       "       ['1', '2.00', '10.75'],\n",
       "       ['1', '10.00', '17.60'],\n",
       "       ['1', '10.00', '18.50'],\n",
       "       ['1', '10.00', '20.70'],\n",
       "       ['1', '10.00', '18.10'],\n",
       "       ['1', '10.00', '18.80'],\n",
       "       ['1', '7.50', '14.32'],\n",
       "       ['1', '12.50', '22.25'],\n",
       "       ['3', '5.00', '35.06'],\n",
       "       ['1', '10.00', '16.60'],\n",
       "       ['1', '15.10', '15.70'],\n",
       "       ['1', '2.00', '14.00'],\n",
       "       ['3', '70.00', '562.67'],\n",
       "       ['2', '10.00', '32.57'],\n",
       "       ['1', '5.00', '15.00'],\n",
       "       ['2', '20.00', '72.96'],\n",
       "       ['4', '10.00', '3409.67'],\n",
       "       ['1', '25.00', '82.50'],\n",
       "       ['1', '25.00', '150.00'],\n",
       "       ['2', '5.50', '46.75'],\n",
       "       ['5', '26.00', '218.64'],\n",
       "       ['1', '50.00', '77.50'],\n",
       "       ['1', '1.02', '3.03'],\n",
       "       ['1', '3.00', '21.75'],\n",
       "       ['5', '0.41', '215.33'],\n",
       "       ['1', '2.00', '15.50'],\n",
       "       ['1', '10.00', '24.00'],\n",
       "       ['1', '20.00', '320.00'],\n",
       "       ['5', '6.00', '0.00'],\n",
       "       ['3', '24.05', '94.51'],\n",
       "       ['1', '5.00', '10.00'],\n",
       "       ['1', '1.00', '2.37'],\n",
       "       ['3', '30.00', '132.74'],\n",
       "       ['7', '1.00', '394.70'],\n",
       "       ['1', '20.00', '220.00'],\n",
       "       ['1', '5.00', '33.75'],\n",
       "       ['1', '4.00', '19.00'],\n",
       "       ['1', '5.00', '280.00'],\n",
       "       ['3', '10.00', '62.50'],\n",
       "       ['1', '2.00', '77.00'],\n",
       "       ['1', '2.00', '122.00'],\n",
       "       ['1', '2.00', '52.00'],\n",
       "       ['1', '50.00', '400.00'],\n",
       "       ['1', '2.16', '7.02'],\n",
       "       ['6', '5.00', '48.17'],\n",
       "       ['1', '10.00', '21.00'],\n",
       "       ['1', '10.00', '19.10'],\n",
       "       ['1', '10.00', '14.30'],\n",
       "       ['7', '25.00', '368.75'],\n",
       "       ['1', '5.00', '30.00'],\n",
       "       ['1', '5.00', '15.50'],\n",
       "       ['3', '5.00', '30.46'],\n",
       "       ['1', '20.00', '42.00'],\n",
       "       ['3', '25.00', '51.15'],\n",
       "       ['1', '20.00', '57.50'],\n",
       "       ['1', '0.01', '0.03'],\n",
       "       ['1', '9.00', '31.95'],\n",
       "       ['1', '80.07', '1120.98'],\n",
       "       ['1', '159.63', '670.44'],\n",
       "       ['1', '50.00', '120.00'],\n",
       "       ['4', '20.00', '214.77'],\n",
       "       ['3', '9.67', '64.15'],\n",
       "       ['1', '10.00', '30.00'],\n",
       "       ['2', '5.00', '12.54'],\n",
       "       ['1', '4.57', '4.75'],\n",
       "       ['1', '5.00', '16.62'],\n",
       "       ['1', '5.00', '37.50'],\n",
       "       ['1', '10.00', '32.00'],\n",
       "       ['3', '10.00', '70.48'],\n",
       "       ['1', '11.00', '28.32'],\n",
       "       ['3', '20.00', '88.39'],\n",
       "       ['1', '1.25', '2.38'],\n",
       "       ['3', '1.70', '3.47'],\n",
       "       ['5', '10.00', '29.84'],\n",
       "       ['1', '10.00', '100.00'],\n",
       "       ['1', '0.01', '0.51'],\n",
       "       ['1', '10.00', '54.25'],\n",
       "       ['2', '5.00', '14.33'],\n",
       "       ['1', '1.00', '1.10'],\n",
       "       ['3', '60.00', '424.67'],\n",
       "       ['3', '20.00', '73.11'],\n",
       "       ['6', '5.00', '430.79'],\n",
       "       ['2', '10.00', '65.32'],\n",
       "       ['1', '0.50', '1.50'],\n",
       "       ['1', '5.00', '11.25'],\n",
       "       ['2', '2.30', '202.40'],\n",
       "       ['1', '25.00', '157.50'],\n",
       "       ['3', '15.00', '40.13'],\n",
       "       ['3', '10.00', '70.18'],\n",
       "       ['3', '5.00', '10.76'],\n",
       "       ['1', '0.15', '0.75'],\n",
       "       ['1', '10.00', '57.50'],\n",
       "       ['1', '10.00', '110.00'],\n",
       "       ['1', '8.00', '104.00'],\n",
       "       ['7', '5.00', '78.36'],\n",
       "       ['1', '0.10', '0.25'],\n",
       "       ['1', '0.20', '0.51'],\n",
       "       ['3', '6.00', '0.00'],\n",
       "       ['1', '50.00', '90.00'],\n",
       "       ['1', '13.60', '15.23'],\n",
       "       ['3', '100.00', '3553.85'],\n",
       "       ['3', '10.00', '20.46'],\n",
       "       ['1', '25.00', '53.75'],\n",
       "       ['2', '3.00', '76.38'],\n",
       "       ['1', '10.00', '63.50'],\n",
       "       ['1', '10.00', '220.00'],\n",
       "       ['1', '25.00', '110.00'],\n",
       "       ['6', '10.00', '269.82'],\n",
       "       ['1', '5.00', '25.00'],\n",
       "       ['3', '5.00', '46.20'],\n",
       "       ['4', '25.00', '265.93'],\n",
       "       ['1', '1.92', '2.68'],\n",
       "       ['1', '1.92', '2.40'],\n",
       "       ['1', '1.92', '2.86'],\n",
       "       ['1', '1.92', '3.11'],\n",
       "       ['1', '10.00', '15.00'],\n",
       "       ['1', '20.00', '80.00'],\n",
       "       ['1', '40.00', '320.00'],\n",
       "       ['3', '10.00', '112.38'],\n",
       "       ['3', '2.13', '4.35'],\n",
       "       ['1', '35.00', '112.00'],\n",
       "       ['3', '100.00', '204.60'],\n",
       "       ['1', '40.00', '90.00'],\n",
       "       ['15', '20.00', '5845.45'],\n",
       "       ['1', '30.00', '57.30'],\n",
       "       ['1', '40.00', '82.80'],\n",
       "       ['4', '9.28', '119.87'],\n",
       "       ['8', '5.00', '260.00'],\n",
       "       ['5', '15.00', '0.00'],\n",
       "       ['2', '10.22', '66.75'],\n",
       "       ['2', '2.00', '110.96'],\n",
       "       ['2', '15.00', '36.00'],\n",
       "       ['2', '500.00', '682.00'],\n",
       "       ['3', '35.00', '273.05'],\n",
       "       ['3', '20.00', '706.81'],\n",
       "       ['1', '1.00', '23.00'],\n",
       "       ['2', '4.92', '19.48'],\n",
       "       ['1', '20.00', '108.50'],\n",
       "       ['3', '11.60', '210.47'],\n",
       "       ['6', '50.00', '2193.75'],\n",
       "       ['3', '50.00', '340.10'],\n",
       "       ['1', '5.00', '30.00'],\n",
       "       ['1', '1.00', '14.00'],\n",
       "       ['4', '1.20', '0.00'],\n",
       "       ['4', '10.00', '1850.68'],\n",
       "       ['1', '10.00', '25.00'],\n",
       "       ['1', '10.00', '19.10'],\n",
       "       ['1', '4.00', '162.40'],\n",
       "       ['2', '3.00', '0.00'],\n",
       "       ['2', '7.50', '100.48'],\n",
       "       ['4', '2.00', '194.18'],\n",
       "       ['1', '50.00', '86.00'],\n",
       "       ['1', '0.01', '0.51'],\n",
       "       ['6', '5.00', '68.75'],\n",
       "       ['6', '100.00', '1496.54'],\n",
       "       ['1', '0.09', '0.81'],\n",
       "       ['1', '20.00', '270.00'],\n",
       "       ['1', '6.00', '324.75'],\n",
       "       ['1', '2.00', '377.00'],\n",
       "       ['1', '4.00', '279.00'],\n",
       "       ['1', '2.30', '105.80'],\n",
       "       ['1', '4.00', '104.00'],\n",
       "       ['1', '3.00', '18.00'],\n",
       "       ['1', '0.50', '33.50'],\n",
       "       ['1', '10.00', '23.75'],\n",
       "       ['1', '0.50', '3.15'],\n",
       "       ['1', '0.50', '11.00'],\n",
       "       ['1', '2.00', '2.70'],\n",
       "       ['1', '0.78', '2.34'],\n",
       "       ['4', '10.00', '75.03'],\n",
       "       ['2', '30.00', '896.58'],\n",
       "       ['3', '9.37', '20.18'],\n",
       "       ['1', '3.00', '3.72'],\n",
       "       ['1', '2.00', '3.00'],\n",
       "       ['1', '2.00', '2.20'],\n",
       "       ['3', '2.00', '4.30'],\n",
       "       ['8', '5.00', '421547.61'],\n",
       "       ['1', '150.00', '279.00'],\n",
       "       ['3', '10.00', '24.92'],\n",
       "       ['1', '25.00', '450.00'],\n",
       "       ['1', '10.00', '210.00'],\n",
       "       ['1', '10.00', '11.10'],\n",
       "       ['1', '20.00', '46.00'],\n",
       "       ['3', '1.00', '6.79'],\n",
       "       ['6', '10.00', '281.43'],\n",
       "       ['3', '43.00', '301.18'],\n",
       "       ['1', '5.00', '35.00'],\n",
       "       ['3', '1.00', '3.65'],\n",
       "       ['1', '0.09', '0.54'],\n",
       "       ['3', '19.98', '25.30'],\n",
       "       ['1', '0.28', '0.36'],\n",
       "       ['8', '19.00', '856.59'],\n",
       "       ['1', '300.00', '990.00'],\n",
       "       ['1', '180.00', '203.40'],\n",
       "       ['1', '3.00', '453.00'],\n",
       "       ['8', '1.00', '251.00'],\n",
       "       ['3', '50.00', '107.69'],\n",
       "       ['1', '10.00', '23.75'],\n",
       "       ['2', '3.00', '0.00'],\n",
       "       ['5', '5.00', '279.97'],\n",
       "       ['1', '15.00', '34.50'],\n",
       "       ['1', '1000.00', '1533.00'],\n",
       "       ['1', '34.00', '119.00'],\n",
       "       ['3', '5.00', '2429.42'],\n",
       "       ['1', '0.50', '13.00'],\n",
       "       ['5', '25.00', '44.14'],\n",
       "       ['1', '3.00', '21.00'],\n",
       "       ['2', '25.00', '204.49'],\n",
       "       ['1', '0.09', '0.81'],\n",
       "       ['1', '61.00', '109.80'],\n",
       "       ['4', '4.00', '17940.00'],\n",
       "       ['3', '50.00', '107.69'],\n",
       "       ['4', '100.00', '2409.66'],\n",
       "       ['3', '10.00', '65.00'],\n",
       "       ['3', '1.98', '0.00'],\n",
       "       ['2', '5.00', '75.00'],\n",
       "       ['1', '3.00', '69.00'],\n",
       "       ['2', '25.00', '219.07'],\n",
       "       ['3', '5.00', '1204.21'],\n",
       "       ['1', '5.00', '8.55'],\n",
       "       ['1', '0.22', '1.21'],\n",
       "       ['1', '0.28', '1.26'],\n",
       "       ['1', '2.00', '6.70'],\n",
       "       ['1', '10.00', '17.00'],\n",
       "       ['1', '10.00', '18.50'],\n",
       "       ['1', '10.00', '17.60'],\n",
       "       ['5', '5.00', '47.42'],\n",
       "       ['1', '1.00', '2.27'],\n",
       "       ['1', '24.00', '288.00'],\n",
       "       ['3', '50.00', '170.19'],\n",
       "       ['1', '2.00', '54.00'],\n",
       "       ['9', '30.00', '127.91'],\n",
       "       ['1', '5.00', '19.06'],\n",
       "       ['3', '5.00', '19.65'],\n",
       "       ['1', '10.00', '24.00'],\n",
       "       ['1', '15.00', '33.75'],\n",
       "       ['1', '150.00', '315.00'],\n",
       "       ['3', '100.00', '533.61'],\n",
       "       ['2', '25.00', '160.48'],\n",
       "       ['1', '250.00', '450.00'],\n",
       "       ['7', '1.00', '4985.35'],\n",
       "       ['3', '2.00', '94.87'],\n",
       "       ['1', '5.00', '16.25'],\n",
       "       ['1', '20.00', '37.00'],\n",
       "       ['4', '30.00', '198.79'],\n",
       "       ['1', '9.50', '19.95'],\n",
       "       ['3', '1.98', '0.00'],\n",
       "       ['4', '1.00', '16.25'],\n",
       "       ['1', '5.00', '13.50'],\n",
       "       ['2', '5.00', '22.81'],\n",
       "       ['1', '10.00', '110.00'],\n",
       "       ['3', '10.00', '70.45'],\n",
       "       ['4', '20.00', '132.66'],\n",
       "       ['2', '20.00', '45.89'],\n",
       "       ['7', '10.00', '742.50'],\n",
       "       ['1', '2.00', '7.00'],\n",
       "       ['8', '1.00', '344.71'],\n",
       "       ['1', '5.00', '9.60'],\n",
       "       ['2', '20.00', '79.20'],\n",
       "       ['1', '2.00', '14.60'],\n",
       "       ['1', '50.00', '200.00'],\n",
       "       ['1', '310.00', '1302.00'],\n",
       "       ['3', '1.98', '0.00'],\n",
       "       ['3', '5.00', '0.00'],\n",
       "       ['3', '14.65', '440.91'],\n",
       "       ['3', '100.00', '215.38'],\n",
       "       ['2', '50.00', '159.03'],\n",
       "       ['1', '4.00', '324.00'],\n",
       "       ['2', '20.00', '66.00'],\n",
       "       ['3', '1.98', '0.00'],\n",
       "       ['1', '7.00', '14.35'],\n",
       "       ['3', '10.00', '48.08'],\n",
       "       ['1', '20.00', '80.00'],\n",
       "       ['1', '2.94', '8.08'],\n",
       "       ['1', '5.00', '16.00'],\n",
       "       ['1', '3.35', '13.40'],\n",
       "       ['1', '6.00', '306.00'],\n",
       "       ['1', '11.00', '26.40'],\n",
       "       ['3', '10.00', '84.46'],\n",
       "       ['1', '200.00', '376.00'],\n",
       "       ['1', '380.00', '661.20'],\n",
       "       ['1', '60.00', '240.00'],\n",
       "       ['1', '20.29', '38.95'],\n",
       "       ['1', '10.00', '24.00'],\n",
       "       ['3', '30.00', '108.27'],\n",
       "       ['3', '5.00', '86.27'],\n",
       "       ['1', '42.00', '113.40'],\n",
       "       ['2', '15.00', '750.48'],\n",
       "       ['4', '3150.00', '20614.65'],\n",
       "       ['1', '2.00', '12.00'],\n",
       "       ['1', '12.00', '28.80'],\n",
       "       ['1', '0.48', '2.88']], dtype=object)"
      ]
     },
     "execution_count": 6,
     "metadata": {},
     "output_type": "execute_result"
    }
   ],
   "source": [
    "import numpy\n",
    "\n",
    "all_features = cleaned_data[['totalLegs', 'totalStake', 'liabilityAmount']].values\n",
    "\n",
    "numpy.random.seed(1234)\n",
    "\n",
    "all_classes = numpy.random.randint(2, size=314)\n",
    "\n",
    "print(all_classes)\n",
    "\n",
    "feature_names = ['totalLegs', 'totalStake', 'liabilityAmount']\n",
    "\n",
    "all_features"
   ]
  },
  {
   "cell_type": "code",
   "execution_count": 7,
   "metadata": {
    "collapsed": false,
    "deletable": true,
    "editable": true
   },
   "outputs": [
    {
     "ename": "ValueError",
     "evalue": "zero-size array to reduction operation minimum which has no identity",
     "output_type": "error",
     "traceback": [
      "\u001b[0;31m---------------------------------------------------------------------------\u001b[0m",
      "\u001b[0;31mValueError\u001b[0m                                Traceback (most recent call last)",
      "\u001b[0;32m<ipython-input-7-e461350d0c90>\u001b[0m in \u001b[0;36m<module>\u001b[0;34m()\u001b[0m\n\u001b[1;32m      9\u001b[0m \u001b[0mfig\u001b[0m\u001b[0;34m.\u001b[0m\u001b[0mset_size_inches\u001b[0m\u001b[0;34m(\u001b[0m\u001b[0;36m20\u001b[0m\u001b[0;34m,\u001b[0m \u001b[0;36m10\u001b[0m\u001b[0;34m)\u001b[0m\u001b[0;34m\u001b[0m\u001b[0m\n\u001b[1;32m     10\u001b[0m \u001b[0;34m\u001b[0m\u001b[0m\n\u001b[0;32m---> 11\u001b[0;31m \u001b[0msn\u001b[0m\u001b[0;34m.\u001b[0m\u001b[0mheatmap\u001b[0m\u001b[0;34m(\u001b[0m\u001b[0mcorrData\u001b[0m\u001b[0;34m,\u001b[0m \u001b[0mmask\u001b[0m\u001b[0;34m=\u001b[0m\u001b[0mmask\u001b[0m\u001b[0;34m,\u001b[0m \u001b[0mvmax\u001b[0m\u001b[0;34m=\u001b[0m\u001b[0;36m.8\u001b[0m\u001b[0;34m,\u001b[0m \u001b[0msquare\u001b[0m\u001b[0;34m=\u001b[0m\u001b[0;32mTrue\u001b[0m\u001b[0;34m,\u001b[0m \u001b[0mannot\u001b[0m\u001b[0;34m=\u001b[0m\u001b[0;32mTrue\u001b[0m\u001b[0;34m)\u001b[0m\u001b[0;34m\u001b[0m\u001b[0m\n\u001b[0m",
      "\u001b[0;32m/Users/weit/Library/Enthought/Canopy/edm/envs/User/lib/python3.5/site-packages/seaborn/matrix.py\u001b[0m in \u001b[0;36mheatmap\u001b[0;34m(data, vmin, vmax, cmap, center, robust, annot, fmt, annot_kws, linewidths, linecolor, cbar, cbar_kws, cbar_ax, square, xticklabels, yticklabels, mask, ax, **kwargs)\u001b[0m\n\u001b[1;32m    515\u001b[0m     plotter = _HeatMapper(data, vmin, vmax, cmap, center, robust, annot, fmt,\n\u001b[1;32m    516\u001b[0m                           \u001b[0mannot_kws\u001b[0m\u001b[0;34m,\u001b[0m \u001b[0mcbar\u001b[0m\u001b[0;34m,\u001b[0m \u001b[0mcbar_kws\u001b[0m\u001b[0;34m,\u001b[0m \u001b[0mxticklabels\u001b[0m\u001b[0;34m,\u001b[0m\u001b[0;34m\u001b[0m\u001b[0m\n\u001b[0;32m--> 517\u001b[0;31m                           yticklabels, mask)\n\u001b[0m\u001b[1;32m    518\u001b[0m \u001b[0;34m\u001b[0m\u001b[0m\n\u001b[1;32m    519\u001b[0m     \u001b[0;31m# Add the pcolormesh kwargs here\u001b[0m\u001b[0;34m\u001b[0m\u001b[0;34m\u001b[0m\u001b[0m\n",
      "\u001b[0;32m/Users/weit/Library/Enthought/Canopy/edm/envs/User/lib/python3.5/site-packages/seaborn/matrix.py\u001b[0m in \u001b[0;36m__init__\u001b[0;34m(self, data, vmin, vmax, cmap, center, robust, annot, fmt, annot_kws, cbar, cbar_kws, xticklabels, yticklabels, mask)\u001b[0m\n\u001b[1;32m    165\u001b[0m         \u001b[0;31m# Determine good default values for the colormapping\u001b[0m\u001b[0;34m\u001b[0m\u001b[0;34m\u001b[0m\u001b[0m\n\u001b[1;32m    166\u001b[0m         self._determine_cmap_params(plot_data, vmin, vmax,\n\u001b[0;32m--> 167\u001b[0;31m                                     cmap, center, robust)\n\u001b[0m\u001b[1;32m    168\u001b[0m \u001b[0;34m\u001b[0m\u001b[0m\n\u001b[1;32m    169\u001b[0m         \u001b[0;31m# Sort out the annotations\u001b[0m\u001b[0;34m\u001b[0m\u001b[0;34m\u001b[0m\u001b[0m\n",
      "\u001b[0;32m/Users/weit/Library/Enthought/Canopy/edm/envs/User/lib/python3.5/site-packages/seaborn/matrix.py\u001b[0m in \u001b[0;36m_determine_cmap_params\u001b[0;34m(self, plot_data, vmin, vmax, cmap, center, robust)\u001b[0m\n\u001b[1;32m    204\u001b[0m         \u001b[0mcalc_data\u001b[0m \u001b[0;34m=\u001b[0m \u001b[0mplot_data\u001b[0m\u001b[0;34m.\u001b[0m\u001b[0mdata\u001b[0m\u001b[0;34m[\u001b[0m\u001b[0;34m~\u001b[0m\u001b[0mnp\u001b[0m\u001b[0;34m.\u001b[0m\u001b[0misnan\u001b[0m\u001b[0;34m(\u001b[0m\u001b[0mplot_data\u001b[0m\u001b[0;34m.\u001b[0m\u001b[0mdata\u001b[0m\u001b[0;34m)\u001b[0m\u001b[0;34m]\u001b[0m\u001b[0;34m\u001b[0m\u001b[0m\n\u001b[1;32m    205\u001b[0m         \u001b[0;32mif\u001b[0m \u001b[0mvmin\u001b[0m \u001b[0;32mis\u001b[0m \u001b[0;32mNone\u001b[0m\u001b[0;34m:\u001b[0m\u001b[0;34m\u001b[0m\u001b[0m\n\u001b[0;32m--> 206\u001b[0;31m             \u001b[0mvmin\u001b[0m \u001b[0;34m=\u001b[0m \u001b[0mnp\u001b[0m\u001b[0;34m.\u001b[0m\u001b[0mpercentile\u001b[0m\u001b[0;34m(\u001b[0m\u001b[0mcalc_data\u001b[0m\u001b[0;34m,\u001b[0m \u001b[0;36m2\u001b[0m\u001b[0;34m)\u001b[0m \u001b[0;32mif\u001b[0m \u001b[0mrobust\u001b[0m \u001b[0;32melse\u001b[0m \u001b[0mcalc_data\u001b[0m\u001b[0;34m.\u001b[0m\u001b[0mmin\u001b[0m\u001b[0;34m(\u001b[0m\u001b[0;34m)\u001b[0m\u001b[0;34m\u001b[0m\u001b[0m\n\u001b[0m\u001b[1;32m    207\u001b[0m         \u001b[0;32mif\u001b[0m \u001b[0mvmax\u001b[0m \u001b[0;32mis\u001b[0m \u001b[0;32mNone\u001b[0m\u001b[0;34m:\u001b[0m\u001b[0;34m\u001b[0m\u001b[0m\n\u001b[1;32m    208\u001b[0m             \u001b[0mvmax\u001b[0m \u001b[0;34m=\u001b[0m \u001b[0mnp\u001b[0m\u001b[0;34m.\u001b[0m\u001b[0mpercentile\u001b[0m\u001b[0;34m(\u001b[0m\u001b[0mcalc_data\u001b[0m\u001b[0;34m,\u001b[0m \u001b[0;36m98\u001b[0m\u001b[0;34m)\u001b[0m \u001b[0;32mif\u001b[0m \u001b[0mrobust\u001b[0m \u001b[0;32melse\u001b[0m \u001b[0mcalc_data\u001b[0m\u001b[0;34m.\u001b[0m\u001b[0mmax\u001b[0m\u001b[0;34m(\u001b[0m\u001b[0;34m)\u001b[0m\u001b[0;34m\u001b[0m\u001b[0m\n",
      "\u001b[0;32m/Users/weit/Library/Enthought/Canopy/edm/envs/User/lib/python3.5/site-packages/numpy/core/_methods.py\u001b[0m in \u001b[0;36m_amin\u001b[0;34m(a, axis, out, keepdims, initial)\u001b[0m\n\u001b[1;32m     30\u001b[0m def _amin(a, axis=None, out=None, keepdims=False,\n\u001b[1;32m     31\u001b[0m           initial=_NoValue):\n\u001b[0;32m---> 32\u001b[0;31m     \u001b[0;32mreturn\u001b[0m \u001b[0mumr_minimum\u001b[0m\u001b[0;34m(\u001b[0m\u001b[0ma\u001b[0m\u001b[0;34m,\u001b[0m \u001b[0maxis\u001b[0m\u001b[0;34m,\u001b[0m \u001b[0;32mNone\u001b[0m\u001b[0;34m,\u001b[0m \u001b[0mout\u001b[0m\u001b[0;34m,\u001b[0m \u001b[0mkeepdims\u001b[0m\u001b[0;34m,\u001b[0m \u001b[0minitial\u001b[0m\u001b[0;34m)\u001b[0m\u001b[0;34m\u001b[0m\u001b[0m\n\u001b[0m\u001b[1;32m     33\u001b[0m \u001b[0;34m\u001b[0m\u001b[0m\n\u001b[1;32m     34\u001b[0m def _sum(a, axis=None, dtype=None, out=None, keepdims=False,\n",
      "\u001b[0;31mValueError\u001b[0m: zero-size array to reduction operation minimum which has no identity"
     ]
    }
   ],
   "source": [
    "import matplotlib.pyplot as plt\n",
    "import seaborn as sn\n",
    "\n",
    "corrData = cleaned_data[['totalLegs', 'totalStake', 'liabilityAmount']].corr()\n",
    "mask = numpy.array(corrData)\n",
    "mask[numpy.tril_indices_from(mask)] = False\n",
    "fig,ax = plt.subplots()\n",
    "\n",
    "fig.set_size_inches(20, 10)\n",
    "\n",
    "sn.heatmap(corrData, mask=mask, vmax=.8, square=True, annot=True)"
   ]
  },
  {
   "cell_type": "markdown",
   "metadata": {
    "deletable": true,
    "editable": true
   },
   "source": [
    "Some of our models require the input data to be normalized, so go ahead and normalize the attribute data. Hint: use preprocessing.StandardScaler()."
   ]
  },
  {
   "cell_type": "code",
   "execution_count": 8,
   "metadata": {
    "collapsed": false,
    "deletable": true,
    "editable": true
   },
   "outputs": [
    {
     "name": "stderr",
     "output_type": "stream",
     "text": [
      "/Users/weit/Library/Enthought/Canopy/edm/envs/User/lib/python3.5/site-packages/sklearn/utils/validation.py:590: DataConversionWarning: Data with input dtype object was converted to float64 by StandardScaler.\n",
      "  warnings.warn(msg, DataConversionWarning)\n",
      "/Users/weit/Library/Enthought/Canopy/edm/envs/User/lib/python3.5/site-packages/sklearn/utils/validation.py:590: DataConversionWarning: Data with input dtype object was converted to float64 by StandardScaler.\n",
      "  warnings.warn(msg, DataConversionWarning)\n"
     ]
    },
    {
     "data": {
      "text/plain": [
       "array([[-6.07254156e-01, -1.83243583e-01, -7.06145697e-02],\n",
       "       [-6.07254156e-01, -1.57162235e-01, -7.01160070e-02],\n",
       "       [-6.07254156e-01, -1.57162235e-01, -6.99844301e-02],\n",
       "       [-6.07254156e-01, -1.72842404e-01, -6.80086758e-02],\n",
       "       [-6.07254156e-01, -1.04895005e-01, -6.92592862e-02],\n",
       "       [-6.07254156e-01, -1.80682489e-01, -7.05624434e-02],\n",
       "       [ 4.98124424e-01, -1.57162235e-01, -7.02589339e-02],\n",
       "       [ 4.98124424e-01, -7.87613897e-02, -6.06050617e-02],\n",
       "       [-6.07254156e-01, -1.31028620e-01, -6.17871514e-02],\n",
       "       [-6.07254156e-01, -1.57162235e-01, -6.92908142e-02],\n",
       "       [ 2.70888158e+00, -1.46708789e-01, -2.77949280e-02],\n",
       "       [-6.07254156e-01, -1.72842404e-01, -7.02366541e-02],\n",
       "       [-6.07254156e-01,  5.19066864e-02, -6.75601375e-02],\n",
       "       [-5.45648662e-02, -1.49322151e-01, -7.02328707e-02],\n",
       "       [-6.07254156e-01, -1.67615681e-01, -6.96060942e-02],\n",
       "       [-6.07254156e-01, -1.51935512e-01, -7.01950371e-02],\n",
       "       [-6.07254156e-01, -1.57162235e-01, -7.02648191e-02],\n",
       "       [-5.45648662e-02,  3.39376454e-01, -3.52615980e-02],\n",
       "       [-6.07254156e-01, -1.72842404e-01, -7.01946168e-02],\n",
       "       [-6.07254156e-01, -1.80682489e-01, -7.05653860e-02],\n",
       "       [-6.07254156e-01, -1.72842404e-01, -7.04216183e-02],\n",
       "       [-6.07254156e-01, -1.72842404e-01, -6.93538702e-02],\n",
       "       [-6.07254156e-01, -1.72842404e-01, -7.01630888e-02],\n",
       "       [-6.07254156e-01, -1.31028620e-01, -6.98751331e-02],\n",
       "       [-6.07254156e-01, -1.31028620e-01, -6.98372995e-02],\n",
       "       [-6.07254156e-01, -1.31028620e-01, -6.97448174e-02],\n",
       "       [-6.07254156e-01, -1.31028620e-01, -6.98541144e-02],\n",
       "       [-6.07254156e-01, -1.31028620e-01, -6.98246883e-02],\n",
       "       [-6.07254156e-01, -1.44095428e-01, -7.00130155e-02],\n",
       "       [-6.07254156e-01, -1.17961812e-01, -6.96796595e-02],\n",
       "       [ 4.98124424e-01, -1.57162235e-01, -6.91411613e-02],\n",
       "       [-6.07254156e-01, -1.31028620e-01, -6.99171704e-02],\n",
       "       [-6.07254156e-01, -1.04372333e-01, -6.99550040e-02],\n",
       "       [-6.07254156e-01, -1.72842404e-01, -7.00264675e-02],\n",
       "       [ 4.98124424e-01,  1.82574762e-01, -4.69618472e-02],\n",
       "       [-5.45648662e-02, -1.31028620e-01, -6.92458343e-02],\n",
       "       [-6.07254156e-01, -1.57162235e-01, -6.99844301e-02],\n",
       "       [-5.45648662e-02, -7.87613897e-02, -6.75479467e-02],\n",
       "       [ 1.05081371e+00, -1.31028620e-01,  7.27184227e-02],\n",
       "       [-6.07254156e-01, -5.26277744e-02, -6.71469106e-02],\n",
       "       [-6.07254156e-01, -5.26277744e-02, -6.43093910e-02],\n",
       "       [-5.45648662e-02, -1.54548874e-01, -6.86497450e-02],\n",
       "       [ 1.60350300e+00, -4.74010514e-02, -6.14239489e-02],\n",
       "       [-6.07254156e-01,  7.80403016e-02, -6.73570972e-02],\n",
       "       [-6.07254156e-01, -1.77964593e-01, -7.04876169e-02],\n",
       "       [-6.07254156e-01, -1.67615681e-01, -6.97006782e-02],\n",
       "       [ 1.60350300e+00, -1.81152894e-01, -6.15630924e-02],\n",
       "       [-6.07254156e-01, -1.72842404e-01, -6.99634115e-02],\n",
       "       [-6.07254156e-01, -1.31028620e-01, -6.96060942e-02],\n",
       "       [-6.07254156e-01, -7.87613897e-02, -5.71630454e-02],\n",
       "       [ 1.60350300e+00, -1.51935512e-01, -7.06149900e-02],\n",
       "       [ 4.98124424e-01, -5.75931613e-02, -6.66420423e-02],\n",
       "       [-6.07254156e-01, -1.57162235e-01, -7.01946168e-02],\n",
       "       [-6.07254156e-01, -1.78069127e-01, -7.05153616e-02],\n",
       "       [ 4.98124424e-01, -2.64941592e-02, -6.50349552e-02],\n",
       "       [ 2.70888158e+00, -1.78069127e-01, -5.40228571e-02],\n",
       "       [-6.07254156e-01, -7.87613897e-02, -6.13667781e-02],\n",
       "       [-6.07254156e-01, -1.57162235e-01, -6.91962302e-02],\n",
       "       [-6.07254156e-01, -1.62388958e-01, -6.98162808e-02],\n",
       "       [-6.07254156e-01, -1.57162235e-01, -5.88445385e-02],\n",
       "       [ 4.98124424e-01, -1.31028620e-01, -6.79876571e-02],\n",
       "       [-6.07254156e-01, -1.72842404e-01, -6.73781159e-02],\n",
       "       [-6.07254156e-01, -1.72842404e-01, -6.54864361e-02],\n",
       "       [-6.07254156e-01, -1.72842404e-01, -6.84290490e-02],\n",
       "       [-6.07254156e-01,  7.80403016e-02, -5.38000592e-02],\n",
       "       [-6.07254156e-01, -1.72006129e-01, -7.03198880e-02],\n",
       "       [ 2.15619229e+00, -1.57162235e-01, -6.85900520e-02],\n",
       "       [-6.07254156e-01, -1.31028620e-01, -6.97322062e-02],\n",
       "       [-6.07254156e-01, -1.31028620e-01, -6.98120771e-02],\n",
       "       [-6.07254156e-01, -1.31028620e-01, -7.00138563e-02],\n",
       "       [ 2.70888158e+00, -5.26277744e-02, -5.51137257e-02],\n",
       "       [-6.07254156e-01, -1.57162235e-01, -6.93538702e-02],\n",
       "       [-6.07254156e-01, -1.57162235e-01, -6.99634115e-02],\n",
       "       [ 4.98124424e-01, -1.57162235e-01, -6.93345331e-02],\n",
       "       [-6.07254156e-01, -7.87613897e-02, -6.88494223e-02],\n",
       "       [ 4.98124424e-01, -5.26277744e-02, -6.84647808e-02],\n",
       "       [-6.07254156e-01, -7.87613897e-02, -6.81978437e-02],\n",
       "       [-6.07254156e-01, -1.83243583e-01, -7.06137289e-02],\n",
       "       [-6.07254156e-01, -1.36255343e-01, -6.92718974e-02],\n",
       "       [-6.07254156e-01,  2.35207864e-01, -2.34919872e-02],\n",
       "       [-6.07254156e-01,  6.51045949e-01, -4.24314845e-02],\n",
       "       [-6.07254156e-01,  7.80403016e-02, -6.55705108e-02],\n",
       "       [ 1.05081371e+00, -7.87613897e-02, -6.15866333e-02],\n",
       "       [ 4.98124424e-01, -1.32753439e-01, -6.79182955e-02],\n",
       "       [-6.07254156e-01, -1.31028620e-01, -6.93538702e-02],\n",
       "       [-5.45648662e-02, -1.57162235e-01, -7.00878420e-02],\n",
       "       [-6.07254156e-01, -1.59409726e-01, -7.04153127e-02],\n",
       "       [-6.07254156e-01, -1.57162235e-01, -6.99163297e-02],\n",
       "       [-6.07254156e-01, -1.57162235e-01, -6.90385903e-02],\n",
       "       [-6.07254156e-01, -1.31028620e-01, -6.92697956e-02],\n",
       "       [ 4.98124424e-01, -1.31028620e-01, -6.76521992e-02],\n",
       "       [-6.07254156e-01, -1.25801897e-01, -6.94244929e-02],\n",
       "       [ 4.98124424e-01, -7.87613897e-02, -6.68993107e-02],\n",
       "       [-6.07254156e-01, -1.76762447e-01, -7.05149412e-02],\n",
       "       [ 4.98124424e-01, -1.74410421e-01, -7.04691205e-02],\n",
       "       [ 1.60350300e+00, -1.31028620e-01, -6.93605962e-02],\n",
       "       [-6.07254156e-01, -1.31028620e-01, -6.64112573e-02],\n",
       "       [-6.07254156e-01, -1.83243583e-01, -7.05935510e-02],\n",
       "       [-6.07254156e-01, -1.31028620e-01, -6.83344650e-02],\n",
       "       [-5.45648662e-02, -1.57162235e-01, -7.00125951e-02],\n",
       "       [-6.07254156e-01, -1.78069127e-01, -7.05687490e-02],\n",
       "       [ 4.98124424e-01,  1.30307532e-01, -5.27629984e-02],\n",
       "       [ 4.98124424e-01, -7.87613897e-02, -6.75416411e-02],\n",
       "       [ 2.15619229e+00, -1.57162235e-01, -5.25057299e-02],\n",
       "       [-5.45648662e-02, -1.31028620e-01, -6.78691118e-02],\n",
       "       [-6.07254156e-01, -1.80682489e-01, -7.05519340e-02],\n",
       "       [-6.07254156e-01, -1.57162235e-01, -7.01420701e-02],\n",
       "       [-5.45648662e-02, -1.71274388e-01, -6.21066350e-02],\n",
       "       [-6.07254156e-01, -5.26277744e-02, -6.39941110e-02],\n",
       "       [ 4.98124424e-01, -1.04895005e-01, -6.89280321e-02],\n",
       "       [ 4.98124424e-01, -1.31028620e-01, -6.76648104e-02],\n",
       "       [ 4.98124424e-01, -1.57162235e-01, -7.01626684e-02],\n",
       "       [-6.07254156e-01, -1.82511842e-01, -7.05834620e-02],\n",
       "       [-6.07254156e-01, -1.31028620e-01, -6.81978437e-02],\n",
       "       [-6.07254156e-01, -1.31028620e-01, -6.59908841e-02],\n",
       "       [-6.07254156e-01, -1.41482066e-01, -6.62431080e-02],\n",
       "       [ 2.70888158e+00, -1.57162235e-01, -6.73209451e-02],\n",
       "       [-6.07254156e-01, -1.82773178e-01, -7.06044807e-02],\n",
       "       [-6.07254156e-01, -1.82250506e-01, -7.05935510e-02],\n",
       "       [ 4.98124424e-01, -1.51935512e-01, -7.06149900e-02],\n",
       "       [-6.07254156e-01,  7.80403016e-02, -6.68316306e-02],\n",
       "       [-6.07254156e-01, -1.12212417e-01, -6.99747615e-02],\n",
       "       [ 4.98124424e-01,  3.39376454e-01,  7.87793646e-02],\n",
       "       [ 4.98124424e-01, -1.31028620e-01, -6.97549063e-02],\n",
       "       [-6.07254156e-01, -5.26277744e-02, -6.83554837e-02],\n",
       "       [-5.45648662e-02, -1.67615681e-01, -6.74041790e-02],\n",
       "       [-6.07254156e-01, -1.31028620e-01, -6.79456198e-02],\n",
       "       [-6.07254156e-01, -1.31028620e-01, -6.13667781e-02],\n",
       "       [-6.07254156e-01, -5.26277744e-02, -6.59908841e-02],\n",
       "       [ 2.15619229e+00, -1.31028620e-01, -5.92724785e-02],\n",
       "       [-6.07254156e-01, -1.57162235e-01, -6.95640569e-02],\n",
       "       [ 4.98124424e-01, -1.57162235e-01, -6.86728655e-02],\n",
       "       [ 1.05081371e+00, -5.26277744e-02, -5.94360037e-02],\n",
       "       [-6.07254156e-01, -1.73260542e-01, -7.05023300e-02],\n",
       "       [-6.07254156e-01, -1.73260542e-01, -7.05141004e-02],\n",
       "       [-6.07254156e-01, -1.73260542e-01, -7.04947633e-02],\n",
       "       [-6.07254156e-01, -1.73260542e-01, -7.04842539e-02],\n",
       "       [-6.07254156e-01, -1.31028620e-01, -6.99844301e-02],\n",
       "       [-6.07254156e-01, -7.87613897e-02, -6.72520039e-02],\n",
       "       [-6.07254156e-01,  2.57730712e-02, -5.71630454e-02],\n",
       "       [ 4.98124424e-01, -1.31028620e-01, -6.58908352e-02],\n",
       "       [ 4.98124424e-01, -1.72162930e-01, -7.04321277e-02],\n",
       "       [-6.07254156e-01, -3.60544016e-04, -6.59068094e-02],\n",
       "       [ 4.98124424e-01,  3.39376454e-01, -6.20141529e-02],\n",
       "       [-6.07254156e-01,  2.57730712e-02, -6.68316306e-02],\n",
       "       [ 7.13039590e+00, -7.87613897e-02,  1.75112103e-01],\n",
       "       [-6.07254156e-01, -2.64941592e-02, -6.82062512e-02],\n",
       "       [-6.07254156e-01,  2.57730712e-02, -6.71342994e-02],\n",
       "       [ 1.05081371e+00, -1.34791861e-01, -6.55759756e-02],\n",
       "       [ 3.26157087e+00, -1.57162235e-01, -5.96852850e-02],\n",
       "       [ 1.60350300e+00, -1.04895005e-01, -7.06149900e-02],\n",
       "       [-5.45648662e-02, -1.29878741e-01, -6.78089985e-02],\n",
       "       [-5.45648662e-02, -1.72842404e-01, -6.59505282e-02],\n",
       "       [-5.45648662e-02, -1.04895005e-01, -6.91016463e-02],\n",
       "       [-5.45648662e-02,  2.43006567e+00, -4.19455330e-02],\n",
       "       [ 4.98124424e-01, -3.60544016e-04, -5.91366979e-02],\n",
       "       [ 4.98124424e-01, -7.87613897e-02, -4.09025869e-02],\n",
       "       [-6.07254156e-01, -1.78069127e-01, -6.96481315e-02],\n",
       "       [-5.45648662e-02, -1.57580373e-01, -6.97961029e-02],\n",
       "       [-6.07254156e-01, -7.87613897e-02, -6.60539401e-02],\n",
       "       [ 4.98124424e-01, -1.22665863e-01, -6.17673938e-02],\n",
       "       [ 2.15619229e+00,  7.80403016e-02,  2.16043961e-02],\n",
       "       [ 4.98124424e-01,  7.80403016e-02, -5.63180951e-02],\n",
       "       [-6.07254156e-01, -1.57162235e-01, -6.93538702e-02],\n",
       "       [-6.07254156e-01, -1.78069127e-01, -7.00264675e-02],\n",
       "       [ 1.05081371e+00, -1.77023783e-01, -7.06149900e-02],\n",
       "       [ 1.05081371e+00, -1.31028620e-01,  7.18265031e-03],\n",
       "       [-6.07254156e-01, -1.31028620e-01, -6.95640569e-02],\n",
       "       [-6.07254156e-01, -1.31028620e-01, -6.98120771e-02],\n",
       "       [-6.07254156e-01, -1.62388958e-01, -6.37881281e-02],\n",
       "       [-5.45648662e-02, -1.67615681e-01, -7.06149900e-02],\n",
       "       [-5.45648662e-02, -1.44095428e-01, -6.63910794e-02],\n",
       "       [ 1.05081371e+00, -1.72842404e-01, -6.24521819e-02],\n",
       "       [-6.07254156e-01,  7.80403016e-02, -6.69997799e-02],\n",
       "       [-6.07254156e-01, -1.83243583e-01, -7.05935510e-02],\n",
       "       [ 2.15619229e+00, -1.57162235e-01, -6.77249238e-02],\n",
       "       [ 2.15619229e+00,  3.39376454e-01, -7.70444867e-03],\n",
       "       [-6.07254156e-01, -1.82825445e-01, -7.05809398e-02],\n",
       "       [-6.07254156e-01, -7.87613897e-02, -5.92649117e-02],\n",
       "       [-6.07254156e-01, -1.51935512e-01, -5.69633681e-02],\n",
       "       [-6.07254156e-01, -1.72842404e-01, -5.47669178e-02],\n",
       "       [-6.07254156e-01, -1.62388958e-01, -5.88865758e-02],\n",
       "       [-6.07254156e-01, -1.71274388e-01, -6.61674408e-02],\n",
       "       [-6.07254156e-01, -1.62388958e-01, -6.62431080e-02],\n",
       "       [-6.07254156e-01, -1.67615681e-01, -6.98583181e-02],\n",
       "       [-6.07254156e-01, -1.80682489e-01, -6.92067396e-02],\n",
       "       [-6.07254156e-01, -1.31028620e-01, -6.96166035e-02],\n",
       "       [-6.07254156e-01, -1.80682489e-01, -7.04825725e-02],\n",
       "       [-6.07254156e-01, -1.80682489e-01, -7.01525794e-02],\n",
       "       [-6.07254156e-01, -1.72842404e-01, -7.05014893e-02],\n",
       "       [-6.07254156e-01, -1.79219007e-01, -7.05166227e-02],\n",
       "       [ 1.05081371e+00, -1.31028620e-01, -6.74609294e-02],\n",
       "       [-5.45648662e-02, -2.64941592e-02, -3.29251634e-02],\n",
       "       [ 4.98124424e-01, -1.34321456e-01, -6.97666768e-02],\n",
       "       [-6.07254156e-01, -1.67615681e-01, -7.04586112e-02],\n",
       "       [-6.07254156e-01, -1.72842404e-01, -7.04888781e-02],\n",
       "       [-6.07254156e-01, -1.72842404e-01, -7.05225079e-02],\n",
       "       [ 4.98124424e-01, -1.72842404e-01, -7.04342295e-02],\n",
       "       [ 3.26157087e+00, -1.57162235e-01,  1.76501197e+01],\n",
       "       [-6.07254156e-01,  6.00712606e-01, -5.88865758e-02],\n",
       "       [ 4.98124424e-01, -1.31028620e-01, -6.95674198e-02],\n",
       "       [-6.07254156e-01, -5.26277744e-02, -5.16981929e-02],\n",
       "       [-6.07254156e-01, -1.31028620e-01, -6.17871514e-02],\n",
       "       [-6.07254156e-01, -1.31028620e-01, -7.01483757e-02],\n",
       "       [-6.07254156e-01, -7.87613897e-02, -6.86812730e-02],\n",
       "       [ 4.98124424e-01, -1.78069127e-01, -7.03295566e-02],\n",
       "       [ 2.15619229e+00, -1.31028620e-01, -5.87844251e-02],\n",
       "       [ 4.98124424e-01,  4.14532403e-02, -5.79541879e-02],\n",
       "       [-6.07254156e-01, -1.57162235e-01, -6.91436836e-02],\n",
       "       [ 4.98124424e-01, -1.78069127e-01, -7.04615538e-02],\n",
       "       [-6.07254156e-01, -1.82825445e-01, -7.05922899e-02],\n",
       "       [ 4.98124424e-01, -7.88659241e-02, -6.95514457e-02],\n",
       "       [-6.07254156e-01, -1.81832368e-01, -7.05998566e-02],\n",
       "       [ 3.26157087e+00, -8.39881127e-02, -3.46062361e-02],\n",
       "       [-6.07254156e-01,  1.38472106e+00, -2.89980363e-02],\n",
       "       [-6.07254156e-01,  7.57514297e-01, -6.20645977e-02],\n",
       "       [-6.07254156e-01, -1.67615681e-01, -5.15720809e-02],\n",
       "       [ 3.26157087e+00, -1.78069127e-01, -6.00636210e-02],\n",
       "       [ 4.98124424e-01,  7.80403016e-02, -6.60879903e-02],\n",
       "       [-6.07254156e-01, -1.31028620e-01, -6.96166035e-02],\n",
       "       [-5.45648662e-02, -1.67615681e-01, -7.06149900e-02],\n",
       "       [ 1.60350300e+00, -1.57162235e-01, -5.88457996e-02],\n",
       "       [-6.07254156e-01, -1.04895005e-01, -6.91647023e-02],\n",
       "       [-6.07254156e-01,  5.04342719e+00, -6.17176773e-03],\n",
       "       [-6.07254156e-01, -5.58726706e-03, -6.56125481e-02],\n",
       "       [ 4.98124424e-01, -1.57162235e-01,  3.15113329e-02],\n",
       "       [-6.07254156e-01, -1.80682489e-01, -7.00685048e-02],\n",
       "       [ 1.60350300e+00, -5.26277744e-02, -6.87594624e-02],\n",
       "       [-6.07254156e-01, -1.67615681e-01, -6.97322062e-02],\n",
       "       [-5.45648662e-02, -5.26277744e-02, -6.20187770e-02],\n",
       "       [-6.07254156e-01, -1.82825445e-01, -7.05809398e-02],\n",
       "       [-6.07254156e-01,  1.35534255e-01, -6.59992915e-02],\n",
       "       [ 1.05081371e+00, -1.62388958e-01,  6.83534656e-01],\n",
       "       [ 4.98124424e-01,  7.80403016e-02, -6.60879903e-02],\n",
       "       [ 1.05081371e+00,  3.39376454e-01,  3.06806754e-02],\n",
       "       [ 4.98124424e-01, -1.31028620e-01, -6.78825638e-02],\n",
       "       [ 4.98124424e-01, -1.72946939e-01, -7.06149900e-02],\n",
       "       [-5.45648662e-02, -1.57162235e-01, -6.74621905e-02],\n",
       "       [-6.07254156e-01, -1.67615681e-01, -6.77144145e-02],\n",
       "       [-5.45648662e-02, -5.26277744e-02, -6.14058728e-02],\n",
       "       [ 4.98124424e-01, -1.57162235e-01, -1.99932205e-02],\n",
       "       [-6.07254156e-01, -1.57162235e-01, -7.02555709e-02],\n",
       "       [-6.07254156e-01, -1.82145971e-01, -7.05641249e-02],\n",
       "       [-6.07254156e-01, -1.81832368e-01, -7.05620230e-02],\n",
       "       [-6.07254156e-01, -1.72842404e-01, -7.03333399e-02],\n",
       "       [-6.07254156e-01, -1.31028620e-01, -6.99003555e-02],\n",
       "       [-6.07254156e-01, -1.31028620e-01, -6.98372995e-02],\n",
       "       [-6.07254156e-01, -1.31028620e-01, -6.98751331e-02],\n",
       "       [ 1.60350300e+00, -1.57162235e-01, -6.86215800e-02],\n",
       "       [-6.07254156e-01, -1.78069127e-01, -7.05195653e-02],\n",
       "       [-6.07254156e-01, -5.78544975e-02, -5.85082399e-02],\n",
       "       [ 4.98124424e-01,  7.80403016e-02, -6.34606574e-02],\n",
       "       [-6.07254156e-01, -1.72842404e-01, -6.83449744e-02],\n",
       "       [ 3.81426016e+00, -2.64941592e-02, -6.52379955e-02],\n",
       "       [-6.07254156e-01, -1.57162235e-01, -6.98137586e-02],\n",
       "       [ 4.98124424e-01, -1.57162235e-01, -6.97889566e-02],\n",
       "       [-6.07254156e-01, -1.31028620e-01, -6.96060942e-02],\n",
       "       [-6.07254156e-01, -1.04895005e-01, -6.91962302e-02],\n",
       "       [-6.07254156e-01,  6.00712606e-01, -5.73732320e-02],\n",
       "       [ 4.98124424e-01,  3.39376454e-01, -4.81834520e-02],\n",
       "       [-5.45648662e-02, -5.26277744e-02, -6.38688398e-02],\n",
       "       [-6.07254156e-01,  1.12338491e+00, -5.16981929e-02],\n",
       "       [ 2.70888158e+00, -1.78069127e-01,  1.38955798e-01],\n",
       "       [ 4.98124424e-01, -1.72842404e-01, -6.66269088e-02],\n",
       "       [-6.07254156e-01, -1.57162235e-01, -6.99318835e-02],\n",
       "       [-6.07254156e-01, -7.87613897e-02, -6.90596089e-02],\n",
       "       [ 1.05081371e+00, -2.64941592e-02, -6.22583898e-02],\n",
       "       [-6.07254156e-01, -1.33641982e-01, -6.97763454e-02],\n",
       "       [ 4.98124424e-01, -1.72946939e-01, -7.06149900e-02],\n",
       "       [ 1.05081371e+00, -1.78069127e-01, -6.99318835e-02],\n",
       "       [-6.07254156e-01, -1.57162235e-01, -7.00474861e-02],\n",
       "       [-5.45648662e-02, -1.57162235e-01, -6.96561186e-02],\n",
       "       [-6.07254156e-01, -1.31028620e-01, -6.59908841e-02],\n",
       "       [ 4.98124424e-01, -1.31028620e-01, -6.76534603e-02],\n",
       "       [ 1.05081371e+00, -7.87613897e-02, -6.50383182e-02],\n",
       "       [-5.45648662e-02, -7.87613897e-02, -6.86858971e-02],\n",
       "       [ 2.70888158e+00, -1.31028620e-01, -3.94022747e-02],\n",
       "       [-6.07254156e-01, -1.72842404e-01, -7.03207287e-02],\n",
       "       [ 3.26157087e+00, -1.78069127e-01, -5.61243030e-02],\n",
       "       [-6.07254156e-01, -1.57162235e-01, -7.02114317e-02],\n",
       "       [-5.45648662e-02, -7.87613897e-02, -6.72856337e-02],\n",
       "       [-6.07254156e-01, -1.72842404e-01, -7.00012451e-02],\n",
       "       [-6.07254156e-01,  7.80403016e-02, -6.22075246e-02],\n",
       "       [-6.07254156e-01,  1.43698829e+00, -1.58823903e-02],\n",
       "       [ 4.98124424e-01, -1.72946939e-01, -7.06149900e-02],\n",
       "       [ 4.98124424e-01, -1.57162235e-01, -7.06149900e-02],\n",
       "       [ 4.98124424e-01, -1.06724358e-01, -5.20803122e-02],\n",
       "       [ 4.98124424e-01,  3.39376454e-01, -6.15609905e-02],\n",
       "       [-5.45648662e-02,  7.80403016e-02, -6.39297939e-02],\n",
       "       [-6.07254156e-01, -1.62388958e-01, -5.69948961e-02],\n",
       "       [-5.45648662e-02, -7.87613897e-02, -6.78405265e-02],\n",
       "       [ 4.98124424e-01, -1.72946939e-01, -7.06149900e-02],\n",
       "       [-6.07254156e-01, -1.46708789e-01, -7.00117544e-02],\n",
       "       [ 4.98124424e-01, -1.31028620e-01, -6.85938354e-02],\n",
       "       [-6.07254156e-01, -7.87613897e-02, -6.72520039e-02],\n",
       "       [-6.07254156e-01, -1.67929285e-01, -7.02753284e-02],\n",
       "       [-6.07254156e-01, -1.57162235e-01, -6.99423928e-02],\n",
       "       [-6.07254156e-01, -1.65786328e-01, -7.00516899e-02],\n",
       "       [-6.07254156e-01, -1.51935512e-01, -5.77515680e-02],\n",
       "       [-6.07254156e-01, -1.25801897e-01, -6.95052046e-02],\n",
       "       [ 4.98124424e-01, -1.31028620e-01, -6.70645174e-02],\n",
       "       [-6.07254156e-01,  8.62048758e-01, -5.48089551e-02],\n",
       "       [-6.07254156e-01,  1.80285891e+00, -4.28199094e-02],\n",
       "       [-6.07254156e-01,  1.30307532e-01, -6.05260316e-02],\n",
       "       [-6.07254156e-01, -7.72456400e-02, -6.89776361e-02],\n",
       "       [-6.07254156e-01, -1.31028620e-01, -6.96060942e-02],\n",
       "       [ 4.98124424e-01, -2.64941592e-02, -6.60636086e-02],\n",
       "       [ 4.98124424e-01, -1.57162235e-01, -6.69884298e-02],\n",
       "       [-6.07254156e-01,  3.62265173e-02, -6.58479572e-02],\n",
       "       [-5.45648662e-02, -1.04895005e-01, -3.90668169e-02],\n",
       "       [ 1.05081371e+00,  1.62808817e+01,  7.95969793e-01],\n",
       "       [-6.07254156e-01, -1.72842404e-01, -7.01105421e-02],\n",
       "       [-6.07254156e-01, -1.20575174e-01, -6.94043150e-02],\n",
       "       [-6.07254156e-01, -1.80787023e-01, -7.04939225e-02]])"
      ]
     },
     "execution_count": 8,
     "metadata": {},
     "output_type": "execute_result"
    }
   ],
   "source": [
    "from sklearn import preprocessing\n",
    "\n",
    "scaler = preprocessing.StandardScaler()\n",
    "all_features_scaled = scaler.fit_transform(all_features)\n",
    "all_features_scaled"
   ]
  },
  {
   "cell_type": "markdown",
   "metadata": {
    "deletable": true,
    "editable": true
   },
   "source": [
    "## Decision Trees\n",
    "\n",
    "Before moving to K-Fold cross validation and random forests, start by creating a single train/test split of our data. Set aside 75% for training, and 25% for testing."
   ]
  },
  {
   "cell_type": "code",
   "execution_count": 9,
   "metadata": {
    "collapsed": false,
    "deletable": true,
    "editable": true
   },
   "outputs": [
    {
     "name": "stdout",
     "output_type": "stream",
     "text": [
      "[[ 4.98124424e-01 -7.87613897e-02 -6.75416411e-02]\n",
      " [ 4.98124424e-01  3.39376454e-01  7.87793646e-02]\n",
      " [-6.07254156e-01 -1.57162235e-01 -6.99423928e-02]\n",
      " [-5.45648662e-02  3.39376454e-01 -3.52615980e-02]\n",
      " [-6.07254156e-01 -7.87613897e-02 -6.86812730e-02]\n",
      " [-6.07254156e-01  2.57730712e-02 -6.71342994e-02]\n",
      " [ 1.05081371e+00 -5.26277744e-02 -5.94360037e-02]\n",
      " [ 1.60350300e+00 -4.74010514e-02 -6.14239489e-02]\n",
      " [-6.07254156e-01 -1.80682489e-01 -7.05519340e-02]\n",
      " [-6.07254156e-01 -1.78069127e-01 -7.05195653e-02]\n",
      " [ 1.60350300e+00 -1.04895005e-01 -7.06149900e-02]\n",
      " [-6.07254156e-01  6.00712606e-01 -5.73732320e-02]\n",
      " [-6.07254156e-01 -1.80682489e-01 -7.05624434e-02]\n",
      " [-5.45648662e-02 -1.67615681e-01 -7.06149900e-02]\n",
      " [ 1.05081371e+00 -1.31028620e-01  7.27184227e-02]\n",
      " [ 4.98124424e-01  7.80403016e-02 -6.60879903e-02]\n",
      " [-6.07254156e-01  7.80403016e-02 -6.68316306e-02]\n",
      " [ 4.98124424e-01 -1.51935512e-01 -7.06149900e-02]\n",
      " [-6.07254156e-01 -1.31028620e-01 -6.97322062e-02]\n",
      " [ 4.98124424e-01 -1.31028620e-01 -6.76648104e-02]\n",
      " [ 4.98124424e-01 -2.64941592e-02 -6.60636086e-02]\n",
      " [-6.07254156e-01 -1.78069127e-01 -7.05687490e-02]\n",
      " [ 4.98124424e-01  1.82574762e-01 -4.69618472e-02]\n",
      " [-6.07254156e-01 -1.57162235e-01 -6.91436836e-02]\n",
      " [ 1.05081371e+00 -1.78069127e-01 -6.99318835e-02]\n",
      " [ 2.15619229e+00 -1.31028620e-01 -5.87844251e-02]\n",
      " [-6.07254156e-01 -1.82145971e-01 -7.05641249e-02]\n",
      " [-6.07254156e-01 -1.04895005e-01 -6.91647023e-02]\n",
      " [ 4.98124424e-01 -1.31028620e-01 -6.85938354e-02]\n",
      " [-5.45648662e-02 -1.71274388e-01 -6.21066350e-02]\n",
      " [-6.07254156e-01  8.62048758e-01 -5.48089551e-02]\n",
      " [-6.07254156e-01 -1.80682489e-01 -7.05653860e-02]\n",
      " [-6.07254156e-01 -1.67615681e-01 -6.96060942e-02]\n",
      " [-6.07254156e-01 -1.25801897e-01 -6.94244929e-02]\n",
      " [ 4.98124424e-01 -1.57162235e-01  3.15113329e-02]\n",
      " [-6.07254156e-01 -1.80682489e-01 -7.04825725e-02]\n",
      " [-6.07254156e-01 -1.77964593e-01 -7.04876169e-02]\n",
      " [ 1.60350300e+00 -1.57162235e-01 -6.86215800e-02]\n",
      " [-6.07254156e-01 -1.57162235e-01 -7.01420701e-02]\n",
      " [-5.45648662e-02  2.43006567e+00 -4.19455330e-02]\n",
      " [ 4.98124424e-01  7.80403016e-02 -5.63180951e-02]\n",
      " [-6.07254156e-01  2.57730712e-02 -5.71630454e-02]\n",
      " [-6.07254156e-01 -5.26277744e-02 -6.39941110e-02]\n",
      " [ 4.98124424e-01 -1.31028620e-01 -6.76534603e-02]\n",
      " [-5.45648662e-02 -1.54548874e-01 -6.86497450e-02]\n",
      " [-6.07254156e-01  2.35207864e-01 -2.34919872e-02]\n",
      " [-6.07254156e-01 -1.65786328e-01 -7.00516899e-02]\n",
      " [ 4.98124424e-01 -1.72842404e-01 -6.66269088e-02]\n",
      " [-6.07254156e-01 -1.62388958e-01 -5.88865758e-02]\n",
      " [-6.07254156e-01 -1.31028620e-01 -6.17871514e-02]\n",
      " [-5.45648662e-02 -5.26277744e-02 -6.38688398e-02]\n",
      " [-5.45648662e-02 -1.57162235e-01 -7.00125951e-02]\n",
      " [-5.45648662e-02 -7.87613897e-02 -6.86858971e-02]\n",
      " [ 4.98124424e-01 -1.31028620e-01 -6.70645174e-02]\n",
      " [-6.07254156e-01 -1.44095428e-01 -7.00130155e-02]\n",
      " [-6.07254156e-01 -1.31028620e-01 -6.99171704e-02]\n",
      " [ 2.70888158e+00 -1.78069127e-01 -5.40228571e-02]\n",
      " [-6.07254156e-01 -1.04372333e-01 -6.99550040e-02]\n",
      " [-6.07254156e-01 -1.80682489e-01 -7.01525794e-02]\n",
      " [-6.07254156e-01 -1.31028620e-01 -6.96060942e-02]\n",
      " [ 2.70888158e+00 -1.78069127e-01  1.38955798e-01]\n",
      " [ 4.98124424e-01 -1.72842404e-01 -7.04342295e-02]\n",
      " [-6.07254156e-01 -1.72842404e-01 -7.00264675e-02]\n",
      " [-5.45648662e-02 -1.31028620e-01 -6.92458343e-02]\n",
      " [-5.45648662e-02 -5.26277744e-02 -6.20187770e-02]\n",
      " [-6.07254156e-01 -1.72842404e-01 -6.84290490e-02]\n",
      " [-6.07254156e-01 -1.31028620e-01 -6.96060942e-02]\n",
      " [-6.07254156e-01 -1.25801897e-01 -6.95052046e-02]\n",
      " [ 2.15619229e+00 -1.57162235e-01 -6.85900520e-02]\n",
      " [-6.07254156e-01  1.12338491e+00 -5.16981929e-02]\n",
      " [-6.07254156e-01 -5.26277744e-02 -5.16981929e-02]\n",
      " [ 4.98124424e-01 -1.57162235e-01 -6.69884298e-02]\n",
      " [-6.07254156e-01 -1.04895005e-01 -6.91962302e-02]\n",
      " [ 1.60350300e+00 -1.57162235e-01 -5.88457996e-02]\n",
      " [-6.07254156e-01 -1.72842404e-01 -6.99634115e-02]\n",
      " [-6.07254156e-01 -1.31028620e-01 -6.98372995e-02]\n",
      " [-6.07254156e-01  1.35534255e-01 -6.59992915e-02]\n",
      " [-6.07254156e-01 -5.26277744e-02 -6.43093910e-02]\n",
      " [-6.07254156e-01 -1.72842404e-01 -6.93538702e-02]\n",
      " [ 4.98124424e-01  1.30307532e-01 -5.27629984e-02]\n",
      " [-6.07254156e-01 -1.31028620e-01 -7.00138563e-02]\n",
      " [-6.07254156e-01 -1.78069127e-01 -7.05153616e-02]\n",
      " [-6.07254156e-01 -1.31028620e-01 -6.99844301e-02]\n",
      " [-6.07254156e-01 -1.31028620e-01 -6.98372995e-02]\n",
      " [ 4.98124424e-01  3.39376454e-01 -4.81834520e-02]\n",
      " [-6.07254156e-01 -1.73260542e-01 -7.05141004e-02]\n",
      " [ 1.60350300e+00 -5.26277744e-02 -6.87594624e-02]\n",
      " [ 2.70888158e+00 -1.57162235e-01 -6.73209451e-02]\n",
      " [-6.07254156e-01 -1.51935512e-01 -5.69633681e-02]\n",
      " [-6.07254156e-01 -3.60544016e-04 -6.59068094e-02]\n",
      " [-5.45648662e-02 -1.57162235e-01 -6.96561186e-02]\n",
      " [-6.07254156e-01 -1.83243583e-01 -7.05935510e-02]\n",
      " [ 1.05081371e+00  3.39376454e-01  3.06806754e-02]\n",
      " [-6.07254156e-01 -7.87613897e-02 -6.13667781e-02]\n",
      " [-6.07254156e-01 -1.72842404e-01 -6.73781159e-02]\n",
      " [-5.45648662e-02 -2.64941592e-02 -3.29251634e-02]\n",
      " [-6.07254156e-01 -1.67615681e-01 -7.04586112e-02]\n",
      " [-6.07254156e-01 -1.31028620e-01 -6.93538702e-02]\n",
      " [-6.07254156e-01 -1.67615681e-01 -6.77144145e-02]\n",
      " [-6.07254156e-01 -1.31028620e-01 -6.59908841e-02]\n",
      " [ 4.98124424e-01 -1.57162235e-01 -7.06149900e-02]\n",
      " [-6.07254156e-01 -1.33641982e-01 -6.97763454e-02]\n",
      " [-6.07254156e-01 -1.72842404e-01 -7.05014893e-02]\n",
      " [-6.07254156e-01 -1.82250506e-01 -7.05935510e-02]\n",
      " [-6.07254156e-01 -1.57162235e-01 -7.00474861e-02]\n",
      " [-5.45648662e-02 -1.67615681e-01 -7.06149900e-02]\n",
      " [ 7.13039590e+00 -7.87613897e-02  1.75112103e-01]\n",
      " [-6.07254156e-01  3.62265173e-02 -6.58479572e-02]\n",
      " [ 1.05081371e+00 -7.87613897e-02 -6.50383182e-02]\n",
      " [ 4.98124424e-01 -2.64941592e-02 -6.50349552e-02]\n",
      " [ 2.15619229e+00  3.39376454e-01 -7.70444867e-03]\n",
      " [-6.07254156e-01  1.30307532e-01 -6.05260316e-02]\n",
      " [-6.07254156e-01 -1.82825445e-01 -7.05809398e-02]\n",
      " [ 3.26157087e+00 -1.78069127e-01 -6.00636210e-02]\n",
      " [-6.07254156e-01 -1.71274388e-01 -6.61674408e-02]\n",
      " [-6.07254156e-01 -1.67929285e-01 -7.02753284e-02]\n",
      " [-6.07254156e-01 -1.31028620e-01 -6.83344650e-02]\n",
      " [-6.07254156e-01  5.04342719e+00 -6.17176773e-03]\n",
      " [-6.07254156e-01 -1.57162235e-01 -6.95640569e-02]\n",
      " [-6.07254156e-01 -1.83243583e-01 -7.05935510e-02]\n",
      " [ 4.98124424e-01 -1.72946939e-01 -7.06149900e-02]\n",
      " [ 1.05081371e+00 -7.87613897e-02 -6.15866333e-02]\n",
      " [-5.45648662e-02  7.80403016e-02 -6.39297939e-02]\n",
      " [ 4.98124424e-01 -1.31028620e-01 -6.79876571e-02]\n",
      " [ 4.98124424e-01 -1.74410421e-01 -7.04691205e-02]\n",
      " [ 4.98124424e-01 -1.34321456e-01 -6.97666768e-02]\n",
      " [ 4.98124424e-01 -1.31028620e-01 -6.58908352e-02]\n",
      " [ 4.98124424e-01  7.80403016e-02 -6.34606574e-02]\n",
      " [ 1.05081371e+00 -1.34791861e-01 -6.55759756e-02]\n",
      " [-6.07254156e-01 -1.31028620e-01 -6.17871514e-02]\n",
      " [-5.45648662e-02 -1.72842404e-01 -6.59505282e-02]\n",
      " [-6.07254156e-01  1.43698829e+00 -1.58823903e-02]\n",
      " [-6.07254156e-01 -1.73260542e-01 -7.04947633e-02]\n",
      " [-6.07254156e-01  7.80403016e-02 -6.55705108e-02]\n",
      " [-6.07254156e-01 -5.26277744e-02 -6.83554837e-02]\n",
      " [-6.07254156e-01 -1.31028620e-01 -6.98751331e-02]\n",
      " [ 2.70888158e+00 -1.46708789e-01 -2.77949280e-02]\n",
      " [-5.45648662e-02 -1.49322151e-01 -7.02328707e-02]\n",
      " [-6.07254156e-01 -1.31028620e-01 -6.64112573e-02]\n",
      " [-6.07254156e-01 -1.82825445e-01 -7.05922899e-02]\n",
      " [-6.07254156e-01 -1.57162235e-01 -6.91962302e-02]\n",
      " [-6.07254156e-01 -1.31028620e-01 -6.59908841e-02]\n",
      " [-6.07254156e-01 -1.67615681e-01 -6.97006782e-02]\n",
      " [ 1.05081371e+00 -1.62388958e-01  6.83534656e-01]\n",
      " [ 2.15619229e+00 -1.57162235e-01 -5.25057299e-02]\n",
      " [-6.07254156e-01 -1.57162235e-01 -6.99844301e-02]\n",
      " [-6.07254156e-01  7.80403016e-02 -6.22075246e-02]\n",
      " [-6.07254156e-01 -1.72842404e-01 -7.04216183e-02]\n",
      " [ 3.26157087e+00 -1.78069127e-01 -5.61243030e-02]\n",
      " [ 4.98124424e-01 -1.72946939e-01 -7.06149900e-02]\n",
      " [ 4.98124424e-01 -5.26277744e-02 -6.84647808e-02]\n",
      " [ 4.98124424e-01 -1.31028620e-01 -6.95674198e-02]\n",
      " [-6.07254156e-01 -1.31028620e-01 -6.99003555e-02]\n",
      " [ 4.98124424e-01 -1.72946939e-01 -7.06149900e-02]\n",
      " [-5.45648662e-02 -1.04895005e-01 -3.90668169e-02]\n",
      " [ 3.26157087e+00 -1.57162235e-01 -5.96852850e-02]\n",
      " [-6.07254156e-01 -1.31028620e-01 -6.96166035e-02]\n",
      " [-6.07254156e-01 -1.72842404e-01 -7.03207287e-02]\n",
      " [-6.07254156e-01 -1.57162235e-01 -6.99844301e-02]\n",
      " [ 3.26157087e+00 -1.57162235e-01  1.76501197e+01]\n",
      " [ 3.26157087e+00 -8.39881127e-02 -3.46062361e-02]\n",
      " [-6.07254156e-01 -1.57162235e-01 -7.01946168e-02]\n",
      " [ 4.98124424e-01 -1.57162235e-01 -7.02589339e-02]\n",
      " [ 4.98124424e-01 -1.78069127e-01 -7.03295566e-02]\n",
      " [-6.07254156e-01 -5.26277744e-02 -6.59908841e-02]\n",
      " [-6.07254156e-01 -1.57162235e-01 -7.02114317e-02]\n",
      " [-6.07254156e-01 -1.83243583e-01 -7.06137289e-02]\n",
      " [-6.07254156e-01 -1.31028620e-01 -6.81978437e-02]\n",
      " [-6.07254156e-01 -1.72006129e-01 -7.03198880e-02]\n",
      " [-6.07254156e-01 -1.62388958e-01 -6.62431080e-02]\n",
      " [-5.45648662e-02 -1.29878741e-01 -6.78089985e-02]\n",
      " [ 4.98124424e-01 -1.06724358e-01 -5.20803122e-02]\n",
      " [ 4.98124424e-01 -1.22665863e-01 -6.17673938e-02]\n",
      " [ 1.60350300e+00 -1.81152894e-01 -6.15630924e-02]\n",
      " [-6.07254156e-01 -1.79219007e-01 -7.05166227e-02]\n",
      " [-6.07254156e-01 -7.87613897e-02 -6.88494223e-02]\n",
      " [ 4.98124424e-01 -7.87613897e-02 -6.68993107e-02]\n",
      " [-6.07254156e-01 -1.81832368e-01 -7.05620230e-02]\n",
      " [-6.07254156e-01 -1.57162235e-01 -6.99163297e-02]\n",
      " [-5.45648662e-02 -5.26277744e-02 -6.14058728e-02]\n",
      " [ 4.98124424e-01  3.39376454e-01 -6.20141529e-02]\n",
      " [-6.07254156e-01 -1.73260542e-01 -7.04842539e-02]\n",
      " [ 1.05081371e+00 -1.31028620e-01  7.18265031e-03]\n",
      " [ 4.98124424e-01 -1.32753439e-01 -6.79182955e-02]\n",
      " [ 4.98124424e-01 -3.60544016e-04 -5.91366979e-02]\n",
      " [-6.07254156e-01 -1.31028620e-01 -6.79456198e-02]\n",
      " [-6.07254156e-01 -1.72842404e-01 -7.04888781e-02]\n",
      " [-6.07254156e-01 -7.87613897e-02 -6.90596089e-02]\n",
      " [-5.45648662e-02 -7.87613897e-02 -6.78405265e-02]\n",
      " [-5.45648662e-02 -1.31028620e-01 -6.78691118e-02]\n",
      " [-5.45648662e-02 -1.04895005e-01 -6.91016463e-02]\n",
      " [-6.07254156e-01 -1.80682489e-01 -7.00685048e-02]\n",
      " [-6.07254156e-01 -1.31028620e-01 -6.97448174e-02]\n",
      " [-6.07254156e-01 -1.72842404e-01 -7.05225079e-02]\n",
      " [-6.07254156e-01  7.80403016e-02 -5.38000592e-02]\n",
      " [-6.07254156e-01 -1.51935512e-01 -7.01950371e-02]\n",
      " [ 4.98124424e-01 -1.04895005e-01 -6.89280321e-02]\n",
      " [-6.07254156e-01 -1.31028620e-01 -6.98541144e-02]\n",
      " [-6.07254156e-01 -7.87613897e-02 -6.81978437e-02]\n",
      " [-6.07254156e-01  7.80403016e-02 -6.73570972e-02]\n",
      " [-6.07254156e-01 -1.72842404e-01 -6.80086758e-02]\n",
      " [-6.07254156e-01 -7.87613897e-02 -5.71630454e-02]\n",
      " [-6.07254156e-01 -1.31028620e-01 -6.96060942e-02]\n",
      " [ 4.98124424e-01 -1.57162235e-01 -6.91411613e-02]\n",
      " [-6.07254156e-01 -1.12212417e-01 -6.99747615e-02]\n",
      " [-6.07254156e-01 -1.41482066e-01 -6.62431080e-02]\n",
      " [-6.07254156e-01 -1.46708789e-01 -7.00117544e-02]\n",
      " [-6.07254156e-01 -1.67615681e-01 -5.15720809e-02]\n",
      " [-6.07254156e-01 -1.57162235e-01 -6.99318835e-02]\n",
      " [ 4.98124424e-01 -1.78069127e-01 -7.04615538e-02]\n",
      " [-6.07254156e-01 -1.57162235e-01 -7.01160070e-02]\n",
      " [-6.07254156e-01 -1.72842404e-01 -7.01630888e-02]\n",
      " [ 4.98124424e-01 -7.87613897e-02 -6.06050617e-02]\n",
      " [ 4.98124424e-01 -1.72162930e-01 -7.04321277e-02]\n",
      " [-6.07254156e-01 -1.59409726e-01 -7.04153127e-02]\n",
      " [-6.07254156e-01 -1.57162235e-01 -7.02555709e-02]\n",
      " [-6.07254156e-01  7.57514297e-01 -6.20645977e-02]\n",
      " [-6.07254156e-01 -1.31028620e-01 -6.98120771e-02]\n",
      " [ 1.60350300e+00 -1.51935512e-01 -7.06149900e-02]\n",
      " [ 4.98124424e-01 -7.87613897e-02 -4.09025869e-02]\n",
      " [-6.07254156e-01 -1.72842404e-01 -6.83449744e-02]\n",
      " [-6.07254156e-01 -1.57162235e-01 -6.98137586e-02]\n",
      " [ 2.70888158e+00 -1.31028620e-01 -3.94022747e-02]\n",
      " [-6.07254156e-01 -7.87613897e-02 -5.92649117e-02]\n",
      " [-6.07254156e-01 -1.72842404e-01 -7.00012451e-02]\n",
      " [-5.45648662e-02 -1.57162235e-01 -6.74621905e-02]\n",
      " [-6.07254156e-01 -1.57162235e-01 -6.93538702e-02]\n",
      " [ 2.15619229e+00 -1.31028620e-01 -5.92724785e-02]\n",
      " [-6.07254156e-01  2.57730712e-02 -6.68316306e-02]\n",
      " [-6.07254156e-01 -1.73260542e-01 -7.05023300e-02]\n",
      " [-6.07254156e-01 -1.31028620e-01 -7.01483757e-02]\n",
      " [ 4.98124424e-01 -1.57162235e-01 -6.97889566e-02]\n",
      " [-6.07254156e-01 -1.57162235e-01 -6.99634115e-02]\n",
      " [ 4.98124424e-01 -1.31028620e-01 -6.78825638e-02]\n",
      " [-5.45648662e-02 -7.87613897e-02 -6.75479467e-02]]\n",
      "[[-6.07254156e-01  6.51045949e-01 -4.24314845e-02]\n",
      " [-6.07254156e-01 -1.51935512e-01 -5.77515680e-02]\n",
      " [-6.07254156e-01 -1.72842404e-01 -7.01105421e-02]\n",
      " [ 3.81426016e+00 -2.64941592e-02 -6.52379955e-02]\n",
      " [ 4.98124424e-01  7.80403016e-02 -6.60879903e-02]\n",
      " [-6.07254156e-01 -1.31028620e-01 -6.92697956e-02]\n",
      " [-6.07254156e-01 -1.80787023e-01 -7.04939225e-02]\n",
      " [-6.07254156e-01 -1.67615681e-01 -6.97322062e-02]\n",
      " [-6.07254156e-01 -1.57162235e-01 -6.93538702e-02]\n",
      " [ 4.98124424e-01  3.39376454e-01 -6.15609905e-02]\n",
      " [-6.07254156e-01 -5.58726706e-03 -6.56125481e-02]\n",
      " [ 4.98124424e-01 -1.57162235e-01 -1.99932205e-02]\n",
      " [-6.07254156e-01 -1.62388958e-01 -6.98162808e-02]\n",
      " [-6.07254156e-01 -1.57162235e-01 -5.88445385e-02]\n",
      " [-6.07254156e-01 -1.80682489e-01 -6.92067396e-02]\n",
      " [ 4.98124424e-01 -1.72946939e-01 -7.06149900e-02]\n",
      " [-6.07254156e-01 -1.78069127e-01 -7.00264675e-02]\n",
      " [-6.07254156e-01 -1.62388958e-01 -5.69948961e-02]\n",
      " [-6.07254156e-01 -7.72456400e-02 -6.89776361e-02]\n",
      " [-6.07254156e-01 -1.82511842e-01 -7.05834620e-02]\n",
      " [-5.45648662e-02 -1.44095428e-01 -6.63910794e-02]\n",
      " [-6.07254156e-01 -7.87613897e-02 -6.72520039e-02]\n",
      " [-6.07254156e-01 -1.72842404e-01 -7.01946168e-02]\n",
      " [ 1.05081371e+00 -1.72842404e-01 -6.24521819e-02]\n",
      " [-6.07254156e-01 -1.72842404e-01 -7.02366541e-02]\n",
      " [ 1.60350300e+00 -1.31028620e-01 -6.93605962e-02]\n",
      " [-6.07254156e-01  7.80403016e-02 -6.69997799e-02]\n",
      " [ 1.05081371e+00 -1.77023783e-01 -7.06149900e-02]\n",
      " [-6.07254156e-01 -1.57162235e-01 -6.90385903e-02]\n",
      " [ 4.98124424e-01 -1.57162235e-01 -6.86728655e-02]\n",
      " [-5.45648662e-02 -1.57580373e-01 -6.97961029e-02]\n",
      " [-6.07254156e-01 -1.20575174e-01 -6.94043150e-02]\n",
      " [-6.07254156e-01 -1.31028620e-01 -6.95640569e-02]\n",
      " [-6.07254156e-01  5.19066864e-02 -6.75601375e-02]\n",
      " [-6.07254156e-01 -1.31028620e-01 -6.98246883e-02]\n",
      " [-6.07254156e-01 -1.31028620e-01 -6.13667781e-02]\n",
      " [-6.07254156e-01 -1.17961812e-01 -6.96796595e-02]\n",
      " [-5.45648662e-02 -7.87613897e-02 -6.72856337e-02]\n",
      " [ 4.98124424e-01  4.14532403e-02 -5.79541879e-02]\n",
      " [-6.07254156e-01 -7.87613897e-02 -6.60539401e-02]\n",
      " [-6.07254156e-01 -1.31028620e-01 -6.98751331e-02]\n",
      " [-6.07254156e-01 -5.78544975e-02 -5.85082399e-02]\n",
      " [-6.07254156e-01 -1.82825445e-01 -7.05809398e-02]\n",
      " [-6.07254156e-01 -1.82773178e-01 -7.06044807e-02]\n",
      " [-6.07254156e-01  1.80285891e+00 -4.28199094e-02]\n",
      " [ 4.98124424e-01 -1.31028620e-01 -6.76521992e-02]\n",
      " [-6.07254156e-01 -1.67615681e-01 -6.98583181e-02]\n",
      " [-6.07254156e-01 -1.72842404e-01 -7.03333399e-02]\n",
      " [-6.07254156e-01 -2.64941592e-02 -6.82062512e-02]\n",
      " [-6.07254156e-01 -1.78069127e-01 -6.96481315e-02]\n",
      " [ 4.98124424e-01 -1.57162235e-01 -7.01626684e-02]\n",
      " [-6.07254156e-01  1.38472106e+00 -2.89980363e-02]\n",
      " [-6.07254156e-01 -1.04895005e-01 -6.92592862e-02]\n",
      " [ 2.15619229e+00 -1.57162235e-01 -6.77249238e-02]\n",
      " [ 1.05081371e+00  1.62808817e+01  7.95969793e-01]\n",
      " [ 4.98124424e-01 -5.75931613e-02 -6.66420423e-02]\n",
      " [-5.45648662e-02 -1.57162235e-01 -7.00878420e-02]\n",
      " [-6.07254156e-01 -1.81832368e-01 -7.05998566e-02]\n",
      " [-6.07254156e-01 -1.57162235e-01 -6.92908142e-02]\n",
      " [ 1.05081371e+00 -2.64941592e-02 -6.22583898e-02]\n",
      " [-6.07254156e-01 -1.57162235e-01 -7.02648191e-02]\n",
      " [ 4.98124424e-01 -7.88659241e-02 -6.95514457e-02]\n",
      " [ 4.98124424e-01 -1.57162235e-01 -6.93345331e-02]\n",
      " [-6.07254156e-01 -1.83243583e-01 -7.06145697e-02]\n",
      " [ 2.15619229e+00  7.80403016e-02  2.16043961e-02]\n",
      " [-6.07254156e-01  6.00712606e-01 -5.88865758e-02]\n",
      " [-6.07254156e-01 -1.72842404e-01 -6.54864361e-02]\n",
      " [-5.45648662e-02 -1.67615681e-01 -6.74041790e-02]\n",
      " [-6.07254156e-01 -7.87613897e-02 -6.72520039e-02]\n",
      " [-6.07254156e-01 -1.62388958e-01 -6.37881281e-02]\n",
      " [ 2.70888158e+00 -5.26277744e-02 -5.51137257e-02]\n",
      " [ 4.98124424e-01 -1.31028620e-01 -6.97549063e-02]\n",
      " [-6.07254156e-01 -1.76762447e-01 -7.05149412e-02]\n",
      " [-6.07254156e-01 -1.72842404e-01 -5.47669178e-02]\n",
      " [-6.07254156e-01 -1.31028620e-01 -6.96166035e-02]\n",
      " [-6.07254156e-01 -1.31028620e-01 -6.98120771e-02]\n",
      " [-6.07254156e-01 -5.26277744e-02 -6.71469106e-02]\n",
      " [ 1.05081371e+00 -1.31028620e-01 -6.74609294e-02]\n",
      " [-6.07254156e-01 -1.36255343e-01 -6.92718974e-02]]\n"
     ]
    }
   ],
   "source": [
    "import numpy\n",
    "from sklearn.model_selection import train_test_split\n",
    "\n",
    "numpy.random.seed(8626)\n",
    "\n",
    "(training_inputs, testing_inputs, training_classes\n",
    " ,testing_classes) = train_test_split(all_features_scaled, all_classes, train_size=0.75, test_size=0.25, random_state=1)\n",
    "print(training_inputs)\n",
    "\n",
    "print(testing_inputs)"
   ]
  },
  {
   "cell_type": "markdown",
   "metadata": {
    "deletable": true,
    "editable": true
   },
   "source": [
    "Now create a DecisionTreeClassifier and fit it to your training data."
   ]
  },
  {
   "cell_type": "code",
   "execution_count": 10,
   "metadata": {
    "collapsed": false,
    "deletable": true,
    "editable": true
   },
   "outputs": [
    {
     "data": {
      "text/plain": [
       "DecisionTreeClassifier(class_weight=None, criterion='gini', max_depth=None,\n",
       "            max_features=None, max_leaf_nodes=None,\n",
       "            min_impurity_decrease=0.0, min_impurity_split=None,\n",
       "            min_samples_leaf=1, min_samples_split=2,\n",
       "            min_weight_fraction_leaf=0.0, presort=False, random_state=1,\n",
       "            splitter='best')"
      ]
     },
     "execution_count": 10,
     "metadata": {},
     "output_type": "execute_result"
    }
   ],
   "source": [
    "from sklearn.tree import DecisionTreeClassifier\n",
    "\n",
    "classifier = DecisionTreeClassifier(random_state=1)\n",
    "\n",
    "classifier.fit(training_inputs, training_classes)\n",
    "\n"
   ]
  },
  {
   "cell_type": "markdown",
   "metadata": {
    "deletable": true,
    "editable": true
   },
   "source": [
    "Display the resulting decision tree."
   ]
  },
  {
   "cell_type": "code",
   "execution_count": 11,
   "metadata": {
    "collapsed": false,
    "deletable": true,
    "editable": true
   },
   "outputs": [
    {
     "ename": "Exception",
     "evalue": "\"dot\" not found in path.",
     "output_type": "error",
     "traceback": [
      "\u001b[0;31m---------------------------------------------------------------------------\u001b[0m",
      "\u001b[0;31mFileNotFoundError\u001b[0m                         Traceback (most recent call last)",
      "\u001b[0;32m/Users/weit/Library/Enthought/Canopy/edm/envs/User/lib/python3.5/site-packages/pydot.py\u001b[0m in \u001b[0;36mcreate\u001b[0;34m(self, prog, format)\u001b[0m\n\u001b[1;32m   1877\u001b[0m                 \u001b[0mshell\u001b[0m\u001b[0;34m=\u001b[0m\u001b[0;32mFalse\u001b[0m\u001b[0;34m,\u001b[0m\u001b[0;34m\u001b[0m\u001b[0m\n\u001b[0;32m-> 1878\u001b[0;31m                 stderr=subprocess.PIPE, stdout=subprocess.PIPE)\n\u001b[0m\u001b[1;32m   1879\u001b[0m         \u001b[0;32mexcept\u001b[0m \u001b[0mOSError\u001b[0m \u001b[0;32mas\u001b[0m \u001b[0me\u001b[0m\u001b[0;34m:\u001b[0m\u001b[0;34m\u001b[0m\u001b[0m\n",
      "\u001b[0;32m/Users/weit/Library/Enthought/Canopy/edm/envs/User/lib/python3.5/subprocess.py\u001b[0m in \u001b[0;36m__init__\u001b[0;34m(self, args, bufsize, executable, stdin, stdout, stderr, preexec_fn, close_fds, shell, cwd, env, universal_newlines, startupinfo, creationflags, restore_signals, start_new_session, pass_fds)\u001b[0m\n\u001b[1;32m    946\u001b[0m                                 \u001b[0merrread\u001b[0m\u001b[0;34m,\u001b[0m \u001b[0merrwrite\u001b[0m\u001b[0;34m,\u001b[0m\u001b[0;34m\u001b[0m\u001b[0m\n\u001b[0;32m--> 947\u001b[0;31m                                 restore_signals, start_new_session)\n\u001b[0m\u001b[1;32m    948\u001b[0m         \u001b[0;32mexcept\u001b[0m\u001b[0;34m:\u001b[0m\u001b[0;34m\u001b[0m\u001b[0m\n",
      "\u001b[0;32m/Users/weit/Library/Enthought/Canopy/edm/envs/User/lib/python3.5/subprocess.py\u001b[0m in \u001b[0;36m_execute_child\u001b[0;34m(self, args, executable, preexec_fn, close_fds, pass_fds, cwd, env, startupinfo, creationflags, shell, p2cread, p2cwrite, c2pread, c2pwrite, errread, errwrite, restore_signals, start_new_session)\u001b[0m\n\u001b[1;32m   1550\u001b[0m                                 \u001b[0merr_msg\u001b[0m \u001b[0;34m+=\u001b[0m \u001b[0;34m': '\u001b[0m \u001b[0;34m+\u001b[0m \u001b[0mrepr\u001b[0m\u001b[0;34m(\u001b[0m\u001b[0morig_executable\u001b[0m\u001b[0;34m)\u001b[0m\u001b[0;34m\u001b[0m\u001b[0m\n\u001b[0;32m-> 1551\u001b[0;31m                     \u001b[0;32mraise\u001b[0m \u001b[0mchild_exception_type\u001b[0m\u001b[0;34m(\u001b[0m\u001b[0merrno_num\u001b[0m\u001b[0;34m,\u001b[0m \u001b[0merr_msg\u001b[0m\u001b[0;34m)\u001b[0m\u001b[0;34m\u001b[0m\u001b[0m\n\u001b[0m\u001b[1;32m   1552\u001b[0m                 \u001b[0;32mraise\u001b[0m \u001b[0mchild_exception_type\u001b[0m\u001b[0;34m(\u001b[0m\u001b[0merr_msg\u001b[0m\u001b[0;34m)\u001b[0m\u001b[0;34m\u001b[0m\u001b[0m\n",
      "\u001b[0;31mFileNotFoundError\u001b[0m: [Errno 2] No such file or directory: 'dot'",
      "\nDuring handling of the above exception, another exception occurred:\n",
      "\u001b[0;31mException\u001b[0m                                 Traceback (most recent call last)",
      "\u001b[0;32m<ipython-input-11-25766946f270>\u001b[0m in \u001b[0;36m<module>\u001b[0;34m()\u001b[0m\n\u001b[1;32m      7\u001b[0m \u001b[0mtree\u001b[0m\u001b[0;34m.\u001b[0m\u001b[0mexport_graphviz\u001b[0m\u001b[0;34m(\u001b[0m\u001b[0mclassifier\u001b[0m\u001b[0;34m,\u001b[0m \u001b[0mout_file\u001b[0m\u001b[0;34m=\u001b[0m\u001b[0mdot_data\u001b[0m\u001b[0;34m,\u001b[0m \u001b[0mfeature_names\u001b[0m\u001b[0;34m=\u001b[0m\u001b[0mfeature_names\u001b[0m\u001b[0;34m)\u001b[0m\u001b[0;34m\u001b[0m\u001b[0m\n\u001b[1;32m      8\u001b[0m \u001b[0mgraph\u001b[0m \u001b[0;34m=\u001b[0m \u001b[0mgraph_from_dot_data\u001b[0m\u001b[0;34m(\u001b[0m\u001b[0mdot_data\u001b[0m\u001b[0;34m.\u001b[0m\u001b[0mgetvalue\u001b[0m\u001b[0;34m(\u001b[0m\u001b[0;34m)\u001b[0m\u001b[0;34m)\u001b[0m\u001b[0;34m[\u001b[0m\u001b[0;36m0\u001b[0m\u001b[0;34m]\u001b[0m\u001b[0;34m\u001b[0m\u001b[0m\n\u001b[0;32m----> 9\u001b[0;31m \u001b[0mImage\u001b[0m\u001b[0;34m(\u001b[0m\u001b[0mgraph\u001b[0m\u001b[0;34m.\u001b[0m\u001b[0mcreate_png\u001b[0m\u001b[0;34m(\u001b[0m\u001b[0;34m)\u001b[0m\u001b[0;34m)\u001b[0m\u001b[0;34m\u001b[0m\u001b[0m\n\u001b[0m",
      "\u001b[0;32m/Users/weit/Library/Enthought/Canopy/edm/envs/User/lib/python3.5/site-packages/pydot.py\u001b[0m in \u001b[0;36m<lambda>\u001b[0;34m(f, prog)\u001b[0m\n\u001b[1;32m   1679\u001b[0m                 \u001b[0;34m'create_'\u001b[0m\u001b[0;34m+\u001b[0m\u001b[0mfrmt\u001b[0m\u001b[0;34m,\u001b[0m\u001b[0;34m\u001b[0m\u001b[0m\n\u001b[1;32m   1680\u001b[0m                 \u001b[0;32mlambda\u001b[0m \u001b[0mf\u001b[0m\u001b[0;34m=\u001b[0m\u001b[0mfrmt\u001b[0m\u001b[0;34m,\u001b[0m \u001b[0mprog\u001b[0m\u001b[0;34m=\u001b[0m\u001b[0mself\u001b[0m\u001b[0;34m.\u001b[0m\u001b[0mprog\u001b[0m\u001b[0;34m:\u001b[0m\u001b[0;34m\u001b[0m\u001b[0m\n\u001b[0;32m-> 1681\u001b[0;31m                     self.create(format=f, prog=prog))\n\u001b[0m\u001b[1;32m   1682\u001b[0m             \u001b[0mf\u001b[0m \u001b[0;34m=\u001b[0m \u001b[0mself\u001b[0m\u001b[0;34m.\u001b[0m\u001b[0m__dict__\u001b[0m\u001b[0;34m[\u001b[0m\u001b[0;34m'create_'\u001b[0m\u001b[0;34m+\u001b[0m\u001b[0mfrmt\u001b[0m\u001b[0;34m]\u001b[0m\u001b[0;34m\u001b[0m\u001b[0m\n\u001b[1;32m   1683\u001b[0m             f.__doc__ = (\n",
      "\u001b[0;32m/Users/weit/Library/Enthought/Canopy/edm/envs/User/lib/python3.5/site-packages/pydot.py\u001b[0m in \u001b[0;36mcreate\u001b[0;34m(self, prog, format)\u001b[0m\n\u001b[1;32m   1881\u001b[0m                 raise Exception(\n\u001b[1;32m   1882\u001b[0m                     '\"{prog}\" not found in path.'.format(\n\u001b[0;32m-> 1883\u001b[0;31m                         prog=prog))\n\u001b[0m\u001b[1;32m   1884\u001b[0m             \u001b[0;32melse\u001b[0m\u001b[0;34m:\u001b[0m\u001b[0;34m\u001b[0m\u001b[0m\n\u001b[1;32m   1885\u001b[0m                 \u001b[0;32mraise\u001b[0m\u001b[0;34m\u001b[0m\u001b[0m\n",
      "\u001b[0;31mException\u001b[0m: \"dot\" not found in path."
     ]
    }
   ],
   "source": [
    "from IPython.display import Image  \n",
    "from sklearn.externals.six import StringIO  \n",
    "from sklearn import tree\n",
    "from pydot import graph_from_dot_data \n",
    "\n",
    "dot_data = StringIO()  \n",
    "tree.export_graphviz(classifier, out_file=dot_data, feature_names=feature_names)  \n",
    "graph = graph_from_dot_data(dot_data.getvalue())[0] \n",
    "Image(graph.create_png())  "
   ]
  },
  {
   "cell_type": "markdown",
   "metadata": {
    "deletable": true,
    "editable": true
   },
   "source": [
    "Measure the accuracy of the resulting decision tree model using your test data."
   ]
  },
  {
   "cell_type": "code",
   "execution_count": 13,
   "metadata": {
    "collapsed": false,
    "deletable": true,
    "editable": true
   },
   "outputs": [
    {
     "name": "stdout",
     "output_type": "stream",
     "text": [
      "[1 1 1 1 1 0 1 1 0 1 1 1 1 0 0 0 1 0 1 0 0 1 0 1 1 1 0 0 0 0 1 0 0 0 1 0 0\n",
      " 0 1 1 1 1 0 1 0 0 1 0 0 1 1 0 0 1 1 1 0 1 1 1 0 0 1 1 0 0 0 0 1 0 1 0 1 1\n",
      " 0 0 1 1 1]\n",
      "[1 0 1 0 1 1 0 0 1 1 1 0 0 0 1 0 1 0 0 1 0 1 0 1 0 0 1 0 0 1 1 1 0 1 1 0 0\n",
      " 0 1 1 0 0 1 0 1 1 0 1 1 0 1 1 1 1 1 1 1 1 1 1 0 0 1 0 0 1 1 0 1 1 0 0 1 1\n",
      " 0 0 1 1 1]\n"
     ]
    },
    {
     "data": {
      "text/plain": [
       "0.5569620253164557"
      ]
     },
     "execution_count": 13,
     "metadata": {},
     "output_type": "execute_result"
    }
   ],
   "source": [
    "predictions = classifier.predict(testing_inputs)\n",
    "print(testing_classes)\n",
    "print(predictions)\n",
    "classifier.score(testing_inputs, testing_classes)"
   ]
  },
  {
   "cell_type": "markdown",
   "metadata": {
    "deletable": true,
    "editable": true
   },
   "source": [
    "Now instead of a single train/test split, use K-Fold cross validation to get a better measure of your model's accuracy (K=10). Hint: use model_selection.cross_val_score"
   ]
  },
  {
   "cell_type": "code",
   "execution_count": 128,
   "metadata": {
    "collapsed": false,
    "deletable": true,
    "editable": true
   },
   "outputs": [
    {
     "data": {
      "text/plain": [
       "0.5633339442815248"
      ]
     },
     "execution_count": 128,
     "metadata": {},
     "output_type": "execute_result"
    }
   ],
   "source": [
    "from sklearn.model_selection import cross_val_score\n",
    "\n",
    "classifier = DecisionTreeClassifier(random_state=1)\n",
    "\n",
    "cv_scores = cross_val_score(classifier, all_features_scaled, all_classes, cv=10)\n",
    "\n",
    "cv_scores.mean()"
   ]
  },
  {
   "cell_type": "markdown",
   "metadata": {
    "deletable": true,
    "editable": true
   },
   "source": [
    "Now try a RandomForestClassifier instead. Does it perform better?"
   ]
  },
  {
   "cell_type": "code",
   "execution_count": 129,
   "metadata": {
    "collapsed": false,
    "deletable": true,
    "editable": true
   },
   "outputs": [
    {
     "data": {
      "text/plain": [
       "0.5601020283479962"
      ]
     },
     "execution_count": 129,
     "metadata": {},
     "output_type": "execute_result"
    }
   ],
   "source": [
    "from sklearn.ensemble import RandomForestClassifier\n",
    "\n",
    "clf = RandomForestClassifier(n_estimators=10, random_state=1)\n",
    "\n",
    "    \n",
    "cv_scores = cross_val_score(clf, all_features_scaled, all_classes, cv=10)\n",
    "\n",
    "cv_scores.mean()"
   ]
  },
  {
   "cell_type": "markdown",
   "metadata": {
    "deletable": true,
    "editable": true
   },
   "source": [
    "## SVM\n",
    "\n",
    "Next try using svm.SVC with a linear kernel. How does it compare to the decision tree?"
   ]
  },
  {
   "cell_type": "code",
   "execution_count": 130,
   "metadata": {
    "collapsed": false,
    "deletable": true,
    "editable": true
   },
   "outputs": [],
   "source": [
    "from sklearn import svm\n",
    "\n",
    "C = 1.0\n",
    "svc = svm.SVC(kernel='linear', C=C)"
   ]
  },
  {
   "cell_type": "code",
   "execution_count": 131,
   "metadata": {
    "collapsed": false,
    "deletable": true,
    "editable": true
   },
   "outputs": [
    {
     "data": {
      "text/plain": [
       "0.506152248289345"
      ]
     },
     "execution_count": 131,
     "metadata": {},
     "output_type": "execute_result"
    }
   ],
   "source": [
    "cv_scores = cross_val_score(svc, all_features_scaled, all_classes, cv=10)\n",
    "\n",
    "cv_scores.mean()"
   ]
  },
  {
   "cell_type": "markdown",
   "metadata": {
    "deletable": true,
    "editable": true
   },
   "source": [
    "## KNN\n",
    "How about K-Nearest-Neighbors? Hint: use neighbors.KNeighborsClassifier - it's a lot easier than implementing KNN from scratch like we did earlier in the course. Start with a K of 10. K is an example of a hyperparameter - a parameter on the model itself which may need to be tuned for best results on your particular data set."
   ]
  },
  {
   "cell_type": "code",
   "execution_count": 132,
   "metadata": {
    "collapsed": false,
    "deletable": true,
    "editable": true
   },
   "outputs": [
    {
     "data": {
      "text/plain": [
       "0.5131140029325513"
      ]
     },
     "execution_count": 132,
     "metadata": {},
     "output_type": "execute_result"
    }
   ],
   "source": [
    "from sklearn import neighbors\n",
    "clf = neighbors.KNeighborsClassifier(n_neighbors=10)\n",
    "cv_scores = cross_val_score(clf, all_features_scaled, all_classes, cv=10)\n",
    "cv_scores.mean()"
   ]
  },
  {
   "cell_type": "markdown",
   "metadata": {
    "deletable": true,
    "editable": true
   },
   "source": [
    "Choosing K is tricky, so we can't discard KNN until we've tried different values of K. Write a for loop to run KNN with K values ranging from 1 to 50 and see if K makes a substantial difference. Make a note of the best performance you could get out of KNN."
   ]
  },
  {
   "cell_type": "code",
   "execution_count": 133,
   "metadata": {
    "collapsed": false,
    "deletable": true,
    "editable": true
   },
   "outputs": [
    {
     "name": "stdout",
     "output_type": "stream",
     "text": [
      "1 0.5313599706744867\n",
      "2 0.4936339198435973\n",
      "3 0.5163214809384165\n",
      "4 0.49022482893450636\n",
      "5 0.5005895650048876\n",
      "6 0.4962854349951124\n",
      "7 0.5097751710654936\n",
      "8 0.49346285434995113\n",
      "9 0.5189668866080156\n",
      "10 0.5131140029325513\n",
      "11 0.5349890029325512\n",
      "12 0.5253115835777126\n",
      "13 0.5283296676441838\n",
      "14 0.5192509775171066\n",
      "15 0.48709371945259045\n",
      "16 0.5030272482893451\n",
      "17 0.49365224828934495\n",
      "18 0.5127046676441838\n",
      "19 0.5192570869990224\n",
      "20 0.5065615835777125\n",
      "21 0.5387127321603128\n",
      "22 0.5516220674486803\n",
      "23 0.5387127321603129\n",
      "24 0.5418438416422287\n",
      "25 0.5419385386119258\n",
      "26 0.5514204545454545\n",
      "27 0.5194525904203322\n",
      "28 0.532261119257087\n",
      "29 0.5291361192570869\n",
      "30 0.5194586999022481\n",
      "31 0.5132025904203322\n",
      "32 0.5193578934506353\n",
      "33 0.5387066226783969\n",
      "34 0.5354869257086998\n",
      "35 0.5131964809384164\n",
      "36 0.522974706744868\n",
      "37 0.5293255131964809\n",
      "38 0.5263960166177908\n",
      "39 0.5289283968719453\n",
      "40 0.5262952101661779\n",
      "41 0.5229624877810363\n",
      "42 0.5390915200391007\n",
      "43 0.5200329912023461\n",
      "44 0.5166116813294234\n",
      "45 0.5135813782991202\n",
      "46 0.5007789589442816\n",
      "47 0.5103555718475075\n",
      "48 0.5008797653958945\n",
      "49 0.4975531524926686\n"
     ]
    }
   ],
   "source": [
    "for n in range(1, 50):\n",
    "    clf = neighbors.KNeighborsClassifier(n_neighbors=n)\n",
    "    cv_scores = cross_val_score(clf, all_features_scaled, all_classes, cv=10)\n",
    "    print(n, cv_scores.mean())"
   ]
  },
  {
   "cell_type": "markdown",
   "metadata": {
    "deletable": true,
    "editable": true
   },
   "source": [
    "## Naive Bayes\n",
    "\n",
    "Now try naive_bayes.MultinomialNB. How does its accuracy stack up? Hint: you'll need to use MinMaxScaler to get the features in the range MultinomialNB requires."
   ]
  },
  {
   "cell_type": "code",
   "execution_count": 134,
   "metadata": {
    "collapsed": false,
    "deletable": true,
    "editable": true
   },
   "outputs": [
    {
     "name": "stderr",
     "output_type": "stream",
     "text": [
      "/Users/weit/Library/Enthought/Canopy/edm/envs/User/lib/python3.5/site-packages/sklearn/utils/validation.py:590: DataConversionWarning: Data with input dtype object was converted to float64 by MinMaxScaler.\n",
      "  warnings.warn(msg, DataConversionWarning)\n",
      "/Users/weit/Library/Enthought/Canopy/edm/envs/User/lib/python3.5/site-packages/sklearn/model_selection/_validation.py:542: FutureWarning: From version 0.22, errors during fit will result in a cross validation score of NaN by default. Use error_score='raise' if you want an exception raised or error_score=np.nan to adopt the behavior from version 0.22.\n",
      "  FutureWarning)\n"
     ]
    },
    {
     "ename": "ValueError",
     "evalue": "Input X must be non-negative",
     "output_type": "error",
     "traceback": [
      "\u001b[0;31m---------------------------------------------------------------------------\u001b[0m",
      "\u001b[0;31mValueError\u001b[0m                                Traceback (most recent call last)",
      "\u001b[0;32m<ipython-input-134-4fce9a11559a>\u001b[0m in \u001b[0;36m<module>\u001b[0;34m()\u001b[0m\n\u001b[1;32m      7\u001b[0m \u001b[0mclf\u001b[0m \u001b[0;34m=\u001b[0m \u001b[0mMultinomialNB\u001b[0m\u001b[0;34m(\u001b[0m\u001b[0;34m)\u001b[0m\u001b[0;34m\u001b[0m\u001b[0m\n\u001b[1;32m      8\u001b[0m \u001b[0;34m\u001b[0m\u001b[0m\n\u001b[0;32m----> 9\u001b[0;31m \u001b[0mcv_scores\u001b[0m \u001b[0;34m=\u001b[0m \u001b[0mcross_val_score\u001b[0m\u001b[0;34m(\u001b[0m\u001b[0mclf\u001b[0m\u001b[0;34m,\u001b[0m \u001b[0mall_features_scaled\u001b[0m\u001b[0;34m,\u001b[0m \u001b[0mall_classes\u001b[0m\u001b[0;34m,\u001b[0m \u001b[0mcv\u001b[0m\u001b[0;34m=\u001b[0m\u001b[0;36m10\u001b[0m\u001b[0;34m)\u001b[0m\u001b[0;34m\u001b[0m\u001b[0m\n\u001b[0m\u001b[1;32m     10\u001b[0m \u001b[0;34m\u001b[0m\u001b[0m\n\u001b[1;32m     11\u001b[0m \u001b[0mcv_scores\u001b[0m\u001b[0;34m.\u001b[0m\u001b[0mmean\u001b[0m\u001b[0;34m(\u001b[0m\u001b[0;34m)\u001b[0m\u001b[0;34m\u001b[0m\u001b[0m\n",
      "\u001b[0;32m/Users/weit/Library/Enthought/Canopy/edm/envs/User/lib/python3.5/site-packages/sklearn/model_selection/_validation.py\u001b[0m in \u001b[0;36mcross_val_score\u001b[0;34m(estimator, X, y, groups, scoring, cv, n_jobs, verbose, fit_params, pre_dispatch, error_score)\u001b[0m\n\u001b[1;32m    400\u001b[0m                                 \u001b[0mfit_params\u001b[0m\u001b[0;34m=\u001b[0m\u001b[0mfit_params\u001b[0m\u001b[0;34m,\u001b[0m\u001b[0;34m\u001b[0m\u001b[0m\n\u001b[1;32m    401\u001b[0m                                 \u001b[0mpre_dispatch\u001b[0m\u001b[0;34m=\u001b[0m\u001b[0mpre_dispatch\u001b[0m\u001b[0;34m,\u001b[0m\u001b[0;34m\u001b[0m\u001b[0m\n\u001b[0;32m--> 402\u001b[0;31m                                 error_score=error_score)\n\u001b[0m\u001b[1;32m    403\u001b[0m     \u001b[0;32mreturn\u001b[0m \u001b[0mcv_results\u001b[0m\u001b[0;34m[\u001b[0m\u001b[0;34m'test_score'\u001b[0m\u001b[0;34m]\u001b[0m\u001b[0;34m\u001b[0m\u001b[0m\n\u001b[1;32m    404\u001b[0m \u001b[0;34m\u001b[0m\u001b[0m\n",
      "\u001b[0;32m/Users/weit/Library/Enthought/Canopy/edm/envs/User/lib/python3.5/site-packages/sklearn/model_selection/_validation.py\u001b[0m in \u001b[0;36mcross_validate\u001b[0;34m(estimator, X, y, groups, scoring, cv, n_jobs, verbose, fit_params, pre_dispatch, return_train_score, return_estimator, error_score)\u001b[0m\n\u001b[1;32m    238\u001b[0m             \u001b[0mreturn_times\u001b[0m\u001b[0;34m=\u001b[0m\u001b[0;32mTrue\u001b[0m\u001b[0;34m,\u001b[0m \u001b[0mreturn_estimator\u001b[0m\u001b[0;34m=\u001b[0m\u001b[0mreturn_estimator\u001b[0m\u001b[0;34m,\u001b[0m\u001b[0;34m\u001b[0m\u001b[0m\n\u001b[1;32m    239\u001b[0m             error_score=error_score)\n\u001b[0;32m--> 240\u001b[0;31m         for train, test in cv.split(X, y, groups))\n\u001b[0m\u001b[1;32m    241\u001b[0m \u001b[0;34m\u001b[0m\u001b[0m\n\u001b[1;32m    242\u001b[0m     \u001b[0mzipped_scores\u001b[0m \u001b[0;34m=\u001b[0m \u001b[0mlist\u001b[0m\u001b[0;34m(\u001b[0m\u001b[0mzip\u001b[0m\u001b[0;34m(\u001b[0m\u001b[0;34m*\u001b[0m\u001b[0mscores\u001b[0m\u001b[0;34m)\u001b[0m\u001b[0;34m)\u001b[0m\u001b[0;34m\u001b[0m\u001b[0m\n",
      "\u001b[0;32m/Users/weit/Library/Enthought/Canopy/edm/envs/User/lib/python3.5/site-packages/sklearn/externals/joblib/parallel.py\u001b[0m in \u001b[0;36m__call__\u001b[0;34m(self, iterable)\u001b[0m\n\u001b[1;32m    981\u001b[0m             \u001b[0;31m# remaining jobs.\u001b[0m\u001b[0;34m\u001b[0m\u001b[0;34m\u001b[0m\u001b[0m\n\u001b[1;32m    982\u001b[0m             \u001b[0mself\u001b[0m\u001b[0;34m.\u001b[0m\u001b[0m_iterating\u001b[0m \u001b[0;34m=\u001b[0m \u001b[0;32mFalse\u001b[0m\u001b[0;34m\u001b[0m\u001b[0m\n\u001b[0;32m--> 983\u001b[0;31m             \u001b[0;32mif\u001b[0m \u001b[0mself\u001b[0m\u001b[0;34m.\u001b[0m\u001b[0mdispatch_one_batch\u001b[0m\u001b[0;34m(\u001b[0m\u001b[0miterator\u001b[0m\u001b[0;34m)\u001b[0m\u001b[0;34m:\u001b[0m\u001b[0;34m\u001b[0m\u001b[0m\n\u001b[0m\u001b[1;32m    984\u001b[0m                 \u001b[0mself\u001b[0m\u001b[0;34m.\u001b[0m\u001b[0m_iterating\u001b[0m \u001b[0;34m=\u001b[0m \u001b[0mself\u001b[0m\u001b[0;34m.\u001b[0m\u001b[0m_original_iterator\u001b[0m \u001b[0;32mis\u001b[0m \u001b[0;32mnot\u001b[0m \u001b[0;32mNone\u001b[0m\u001b[0;34m\u001b[0m\u001b[0m\n\u001b[1;32m    985\u001b[0m \u001b[0;34m\u001b[0m\u001b[0m\n",
      "\u001b[0;32m/Users/weit/Library/Enthought/Canopy/edm/envs/User/lib/python3.5/site-packages/sklearn/externals/joblib/parallel.py\u001b[0m in \u001b[0;36mdispatch_one_batch\u001b[0;34m(self, iterator)\u001b[0m\n\u001b[1;32m    823\u001b[0m                 \u001b[0;32mreturn\u001b[0m \u001b[0;32mFalse\u001b[0m\u001b[0;34m\u001b[0m\u001b[0m\n\u001b[1;32m    824\u001b[0m             \u001b[0;32melse\u001b[0m\u001b[0;34m:\u001b[0m\u001b[0;34m\u001b[0m\u001b[0m\n\u001b[0;32m--> 825\u001b[0;31m                 \u001b[0mself\u001b[0m\u001b[0;34m.\u001b[0m\u001b[0m_dispatch\u001b[0m\u001b[0;34m(\u001b[0m\u001b[0mtasks\u001b[0m\u001b[0;34m)\u001b[0m\u001b[0;34m\u001b[0m\u001b[0m\n\u001b[0m\u001b[1;32m    826\u001b[0m                 \u001b[0;32mreturn\u001b[0m \u001b[0;32mTrue\u001b[0m\u001b[0;34m\u001b[0m\u001b[0m\n\u001b[1;32m    827\u001b[0m \u001b[0;34m\u001b[0m\u001b[0m\n",
      "\u001b[0;32m/Users/weit/Library/Enthought/Canopy/edm/envs/User/lib/python3.5/site-packages/sklearn/externals/joblib/parallel.py\u001b[0m in \u001b[0;36m_dispatch\u001b[0;34m(self, batch)\u001b[0m\n\u001b[1;32m    780\u001b[0m         \u001b[0;32mwith\u001b[0m \u001b[0mself\u001b[0m\u001b[0;34m.\u001b[0m\u001b[0m_lock\u001b[0m\u001b[0;34m:\u001b[0m\u001b[0;34m\u001b[0m\u001b[0m\n\u001b[1;32m    781\u001b[0m             \u001b[0mjob_idx\u001b[0m \u001b[0;34m=\u001b[0m \u001b[0mlen\u001b[0m\u001b[0;34m(\u001b[0m\u001b[0mself\u001b[0m\u001b[0;34m.\u001b[0m\u001b[0m_jobs\u001b[0m\u001b[0;34m)\u001b[0m\u001b[0;34m\u001b[0m\u001b[0m\n\u001b[0;32m--> 782\u001b[0;31m             \u001b[0mjob\u001b[0m \u001b[0;34m=\u001b[0m \u001b[0mself\u001b[0m\u001b[0;34m.\u001b[0m\u001b[0m_backend\u001b[0m\u001b[0;34m.\u001b[0m\u001b[0mapply_async\u001b[0m\u001b[0;34m(\u001b[0m\u001b[0mbatch\u001b[0m\u001b[0;34m,\u001b[0m \u001b[0mcallback\u001b[0m\u001b[0;34m=\u001b[0m\u001b[0mcb\u001b[0m\u001b[0;34m)\u001b[0m\u001b[0;34m\u001b[0m\u001b[0m\n\u001b[0m\u001b[1;32m    783\u001b[0m             \u001b[0;31m# A job can complete so quickly than its callback is\u001b[0m\u001b[0;34m\u001b[0m\u001b[0;34m\u001b[0m\u001b[0m\n\u001b[1;32m    784\u001b[0m             \u001b[0;31m# called before we get here, causing self._jobs to\u001b[0m\u001b[0;34m\u001b[0m\u001b[0;34m\u001b[0m\u001b[0m\n",
      "\u001b[0;32m/Users/weit/Library/Enthought/Canopy/edm/envs/User/lib/python3.5/site-packages/sklearn/externals/joblib/_parallel_backends.py\u001b[0m in \u001b[0;36mapply_async\u001b[0;34m(self, func, callback)\u001b[0m\n\u001b[1;32m    180\u001b[0m     \u001b[0;32mdef\u001b[0m \u001b[0mapply_async\u001b[0m\u001b[0;34m(\u001b[0m\u001b[0mself\u001b[0m\u001b[0;34m,\u001b[0m \u001b[0mfunc\u001b[0m\u001b[0;34m,\u001b[0m \u001b[0mcallback\u001b[0m\u001b[0;34m=\u001b[0m\u001b[0;32mNone\u001b[0m\u001b[0;34m)\u001b[0m\u001b[0;34m:\u001b[0m\u001b[0;34m\u001b[0m\u001b[0m\n\u001b[1;32m    181\u001b[0m         \u001b[0;34m\"\"\"Schedule a func to be run\"\"\"\u001b[0m\u001b[0;34m\u001b[0m\u001b[0m\n\u001b[0;32m--> 182\u001b[0;31m         \u001b[0mresult\u001b[0m \u001b[0;34m=\u001b[0m \u001b[0mImmediateResult\u001b[0m\u001b[0;34m(\u001b[0m\u001b[0mfunc\u001b[0m\u001b[0;34m)\u001b[0m\u001b[0;34m\u001b[0m\u001b[0m\n\u001b[0m\u001b[1;32m    183\u001b[0m         \u001b[0;32mif\u001b[0m \u001b[0mcallback\u001b[0m\u001b[0;34m:\u001b[0m\u001b[0;34m\u001b[0m\u001b[0m\n\u001b[1;32m    184\u001b[0m             \u001b[0mcallback\u001b[0m\u001b[0;34m(\u001b[0m\u001b[0mresult\u001b[0m\u001b[0;34m)\u001b[0m\u001b[0;34m\u001b[0m\u001b[0m\n",
      "\u001b[0;32m/Users/weit/Library/Enthought/Canopy/edm/envs/User/lib/python3.5/site-packages/sklearn/externals/joblib/_parallel_backends.py\u001b[0m in \u001b[0;36m__init__\u001b[0;34m(self, batch)\u001b[0m\n\u001b[1;32m    543\u001b[0m         \u001b[0;31m# Don't delay the application, to avoid keeping the input\u001b[0m\u001b[0;34m\u001b[0m\u001b[0;34m\u001b[0m\u001b[0m\n\u001b[1;32m    544\u001b[0m         \u001b[0;31m# arguments in memory\u001b[0m\u001b[0;34m\u001b[0m\u001b[0;34m\u001b[0m\u001b[0m\n\u001b[0;32m--> 545\u001b[0;31m         \u001b[0mself\u001b[0m\u001b[0;34m.\u001b[0m\u001b[0mresults\u001b[0m \u001b[0;34m=\u001b[0m \u001b[0mbatch\u001b[0m\u001b[0;34m(\u001b[0m\u001b[0;34m)\u001b[0m\u001b[0;34m\u001b[0m\u001b[0m\n\u001b[0m\u001b[1;32m    546\u001b[0m \u001b[0;34m\u001b[0m\u001b[0m\n\u001b[1;32m    547\u001b[0m     \u001b[0;32mdef\u001b[0m \u001b[0mget\u001b[0m\u001b[0;34m(\u001b[0m\u001b[0mself\u001b[0m\u001b[0;34m)\u001b[0m\u001b[0;34m:\u001b[0m\u001b[0;34m\u001b[0m\u001b[0m\n",
      "\u001b[0;32m/Users/weit/Library/Enthought/Canopy/edm/envs/User/lib/python3.5/site-packages/sklearn/externals/joblib/parallel.py\u001b[0m in \u001b[0;36m__call__\u001b[0;34m(self)\u001b[0m\n\u001b[1;32m    259\u001b[0m         \u001b[0;32mwith\u001b[0m \u001b[0mparallel_backend\u001b[0m\u001b[0;34m(\u001b[0m\u001b[0mself\u001b[0m\u001b[0;34m.\u001b[0m\u001b[0m_backend\u001b[0m\u001b[0;34m)\u001b[0m\u001b[0;34m:\u001b[0m\u001b[0;34m\u001b[0m\u001b[0m\n\u001b[1;32m    260\u001b[0m             return [func(*args, **kwargs)\n\u001b[0;32m--> 261\u001b[0;31m                     for func, args, kwargs in self.items]\n\u001b[0m\u001b[1;32m    262\u001b[0m \u001b[0;34m\u001b[0m\u001b[0m\n\u001b[1;32m    263\u001b[0m     \u001b[0;32mdef\u001b[0m \u001b[0m__len__\u001b[0m\u001b[0;34m(\u001b[0m\u001b[0mself\u001b[0m\u001b[0;34m)\u001b[0m\u001b[0;34m:\u001b[0m\u001b[0;34m\u001b[0m\u001b[0m\n",
      "\u001b[0;32m/Users/weit/Library/Enthought/Canopy/edm/envs/User/lib/python3.5/site-packages/sklearn/externals/joblib/parallel.py\u001b[0m in \u001b[0;36m<listcomp>\u001b[0;34m(.0)\u001b[0m\n\u001b[1;32m    259\u001b[0m         \u001b[0;32mwith\u001b[0m \u001b[0mparallel_backend\u001b[0m\u001b[0;34m(\u001b[0m\u001b[0mself\u001b[0m\u001b[0;34m.\u001b[0m\u001b[0m_backend\u001b[0m\u001b[0;34m)\u001b[0m\u001b[0;34m:\u001b[0m\u001b[0;34m\u001b[0m\u001b[0m\n\u001b[1;32m    260\u001b[0m             return [func(*args, **kwargs)\n\u001b[0;32m--> 261\u001b[0;31m                     for func, args, kwargs in self.items]\n\u001b[0m\u001b[1;32m    262\u001b[0m \u001b[0;34m\u001b[0m\u001b[0m\n\u001b[1;32m    263\u001b[0m     \u001b[0;32mdef\u001b[0m \u001b[0m__len__\u001b[0m\u001b[0;34m(\u001b[0m\u001b[0mself\u001b[0m\u001b[0;34m)\u001b[0m\u001b[0;34m:\u001b[0m\u001b[0;34m\u001b[0m\u001b[0m\n",
      "\u001b[0;32m/Users/weit/Library/Enthought/Canopy/edm/envs/User/lib/python3.5/site-packages/sklearn/model_selection/_validation.py\u001b[0m in \u001b[0;36m_fit_and_score\u001b[0;34m(estimator, X, y, scorer, train, test, verbose, parameters, fit_params, return_train_score, return_parameters, return_n_test_samples, return_times, return_estimator, error_score)\u001b[0m\n\u001b[1;32m    526\u001b[0m             \u001b[0mestimator\u001b[0m\u001b[0;34m.\u001b[0m\u001b[0mfit\u001b[0m\u001b[0;34m(\u001b[0m\u001b[0mX_train\u001b[0m\u001b[0;34m,\u001b[0m \u001b[0;34m**\u001b[0m\u001b[0mfit_params\u001b[0m\u001b[0;34m)\u001b[0m\u001b[0;34m\u001b[0m\u001b[0m\n\u001b[1;32m    527\u001b[0m         \u001b[0;32melse\u001b[0m\u001b[0;34m:\u001b[0m\u001b[0;34m\u001b[0m\u001b[0m\n\u001b[0;32m--> 528\u001b[0;31m             \u001b[0mestimator\u001b[0m\u001b[0;34m.\u001b[0m\u001b[0mfit\u001b[0m\u001b[0;34m(\u001b[0m\u001b[0mX_train\u001b[0m\u001b[0;34m,\u001b[0m \u001b[0my_train\u001b[0m\u001b[0;34m,\u001b[0m \u001b[0;34m**\u001b[0m\u001b[0mfit_params\u001b[0m\u001b[0;34m)\u001b[0m\u001b[0;34m\u001b[0m\u001b[0m\n\u001b[0m\u001b[1;32m    529\u001b[0m \u001b[0;34m\u001b[0m\u001b[0m\n\u001b[1;32m    530\u001b[0m     \u001b[0;32mexcept\u001b[0m \u001b[0mException\u001b[0m \u001b[0;32mas\u001b[0m \u001b[0me\u001b[0m\u001b[0;34m:\u001b[0m\u001b[0;34m\u001b[0m\u001b[0m\n",
      "\u001b[0;32m/Users/weit/Library/Enthought/Canopy/edm/envs/User/lib/python3.5/site-packages/sklearn/naive_bayes.py\u001b[0m in \u001b[0;36mfit\u001b[0;34m(self, X, y, sample_weight)\u001b[0m\n\u001b[1;32m    608\u001b[0m         self.feature_count_ = np.zeros((n_effective_classes, n_features),\n\u001b[1;32m    609\u001b[0m                                        dtype=np.float64)\n\u001b[0;32m--> 610\u001b[0;31m         \u001b[0mself\u001b[0m\u001b[0;34m.\u001b[0m\u001b[0m_count\u001b[0m\u001b[0;34m(\u001b[0m\u001b[0mX\u001b[0m\u001b[0;34m,\u001b[0m \u001b[0mY\u001b[0m\u001b[0;34m)\u001b[0m\u001b[0;34m\u001b[0m\u001b[0m\n\u001b[0m\u001b[1;32m    611\u001b[0m         \u001b[0malpha\u001b[0m \u001b[0;34m=\u001b[0m \u001b[0mself\u001b[0m\u001b[0;34m.\u001b[0m\u001b[0m_check_alpha\u001b[0m\u001b[0;34m(\u001b[0m\u001b[0;34m)\u001b[0m\u001b[0;34m\u001b[0m\u001b[0m\n\u001b[1;32m    612\u001b[0m         \u001b[0mself\u001b[0m\u001b[0;34m.\u001b[0m\u001b[0m_update_feature_log_prob\u001b[0m\u001b[0;34m(\u001b[0m\u001b[0malpha\u001b[0m\u001b[0;34m)\u001b[0m\u001b[0;34m\u001b[0m\u001b[0m\n",
      "\u001b[0;32m/Users/weit/Library/Enthought/Canopy/edm/envs/User/lib/python3.5/site-packages/sklearn/naive_bayes.py\u001b[0m in \u001b[0;36m_count\u001b[0;34m(self, X, Y)\u001b[0m\n\u001b[1;32m    712\u001b[0m         \u001b[0;34m\"\"\"Count and smooth feature occurrences.\"\"\"\u001b[0m\u001b[0;34m\u001b[0m\u001b[0m\n\u001b[1;32m    713\u001b[0m         \u001b[0;32mif\u001b[0m \u001b[0mnp\u001b[0m\u001b[0;34m.\u001b[0m\u001b[0many\u001b[0m\u001b[0;34m(\u001b[0m\u001b[0;34m(\u001b[0m\u001b[0mX\u001b[0m\u001b[0;34m.\u001b[0m\u001b[0mdata\u001b[0m \u001b[0;32mif\u001b[0m \u001b[0missparse\u001b[0m\u001b[0;34m(\u001b[0m\u001b[0mX\u001b[0m\u001b[0;34m)\u001b[0m \u001b[0;32melse\u001b[0m \u001b[0mX\u001b[0m\u001b[0;34m)\u001b[0m \u001b[0;34m<\u001b[0m \u001b[0;36m0\u001b[0m\u001b[0;34m)\u001b[0m\u001b[0;34m:\u001b[0m\u001b[0;34m\u001b[0m\u001b[0m\n\u001b[0;32m--> 714\u001b[0;31m             \u001b[0;32mraise\u001b[0m \u001b[0mValueError\u001b[0m\u001b[0;34m(\u001b[0m\u001b[0;34m\"Input X must be non-negative\"\u001b[0m\u001b[0;34m)\u001b[0m\u001b[0;34m\u001b[0m\u001b[0m\n\u001b[0m\u001b[1;32m    715\u001b[0m         \u001b[0mself\u001b[0m\u001b[0;34m.\u001b[0m\u001b[0mfeature_count_\u001b[0m \u001b[0;34m+=\u001b[0m \u001b[0msafe_sparse_dot\u001b[0m\u001b[0;34m(\u001b[0m\u001b[0mY\u001b[0m\u001b[0;34m.\u001b[0m\u001b[0mT\u001b[0m\u001b[0;34m,\u001b[0m \u001b[0mX\u001b[0m\u001b[0;34m)\u001b[0m\u001b[0;34m\u001b[0m\u001b[0m\n\u001b[1;32m    716\u001b[0m         \u001b[0mself\u001b[0m\u001b[0;34m.\u001b[0m\u001b[0mclass_count_\u001b[0m \u001b[0;34m+=\u001b[0m \u001b[0mY\u001b[0m\u001b[0;34m.\u001b[0m\u001b[0msum\u001b[0m\u001b[0;34m(\u001b[0m\u001b[0maxis\u001b[0m\u001b[0;34m=\u001b[0m\u001b[0;36m0\u001b[0m\u001b[0;34m)\u001b[0m\u001b[0;34m\u001b[0m\u001b[0m\n",
      "\u001b[0;31mValueError\u001b[0m: Input X must be non-negative"
     ]
    }
   ],
   "source": [
    "from sklearn.naive_bayes import MultinomialNB\n",
    "\n",
    "scaler = preprocessing.MinMaxScaler()\n",
    "\n",
    "all_features_minmax = scaler.fit_transform(all_features)\n",
    "\n",
    "clf = MultinomialNB()\n",
    "\n",
    "cv_scores = cross_val_score(clf, all_features_scaled, all_classes, cv=10)\n",
    "\n",
    "cv_scores.mean()"
   ]
  },
  {
   "cell_type": "markdown",
   "metadata": {
    "deletable": true,
    "editable": true
   },
   "source": [
    "## Revisiting SVM\n",
    "\n",
    "svm.SVC may perform differently with different kernels. The choice of kernel is an example of a \"hyperparamter.\" Try the rbf, sigmoid, and poly kernels and see what the best-performing kernel is. Do we have a new winner?"
   ]
  },
  {
   "cell_type": "code",
   "execution_count": 135,
   "metadata": {
    "collapsed": false,
    "deletable": true,
    "editable": true
   },
   "outputs": [],
   "source": [
    "def svm_score_from_kernel(ker, normalized_all_features, all_classes, cross_val=10):\n",
    "    svc = svm.SVC(kernel=ker, C=1.0)\n",
    "    cv_scores = cross_val_score(svc, normalized_all_features, all_classes, cv=cross_val)\n",
    "    return cv_scores.mean()"
   ]
  },
  {
   "cell_type": "code",
   "execution_count": 136,
   "metadata": {
    "collapsed": false,
    "deletable": true,
    "editable": true
   },
   "outputs": [
    {
     "name": "stderr",
     "output_type": "stream",
     "text": [
      "/Users/weit/Library/Enthought/Canopy/edm/envs/User/lib/python3.5/site-packages/sklearn/svm/base.py:196: FutureWarning: The default value of gamma will change from 'auto' to 'scale' in version 0.22 to account better for unscaled features. Set gamma explicitly to 'auto' or 'scale' to avoid this warning.\n",
      "  \"avoid this warning.\", FutureWarning)\n",
      "/Users/weit/Library/Enthought/Canopy/edm/envs/User/lib/python3.5/site-packages/sklearn/svm/base.py:196: FutureWarning: The default value of gamma will change from 'auto' to 'scale' in version 0.22 to account better for unscaled features. Set gamma explicitly to 'auto' or 'scale' to avoid this warning.\n",
      "  \"avoid this warning.\", FutureWarning)\n",
      "/Users/weit/Library/Enthought/Canopy/edm/envs/User/lib/python3.5/site-packages/sklearn/svm/base.py:196: FutureWarning: The default value of gamma will change from 'auto' to 'scale' in version 0.22 to account better for unscaled features. Set gamma explicitly to 'auto' or 'scale' to avoid this warning.\n",
      "  \"avoid this warning.\", FutureWarning)\n",
      "/Users/weit/Library/Enthought/Canopy/edm/envs/User/lib/python3.5/site-packages/sklearn/svm/base.py:196: FutureWarning: The default value of gamma will change from 'auto' to 'scale' in version 0.22 to account better for unscaled features. Set gamma explicitly to 'auto' or 'scale' to avoid this warning.\n",
      "  \"avoid this warning.\", FutureWarning)\n",
      "/Users/weit/Library/Enthought/Canopy/edm/envs/User/lib/python3.5/site-packages/sklearn/svm/base.py:196: FutureWarning: The default value of gamma will change from 'auto' to 'scale' in version 0.22 to account better for unscaled features. Set gamma explicitly to 'auto' or 'scale' to avoid this warning.\n",
      "  \"avoid this warning.\", FutureWarning)\n",
      "/Users/weit/Library/Enthought/Canopy/edm/envs/User/lib/python3.5/site-packages/sklearn/svm/base.py:196: FutureWarning: The default value of gamma will change from 'auto' to 'scale' in version 0.22 to account better for unscaled features. Set gamma explicitly to 'auto' or 'scale' to avoid this warning.\n",
      "  \"avoid this warning.\", FutureWarning)\n",
      "/Users/weit/Library/Enthought/Canopy/edm/envs/User/lib/python3.5/site-packages/sklearn/svm/base.py:196: FutureWarning: The default value of gamma will change from 'auto' to 'scale' in version 0.22 to account better for unscaled features. Set gamma explicitly to 'auto' or 'scale' to avoid this warning.\n",
      "  \"avoid this warning.\", FutureWarning)\n",
      "/Users/weit/Library/Enthought/Canopy/edm/envs/User/lib/python3.5/site-packages/sklearn/svm/base.py:196: FutureWarning: The default value of gamma will change from 'auto' to 'scale' in version 0.22 to account better for unscaled features. Set gamma explicitly to 'auto' or 'scale' to avoid this warning.\n",
      "  \"avoid this warning.\", FutureWarning)\n",
      "/Users/weit/Library/Enthought/Canopy/edm/envs/User/lib/python3.5/site-packages/sklearn/svm/base.py:196: FutureWarning: The default value of gamma will change from 'auto' to 'scale' in version 0.22 to account better for unscaled features. Set gamma explicitly to 'auto' or 'scale' to avoid this warning.\n",
      "  \"avoid this warning.\", FutureWarning)\n",
      "/Users/weit/Library/Enthought/Canopy/edm/envs/User/lib/python3.5/site-packages/sklearn/svm/base.py:196: FutureWarning: The default value of gamma will change from 'auto' to 'scale' in version 0.22 to account better for unscaled features. Set gamma explicitly to 'auto' or 'scale' to avoid this warning.\n",
      "  \"avoid this warning.\", FutureWarning)\n"
     ]
    },
    {
     "data": {
      "text/plain": [
       "0.46774499022482896"
      ]
     },
     "execution_count": 136,
     "metadata": {},
     "output_type": "execute_result"
    }
   ],
   "source": [
    "svm_score_from_kernel('rbf', all_features_scaled, all_classes, 10)"
   ]
  },
  {
   "cell_type": "code",
   "execution_count": 137,
   "metadata": {
    "collapsed": false,
    "deletable": true,
    "editable": true
   },
   "outputs": [
    {
     "name": "stderr",
     "output_type": "stream",
     "text": [
      "/Users/weit/Library/Enthought/Canopy/edm/envs/User/lib/python3.5/site-packages/sklearn/svm/base.py:196: FutureWarning: The default value of gamma will change from 'auto' to 'scale' in version 0.22 to account better for unscaled features. Set gamma explicitly to 'auto' or 'scale' to avoid this warning.\n",
      "  \"avoid this warning.\", FutureWarning)\n",
      "/Users/weit/Library/Enthought/Canopy/edm/envs/User/lib/python3.5/site-packages/sklearn/svm/base.py:196: FutureWarning: The default value of gamma will change from 'auto' to 'scale' in version 0.22 to account better for unscaled features. Set gamma explicitly to 'auto' or 'scale' to avoid this warning.\n",
      "  \"avoid this warning.\", FutureWarning)\n",
      "/Users/weit/Library/Enthought/Canopy/edm/envs/User/lib/python3.5/site-packages/sklearn/svm/base.py:196: FutureWarning: The default value of gamma will change from 'auto' to 'scale' in version 0.22 to account better for unscaled features. Set gamma explicitly to 'auto' or 'scale' to avoid this warning.\n",
      "  \"avoid this warning.\", FutureWarning)\n",
      "/Users/weit/Library/Enthought/Canopy/edm/envs/User/lib/python3.5/site-packages/sklearn/svm/base.py:196: FutureWarning: The default value of gamma will change from 'auto' to 'scale' in version 0.22 to account better for unscaled features. Set gamma explicitly to 'auto' or 'scale' to avoid this warning.\n",
      "  \"avoid this warning.\", FutureWarning)\n",
      "/Users/weit/Library/Enthought/Canopy/edm/envs/User/lib/python3.5/site-packages/sklearn/svm/base.py:196: FutureWarning: The default value of gamma will change from 'auto' to 'scale' in version 0.22 to account better for unscaled features. Set gamma explicitly to 'auto' or 'scale' to avoid this warning.\n",
      "  \"avoid this warning.\", FutureWarning)\n",
      "/Users/weit/Library/Enthought/Canopy/edm/envs/User/lib/python3.5/site-packages/sklearn/svm/base.py:196: FutureWarning: The default value of gamma will change from 'auto' to 'scale' in version 0.22 to account better for unscaled features. Set gamma explicitly to 'auto' or 'scale' to avoid this warning.\n",
      "  \"avoid this warning.\", FutureWarning)\n",
      "/Users/weit/Library/Enthought/Canopy/edm/envs/User/lib/python3.5/site-packages/sklearn/svm/base.py:196: FutureWarning: The default value of gamma will change from 'auto' to 'scale' in version 0.22 to account better for unscaled features. Set gamma explicitly to 'auto' or 'scale' to avoid this warning.\n",
      "  \"avoid this warning.\", FutureWarning)\n",
      "/Users/weit/Library/Enthought/Canopy/edm/envs/User/lib/python3.5/site-packages/sklearn/svm/base.py:196: FutureWarning: The default value of gamma will change from 'auto' to 'scale' in version 0.22 to account better for unscaled features. Set gamma explicitly to 'auto' or 'scale' to avoid this warning.\n",
      "  \"avoid this warning.\", FutureWarning)\n",
      "/Users/weit/Library/Enthought/Canopy/edm/envs/User/lib/python3.5/site-packages/sklearn/svm/base.py:196: FutureWarning: The default value of gamma will change from 'auto' to 'scale' in version 0.22 to account better for unscaled features. Set gamma explicitly to 'auto' or 'scale' to avoid this warning.\n",
      "  \"avoid this warning.\", FutureWarning)\n",
      "/Users/weit/Library/Enthought/Canopy/edm/envs/User/lib/python3.5/site-packages/sklearn/svm/base.py:196: FutureWarning: The default value of gamma will change from 'auto' to 'scale' in version 0.22 to account better for unscaled features. Set gamma explicitly to 'auto' or 'scale' to avoid this warning.\n",
      "  \"avoid this warning.\", FutureWarning)\n"
     ]
    },
    {
     "data": {
      "text/plain": [
       "0.5647146871945259"
      ]
     },
     "execution_count": 137,
     "metadata": {},
     "output_type": "execute_result"
    }
   ],
   "source": [
    "svm_score_from_kernel('sigmoid', all_features_scaled, all_classes, 10)"
   ]
  },
  {
   "cell_type": "code",
   "execution_count": 138,
   "metadata": {
    "collapsed": false,
    "deletable": true,
    "editable": true
   },
   "outputs": [
    {
     "name": "stderr",
     "output_type": "stream",
     "text": [
      "/Users/weit/Library/Enthought/Canopy/edm/envs/User/lib/python3.5/site-packages/sklearn/svm/base.py:196: FutureWarning: The default value of gamma will change from 'auto' to 'scale' in version 0.22 to account better for unscaled features. Set gamma explicitly to 'auto' or 'scale' to avoid this warning.\n",
      "  \"avoid this warning.\", FutureWarning)\n",
      "/Users/weit/Library/Enthought/Canopy/edm/envs/User/lib/python3.5/site-packages/sklearn/svm/base.py:196: FutureWarning: The default value of gamma will change from 'auto' to 'scale' in version 0.22 to account better for unscaled features. Set gamma explicitly to 'auto' or 'scale' to avoid this warning.\n",
      "  \"avoid this warning.\", FutureWarning)\n",
      "/Users/weit/Library/Enthought/Canopy/edm/envs/User/lib/python3.5/site-packages/sklearn/svm/base.py:196: FutureWarning: The default value of gamma will change from 'auto' to 'scale' in version 0.22 to account better for unscaled features. Set gamma explicitly to 'auto' or 'scale' to avoid this warning.\n",
      "  \"avoid this warning.\", FutureWarning)\n",
      "/Users/weit/Library/Enthought/Canopy/edm/envs/User/lib/python3.5/site-packages/sklearn/svm/base.py:196: FutureWarning: The default value of gamma will change from 'auto' to 'scale' in version 0.22 to account better for unscaled features. Set gamma explicitly to 'auto' or 'scale' to avoid this warning.\n",
      "  \"avoid this warning.\", FutureWarning)\n",
      "/Users/weit/Library/Enthought/Canopy/edm/envs/User/lib/python3.5/site-packages/sklearn/svm/base.py:196: FutureWarning: The default value of gamma will change from 'auto' to 'scale' in version 0.22 to account better for unscaled features. Set gamma explicitly to 'auto' or 'scale' to avoid this warning.\n",
      "  \"avoid this warning.\", FutureWarning)\n",
      "/Users/weit/Library/Enthought/Canopy/edm/envs/User/lib/python3.5/site-packages/sklearn/svm/base.py:196: FutureWarning: The default value of gamma will change from 'auto' to 'scale' in version 0.22 to account better for unscaled features. Set gamma explicitly to 'auto' or 'scale' to avoid this warning.\n",
      "  \"avoid this warning.\", FutureWarning)\n",
      "/Users/weit/Library/Enthought/Canopy/edm/envs/User/lib/python3.5/site-packages/sklearn/svm/base.py:196: FutureWarning: The default value of gamma will change from 'auto' to 'scale' in version 0.22 to account better for unscaled features. Set gamma explicitly to 'auto' or 'scale' to avoid this warning.\n",
      "  \"avoid this warning.\", FutureWarning)\n",
      "/Users/weit/Library/Enthought/Canopy/edm/envs/User/lib/python3.5/site-packages/sklearn/svm/base.py:196: FutureWarning: The default value of gamma will change from 'auto' to 'scale' in version 0.22 to account better for unscaled features. Set gamma explicitly to 'auto' or 'scale' to avoid this warning.\n",
      "  \"avoid this warning.\", FutureWarning)\n",
      "/Users/weit/Library/Enthought/Canopy/edm/envs/User/lib/python3.5/site-packages/sklearn/svm/base.py:196: FutureWarning: The default value of gamma will change from 'auto' to 'scale' in version 0.22 to account better for unscaled features. Set gamma explicitly to 'auto' or 'scale' to avoid this warning.\n",
      "  \"avoid this warning.\", FutureWarning)\n",
      "/Users/weit/Library/Enthought/Canopy/edm/envs/User/lib/python3.5/site-packages/sklearn/svm/base.py:196: FutureWarning: The default value of gamma will change from 'auto' to 'scale' in version 0.22 to account better for unscaled features. Set gamma explicitly to 'auto' or 'scale' to avoid this warning.\n",
      "  \"avoid this warning.\", FutureWarning)\n"
     ]
    },
    {
     "data": {
      "text/plain": [
       "0.5190554740957966"
      ]
     },
     "execution_count": 138,
     "metadata": {},
     "output_type": "execute_result"
    }
   ],
   "source": [
    "svm_score_from_kernel('poly', all_features_scaled, all_classes, 10)"
   ]
  },
  {
   "cell_type": "markdown",
   "metadata": {
    "deletable": true,
    "editable": true
   },
   "source": [
    "## Logistic Regression\n",
    "\n",
    "We've tried all these fancy techniques, but fundamentally this is just a binary classification problem. Try Logisitic Regression, which is a simple way to tackling this sort of thing."
   ]
  },
  {
   "cell_type": "code",
   "execution_count": 139,
   "metadata": {
    "collapsed": false,
    "deletable": true,
    "editable": true
   },
   "outputs": [
    {
     "name": "stderr",
     "output_type": "stream",
     "text": [
      "/Users/weit/Library/Enthought/Canopy/edm/envs/User/lib/python3.5/site-packages/sklearn/linear_model/logistic.py:432: FutureWarning: Default solver will be changed to 'lbfgs' in 0.22. Specify a solver to silence this warning.\n",
      "  FutureWarning)\n",
      "/Users/weit/Library/Enthought/Canopy/edm/envs/User/lib/python3.5/site-packages/sklearn/linear_model/logistic.py:432: FutureWarning: Default solver will be changed to 'lbfgs' in 0.22. Specify a solver to silence this warning.\n",
      "  FutureWarning)\n",
      "/Users/weit/Library/Enthought/Canopy/edm/envs/User/lib/python3.5/site-packages/sklearn/linear_model/logistic.py:432: FutureWarning: Default solver will be changed to 'lbfgs' in 0.22. Specify a solver to silence this warning.\n",
      "  FutureWarning)\n",
      "/Users/weit/Library/Enthought/Canopy/edm/envs/User/lib/python3.5/site-packages/sklearn/linear_model/logistic.py:432: FutureWarning: Default solver will be changed to 'lbfgs' in 0.22. Specify a solver to silence this warning.\n",
      "  FutureWarning)\n",
      "/Users/weit/Library/Enthought/Canopy/edm/envs/User/lib/python3.5/site-packages/sklearn/linear_model/logistic.py:432: FutureWarning: Default solver will be changed to 'lbfgs' in 0.22. Specify a solver to silence this warning.\n",
      "  FutureWarning)\n",
      "/Users/weit/Library/Enthought/Canopy/edm/envs/User/lib/python3.5/site-packages/sklearn/linear_model/logistic.py:432: FutureWarning: Default solver will be changed to 'lbfgs' in 0.22. Specify a solver to silence this warning.\n",
      "  FutureWarning)\n",
      "/Users/weit/Library/Enthought/Canopy/edm/envs/User/lib/python3.5/site-packages/sklearn/linear_model/logistic.py:432: FutureWarning: Default solver will be changed to 'lbfgs' in 0.22. Specify a solver to silence this warning.\n",
      "  FutureWarning)\n",
      "/Users/weit/Library/Enthought/Canopy/edm/envs/User/lib/python3.5/site-packages/sklearn/linear_model/logistic.py:432: FutureWarning: Default solver will be changed to 'lbfgs' in 0.22. Specify a solver to silence this warning.\n",
      "  FutureWarning)\n",
      "/Users/weit/Library/Enthought/Canopy/edm/envs/User/lib/python3.5/site-packages/sklearn/linear_model/logistic.py:432: FutureWarning: Default solver will be changed to 'lbfgs' in 0.22. Specify a solver to silence this warning.\n",
      "  FutureWarning)\n",
      "/Users/weit/Library/Enthought/Canopy/edm/envs/User/lib/python3.5/site-packages/sklearn/linear_model/logistic.py:432: FutureWarning: Default solver will be changed to 'lbfgs' in 0.22. Specify a solver to silence this warning.\n",
      "  FutureWarning)\n"
     ]
    },
    {
     "data": {
      "text/plain": [
       "0.5090817448680351"
      ]
     },
     "execution_count": 139,
     "metadata": {},
     "output_type": "execute_result"
    }
   ],
   "source": [
    "from sklearn.linear_model import LogisticRegression\n",
    "\n",
    "clf = LogisticRegression()\n",
    "cv_scores = cross_val_score(clf, all_features_scaled, all_classes, cv=10)\n",
    "cv_scores.mean()"
   ]
  },
  {
   "cell_type": "code",
   "execution_count": null,
   "metadata": {
    "collapsed": true,
    "deletable": true,
    "editable": true
   },
   "outputs": [],
   "source": []
  },
  {
   "cell_type": "code",
   "execution_count": null,
   "metadata": {
    "collapsed": true,
    "deletable": true,
    "editable": true
   },
   "outputs": [],
   "source": []
  },
  {
   "cell_type": "markdown",
   "metadata": {
    "deletable": true,
    "editable": true
   },
   "source": [
    "## Neural Networks\n",
    "\n",
    "As a bonus challenge, let's see if an artificial neural network can do even better. You can use Keras to set up a neural network with 1 binary output neuron and see how it performs. Don't be afraid to run a large number of epochs to train the model if necessary."
   ]
  },
  {
   "cell_type": "code",
   "execution_count": 140,
   "metadata": {
    "collapsed": false,
    "deletable": true,
    "editable": true
   },
   "outputs": [],
   "source": [
    "from tensorflow.keras.layers import Dense\n",
    "from tensorflow.keras.models import Sequential\n",
    "\n",
    "def create_model():\n",
    "    model = Sequential()\n",
    "    #4 feature inputs going into an 6-unit layer (more does not seem to help - in fact you can go down to 4)\n",
    "    model.add(Dense(6, input_dim=4, kernel_initializer='normal', activation='relu'))\n",
    "    # \"Deep learning\" turns out to be unnecessary - this additional hidden layer doesn't help either.\n",
    "    #model.add(Dense(4, kernel_initializer='normal', activation='relu'))\n",
    "    # Output layer with a binary classification (benign or malignant)\n",
    "    model.add(Dense(1, kernel_initializer='normal', activation='sigmoid'))\n",
    "    # Compile model; adam seemed to work best\n",
    "    model.compile(loss='binary_crossentropy', optimizer='adam', metrics=['accuracy'])\n",
    "    return model"
   ]
  },
  {
   "cell_type": "code",
   "execution_count": 141,
   "metadata": {
    "collapsed": false,
    "deletable": true,
    "editable": true
   },
   "outputs": [
    {
     "name": "stderr",
     "output_type": "stream",
     "text": [
      "/Users/weit/Library/Enthought/Canopy/edm/envs/User/lib/python3.5/site-packages/sklearn/model_selection/_validation.py:542: FutureWarning: From version 0.22, errors during fit will result in a cross validation score of NaN by default. Use error_score='raise' if you want an exception raised or error_score=np.nan to adopt the behavior from version 0.22.\n",
      "  FutureWarning)\n"
     ]
    },
    {
     "ename": "ValueError",
     "evalue": "Error when checking input: expected dense_2_input to have shape (4,) but got array with shape (3,)",
     "output_type": "error",
     "traceback": [
      "\u001b[0;31m---------------------------------------------------------------------------\u001b[0m",
      "\u001b[0;31mValueError\u001b[0m                                Traceback (most recent call last)",
      "\u001b[0;32m<ipython-input-141-dd5de549f1b4>\u001b[0m in \u001b[0;36m<module>\u001b[0;34m()\u001b[0m\n\u001b[1;32m      4\u001b[0m \u001b[0mestimator\u001b[0m \u001b[0;34m=\u001b[0m \u001b[0mKerasClassifier\u001b[0m\u001b[0;34m(\u001b[0m\u001b[0mbuild_fn\u001b[0m\u001b[0;34m=\u001b[0m\u001b[0mcreate_model\u001b[0m\u001b[0;34m,\u001b[0m \u001b[0mepochs\u001b[0m\u001b[0;34m=\u001b[0m\u001b[0;36m100\u001b[0m\u001b[0;34m,\u001b[0m \u001b[0mverbose\u001b[0m\u001b[0;34m=\u001b[0m\u001b[0;36m0\u001b[0m\u001b[0;34m)\u001b[0m\u001b[0;34m\u001b[0m\u001b[0m\n\u001b[1;32m      5\u001b[0m \u001b[0;34m\u001b[0m\u001b[0m\n\u001b[0;32m----> 6\u001b[0;31m \u001b[0mcv_scores\u001b[0m \u001b[0;34m=\u001b[0m \u001b[0mcross_val_score\u001b[0m\u001b[0;34m(\u001b[0m\u001b[0mestimator\u001b[0m\u001b[0;34m,\u001b[0m \u001b[0mall_features_scaled\u001b[0m\u001b[0;34m,\u001b[0m \u001b[0mall_classes\u001b[0m\u001b[0;34m,\u001b[0m \u001b[0mcv\u001b[0m\u001b[0;34m=\u001b[0m\u001b[0;36m10\u001b[0m\u001b[0;34m)\u001b[0m\u001b[0;34m\u001b[0m\u001b[0m\n\u001b[0m\u001b[1;32m      7\u001b[0m \u001b[0mprint\u001b[0m\u001b[0;34m(\u001b[0m\u001b[0mcv_scores\u001b[0m\u001b[0;34m.\u001b[0m\u001b[0mmean\u001b[0m\u001b[0;34m(\u001b[0m\u001b[0;34m)\u001b[0m\u001b[0;34m)\u001b[0m\u001b[0;34m\u001b[0m\u001b[0m\n\u001b[1;32m      8\u001b[0m \u001b[0mprint\u001b[0m\u001b[0;34m(\u001b[0m\u001b[0mnormalized_all_features\u001b[0m\u001b[0;34m)\u001b[0m\u001b[0;34m\u001b[0m\u001b[0m\n",
      "\u001b[0;32m/Users/weit/Library/Enthought/Canopy/edm/envs/User/lib/python3.5/site-packages/sklearn/model_selection/_validation.py\u001b[0m in \u001b[0;36mcross_val_score\u001b[0;34m(estimator, X, y, groups, scoring, cv, n_jobs, verbose, fit_params, pre_dispatch, error_score)\u001b[0m\n\u001b[1;32m    400\u001b[0m                                 \u001b[0mfit_params\u001b[0m\u001b[0;34m=\u001b[0m\u001b[0mfit_params\u001b[0m\u001b[0;34m,\u001b[0m\u001b[0;34m\u001b[0m\u001b[0m\n\u001b[1;32m    401\u001b[0m                                 \u001b[0mpre_dispatch\u001b[0m\u001b[0;34m=\u001b[0m\u001b[0mpre_dispatch\u001b[0m\u001b[0;34m,\u001b[0m\u001b[0;34m\u001b[0m\u001b[0m\n\u001b[0;32m--> 402\u001b[0;31m                                 error_score=error_score)\n\u001b[0m\u001b[1;32m    403\u001b[0m     \u001b[0;32mreturn\u001b[0m \u001b[0mcv_results\u001b[0m\u001b[0;34m[\u001b[0m\u001b[0;34m'test_score'\u001b[0m\u001b[0;34m]\u001b[0m\u001b[0;34m\u001b[0m\u001b[0m\n\u001b[1;32m    404\u001b[0m \u001b[0;34m\u001b[0m\u001b[0m\n",
      "\u001b[0;32m/Users/weit/Library/Enthought/Canopy/edm/envs/User/lib/python3.5/site-packages/sklearn/model_selection/_validation.py\u001b[0m in \u001b[0;36mcross_validate\u001b[0;34m(estimator, X, y, groups, scoring, cv, n_jobs, verbose, fit_params, pre_dispatch, return_train_score, return_estimator, error_score)\u001b[0m\n\u001b[1;32m    238\u001b[0m             \u001b[0mreturn_times\u001b[0m\u001b[0;34m=\u001b[0m\u001b[0;32mTrue\u001b[0m\u001b[0;34m,\u001b[0m \u001b[0mreturn_estimator\u001b[0m\u001b[0;34m=\u001b[0m\u001b[0mreturn_estimator\u001b[0m\u001b[0;34m,\u001b[0m\u001b[0;34m\u001b[0m\u001b[0m\n\u001b[1;32m    239\u001b[0m             error_score=error_score)\n\u001b[0;32m--> 240\u001b[0;31m         for train, test in cv.split(X, y, groups))\n\u001b[0m\u001b[1;32m    241\u001b[0m \u001b[0;34m\u001b[0m\u001b[0m\n\u001b[1;32m    242\u001b[0m     \u001b[0mzipped_scores\u001b[0m \u001b[0;34m=\u001b[0m \u001b[0mlist\u001b[0m\u001b[0;34m(\u001b[0m\u001b[0mzip\u001b[0m\u001b[0;34m(\u001b[0m\u001b[0;34m*\u001b[0m\u001b[0mscores\u001b[0m\u001b[0;34m)\u001b[0m\u001b[0;34m)\u001b[0m\u001b[0;34m\u001b[0m\u001b[0m\n",
      "\u001b[0;32m/Users/weit/Library/Enthought/Canopy/edm/envs/User/lib/python3.5/site-packages/sklearn/externals/joblib/parallel.py\u001b[0m in \u001b[0;36m__call__\u001b[0;34m(self, iterable)\u001b[0m\n\u001b[1;32m    981\u001b[0m             \u001b[0;31m# remaining jobs.\u001b[0m\u001b[0;34m\u001b[0m\u001b[0;34m\u001b[0m\u001b[0m\n\u001b[1;32m    982\u001b[0m             \u001b[0mself\u001b[0m\u001b[0;34m.\u001b[0m\u001b[0m_iterating\u001b[0m \u001b[0;34m=\u001b[0m \u001b[0;32mFalse\u001b[0m\u001b[0;34m\u001b[0m\u001b[0m\n\u001b[0;32m--> 983\u001b[0;31m             \u001b[0;32mif\u001b[0m \u001b[0mself\u001b[0m\u001b[0;34m.\u001b[0m\u001b[0mdispatch_one_batch\u001b[0m\u001b[0;34m(\u001b[0m\u001b[0miterator\u001b[0m\u001b[0;34m)\u001b[0m\u001b[0;34m:\u001b[0m\u001b[0;34m\u001b[0m\u001b[0m\n\u001b[0m\u001b[1;32m    984\u001b[0m                 \u001b[0mself\u001b[0m\u001b[0;34m.\u001b[0m\u001b[0m_iterating\u001b[0m \u001b[0;34m=\u001b[0m \u001b[0mself\u001b[0m\u001b[0;34m.\u001b[0m\u001b[0m_original_iterator\u001b[0m \u001b[0;32mis\u001b[0m \u001b[0;32mnot\u001b[0m \u001b[0;32mNone\u001b[0m\u001b[0;34m\u001b[0m\u001b[0m\n\u001b[1;32m    985\u001b[0m \u001b[0;34m\u001b[0m\u001b[0m\n",
      "\u001b[0;32m/Users/weit/Library/Enthought/Canopy/edm/envs/User/lib/python3.5/site-packages/sklearn/externals/joblib/parallel.py\u001b[0m in \u001b[0;36mdispatch_one_batch\u001b[0;34m(self, iterator)\u001b[0m\n\u001b[1;32m    823\u001b[0m                 \u001b[0;32mreturn\u001b[0m \u001b[0;32mFalse\u001b[0m\u001b[0;34m\u001b[0m\u001b[0m\n\u001b[1;32m    824\u001b[0m             \u001b[0;32melse\u001b[0m\u001b[0;34m:\u001b[0m\u001b[0;34m\u001b[0m\u001b[0m\n\u001b[0;32m--> 825\u001b[0;31m                 \u001b[0mself\u001b[0m\u001b[0;34m.\u001b[0m\u001b[0m_dispatch\u001b[0m\u001b[0;34m(\u001b[0m\u001b[0mtasks\u001b[0m\u001b[0;34m)\u001b[0m\u001b[0;34m\u001b[0m\u001b[0m\n\u001b[0m\u001b[1;32m    826\u001b[0m                 \u001b[0;32mreturn\u001b[0m \u001b[0;32mTrue\u001b[0m\u001b[0;34m\u001b[0m\u001b[0m\n\u001b[1;32m    827\u001b[0m \u001b[0;34m\u001b[0m\u001b[0m\n",
      "\u001b[0;32m/Users/weit/Library/Enthought/Canopy/edm/envs/User/lib/python3.5/site-packages/sklearn/externals/joblib/parallel.py\u001b[0m in \u001b[0;36m_dispatch\u001b[0;34m(self, batch)\u001b[0m\n\u001b[1;32m    780\u001b[0m         \u001b[0;32mwith\u001b[0m \u001b[0mself\u001b[0m\u001b[0;34m.\u001b[0m\u001b[0m_lock\u001b[0m\u001b[0;34m:\u001b[0m\u001b[0;34m\u001b[0m\u001b[0m\n\u001b[1;32m    781\u001b[0m             \u001b[0mjob_idx\u001b[0m \u001b[0;34m=\u001b[0m \u001b[0mlen\u001b[0m\u001b[0;34m(\u001b[0m\u001b[0mself\u001b[0m\u001b[0;34m.\u001b[0m\u001b[0m_jobs\u001b[0m\u001b[0;34m)\u001b[0m\u001b[0;34m\u001b[0m\u001b[0m\n\u001b[0;32m--> 782\u001b[0;31m             \u001b[0mjob\u001b[0m \u001b[0;34m=\u001b[0m \u001b[0mself\u001b[0m\u001b[0;34m.\u001b[0m\u001b[0m_backend\u001b[0m\u001b[0;34m.\u001b[0m\u001b[0mapply_async\u001b[0m\u001b[0;34m(\u001b[0m\u001b[0mbatch\u001b[0m\u001b[0;34m,\u001b[0m \u001b[0mcallback\u001b[0m\u001b[0;34m=\u001b[0m\u001b[0mcb\u001b[0m\u001b[0;34m)\u001b[0m\u001b[0;34m\u001b[0m\u001b[0m\n\u001b[0m\u001b[1;32m    783\u001b[0m             \u001b[0;31m# A job can complete so quickly than its callback is\u001b[0m\u001b[0;34m\u001b[0m\u001b[0;34m\u001b[0m\u001b[0m\n\u001b[1;32m    784\u001b[0m             \u001b[0;31m# called before we get here, causing self._jobs to\u001b[0m\u001b[0;34m\u001b[0m\u001b[0;34m\u001b[0m\u001b[0m\n",
      "\u001b[0;32m/Users/weit/Library/Enthought/Canopy/edm/envs/User/lib/python3.5/site-packages/sklearn/externals/joblib/_parallel_backends.py\u001b[0m in \u001b[0;36mapply_async\u001b[0;34m(self, func, callback)\u001b[0m\n\u001b[1;32m    180\u001b[0m     \u001b[0;32mdef\u001b[0m \u001b[0mapply_async\u001b[0m\u001b[0;34m(\u001b[0m\u001b[0mself\u001b[0m\u001b[0;34m,\u001b[0m \u001b[0mfunc\u001b[0m\u001b[0;34m,\u001b[0m \u001b[0mcallback\u001b[0m\u001b[0;34m=\u001b[0m\u001b[0;32mNone\u001b[0m\u001b[0;34m)\u001b[0m\u001b[0;34m:\u001b[0m\u001b[0;34m\u001b[0m\u001b[0m\n\u001b[1;32m    181\u001b[0m         \u001b[0;34m\"\"\"Schedule a func to be run\"\"\"\u001b[0m\u001b[0;34m\u001b[0m\u001b[0m\n\u001b[0;32m--> 182\u001b[0;31m         \u001b[0mresult\u001b[0m \u001b[0;34m=\u001b[0m \u001b[0mImmediateResult\u001b[0m\u001b[0;34m(\u001b[0m\u001b[0mfunc\u001b[0m\u001b[0;34m)\u001b[0m\u001b[0;34m\u001b[0m\u001b[0m\n\u001b[0m\u001b[1;32m    183\u001b[0m         \u001b[0;32mif\u001b[0m \u001b[0mcallback\u001b[0m\u001b[0;34m:\u001b[0m\u001b[0;34m\u001b[0m\u001b[0m\n\u001b[1;32m    184\u001b[0m             \u001b[0mcallback\u001b[0m\u001b[0;34m(\u001b[0m\u001b[0mresult\u001b[0m\u001b[0;34m)\u001b[0m\u001b[0;34m\u001b[0m\u001b[0m\n",
      "\u001b[0;32m/Users/weit/Library/Enthought/Canopy/edm/envs/User/lib/python3.5/site-packages/sklearn/externals/joblib/_parallel_backends.py\u001b[0m in \u001b[0;36m__init__\u001b[0;34m(self, batch)\u001b[0m\n\u001b[1;32m    543\u001b[0m         \u001b[0;31m# Don't delay the application, to avoid keeping the input\u001b[0m\u001b[0;34m\u001b[0m\u001b[0;34m\u001b[0m\u001b[0m\n\u001b[1;32m    544\u001b[0m         \u001b[0;31m# arguments in memory\u001b[0m\u001b[0;34m\u001b[0m\u001b[0;34m\u001b[0m\u001b[0m\n\u001b[0;32m--> 545\u001b[0;31m         \u001b[0mself\u001b[0m\u001b[0;34m.\u001b[0m\u001b[0mresults\u001b[0m \u001b[0;34m=\u001b[0m \u001b[0mbatch\u001b[0m\u001b[0;34m(\u001b[0m\u001b[0;34m)\u001b[0m\u001b[0;34m\u001b[0m\u001b[0m\n\u001b[0m\u001b[1;32m    546\u001b[0m \u001b[0;34m\u001b[0m\u001b[0m\n\u001b[1;32m    547\u001b[0m     \u001b[0;32mdef\u001b[0m \u001b[0mget\u001b[0m\u001b[0;34m(\u001b[0m\u001b[0mself\u001b[0m\u001b[0;34m)\u001b[0m\u001b[0;34m:\u001b[0m\u001b[0;34m\u001b[0m\u001b[0m\n",
      "\u001b[0;32m/Users/weit/Library/Enthought/Canopy/edm/envs/User/lib/python3.5/site-packages/sklearn/externals/joblib/parallel.py\u001b[0m in \u001b[0;36m__call__\u001b[0;34m(self)\u001b[0m\n\u001b[1;32m    259\u001b[0m         \u001b[0;32mwith\u001b[0m \u001b[0mparallel_backend\u001b[0m\u001b[0;34m(\u001b[0m\u001b[0mself\u001b[0m\u001b[0;34m.\u001b[0m\u001b[0m_backend\u001b[0m\u001b[0;34m)\u001b[0m\u001b[0;34m:\u001b[0m\u001b[0;34m\u001b[0m\u001b[0m\n\u001b[1;32m    260\u001b[0m             return [func(*args, **kwargs)\n\u001b[0;32m--> 261\u001b[0;31m                     for func, args, kwargs in self.items]\n\u001b[0m\u001b[1;32m    262\u001b[0m \u001b[0;34m\u001b[0m\u001b[0m\n\u001b[1;32m    263\u001b[0m     \u001b[0;32mdef\u001b[0m \u001b[0m__len__\u001b[0m\u001b[0;34m(\u001b[0m\u001b[0mself\u001b[0m\u001b[0;34m)\u001b[0m\u001b[0;34m:\u001b[0m\u001b[0;34m\u001b[0m\u001b[0m\n",
      "\u001b[0;32m/Users/weit/Library/Enthought/Canopy/edm/envs/User/lib/python3.5/site-packages/sklearn/externals/joblib/parallel.py\u001b[0m in \u001b[0;36m<listcomp>\u001b[0;34m(.0)\u001b[0m\n\u001b[1;32m    259\u001b[0m         \u001b[0;32mwith\u001b[0m \u001b[0mparallel_backend\u001b[0m\u001b[0;34m(\u001b[0m\u001b[0mself\u001b[0m\u001b[0;34m.\u001b[0m\u001b[0m_backend\u001b[0m\u001b[0;34m)\u001b[0m\u001b[0;34m:\u001b[0m\u001b[0;34m\u001b[0m\u001b[0m\n\u001b[1;32m    260\u001b[0m             return [func(*args, **kwargs)\n\u001b[0;32m--> 261\u001b[0;31m                     for func, args, kwargs in self.items]\n\u001b[0m\u001b[1;32m    262\u001b[0m \u001b[0;34m\u001b[0m\u001b[0m\n\u001b[1;32m    263\u001b[0m     \u001b[0;32mdef\u001b[0m \u001b[0m__len__\u001b[0m\u001b[0;34m(\u001b[0m\u001b[0mself\u001b[0m\u001b[0;34m)\u001b[0m\u001b[0;34m:\u001b[0m\u001b[0;34m\u001b[0m\u001b[0m\n",
      "\u001b[0;32m/Users/weit/Library/Enthought/Canopy/edm/envs/User/lib/python3.5/site-packages/sklearn/model_selection/_validation.py\u001b[0m in \u001b[0;36m_fit_and_score\u001b[0;34m(estimator, X, y, scorer, train, test, verbose, parameters, fit_params, return_train_score, return_parameters, return_n_test_samples, return_times, return_estimator, error_score)\u001b[0m\n\u001b[1;32m    526\u001b[0m             \u001b[0mestimator\u001b[0m\u001b[0;34m.\u001b[0m\u001b[0mfit\u001b[0m\u001b[0;34m(\u001b[0m\u001b[0mX_train\u001b[0m\u001b[0;34m,\u001b[0m \u001b[0;34m**\u001b[0m\u001b[0mfit_params\u001b[0m\u001b[0;34m)\u001b[0m\u001b[0;34m\u001b[0m\u001b[0m\n\u001b[1;32m    527\u001b[0m         \u001b[0;32melse\u001b[0m\u001b[0;34m:\u001b[0m\u001b[0;34m\u001b[0m\u001b[0m\n\u001b[0;32m--> 528\u001b[0;31m             \u001b[0mestimator\u001b[0m\u001b[0;34m.\u001b[0m\u001b[0mfit\u001b[0m\u001b[0;34m(\u001b[0m\u001b[0mX_train\u001b[0m\u001b[0;34m,\u001b[0m \u001b[0my_train\u001b[0m\u001b[0;34m,\u001b[0m \u001b[0;34m**\u001b[0m\u001b[0mfit_params\u001b[0m\u001b[0;34m)\u001b[0m\u001b[0;34m\u001b[0m\u001b[0m\n\u001b[0m\u001b[1;32m    529\u001b[0m \u001b[0;34m\u001b[0m\u001b[0m\n\u001b[1;32m    530\u001b[0m     \u001b[0;32mexcept\u001b[0m \u001b[0mException\u001b[0m \u001b[0;32mas\u001b[0m \u001b[0me\u001b[0m\u001b[0;34m:\u001b[0m\u001b[0;34m\u001b[0m\u001b[0m\n",
      "\u001b[0;32m/Users/weit/Library/Enthought/Canopy/edm/envs/User/lib/python3.5/site-packages/tensorflow/python/keras/wrappers/scikit_learn.py\u001b[0m in \u001b[0;36mfit\u001b[0;34m(self, x, y, **kwargs)\u001b[0m\n\u001b[1;32m    222\u001b[0m       \u001b[0;32mraise\u001b[0m \u001b[0mValueError\u001b[0m\u001b[0;34m(\u001b[0m\u001b[0;34m'Invalid shape for y: '\u001b[0m \u001b[0;34m+\u001b[0m \u001b[0mstr\u001b[0m\u001b[0;34m(\u001b[0m\u001b[0my\u001b[0m\u001b[0;34m.\u001b[0m\u001b[0mshape\u001b[0m\u001b[0;34m)\u001b[0m\u001b[0;34m)\u001b[0m\u001b[0;34m\u001b[0m\u001b[0m\n\u001b[1;32m    223\u001b[0m     \u001b[0mself\u001b[0m\u001b[0;34m.\u001b[0m\u001b[0mn_classes_\u001b[0m \u001b[0;34m=\u001b[0m \u001b[0mlen\u001b[0m\u001b[0;34m(\u001b[0m\u001b[0mself\u001b[0m\u001b[0;34m.\u001b[0m\u001b[0mclasses_\u001b[0m\u001b[0;34m)\u001b[0m\u001b[0;34m\u001b[0m\u001b[0m\n\u001b[0;32m--> 224\u001b[0;31m     \u001b[0;32mreturn\u001b[0m \u001b[0msuper\u001b[0m\u001b[0;34m(\u001b[0m\u001b[0mKerasClassifier\u001b[0m\u001b[0;34m,\u001b[0m \u001b[0mself\u001b[0m\u001b[0;34m)\u001b[0m\u001b[0;34m.\u001b[0m\u001b[0mfit\u001b[0m\u001b[0;34m(\u001b[0m\u001b[0mx\u001b[0m\u001b[0;34m,\u001b[0m \u001b[0my\u001b[0m\u001b[0;34m,\u001b[0m \u001b[0;34m**\u001b[0m\u001b[0mkwargs\u001b[0m\u001b[0;34m)\u001b[0m\u001b[0;34m\u001b[0m\u001b[0m\n\u001b[0m\u001b[1;32m    225\u001b[0m \u001b[0;34m\u001b[0m\u001b[0m\n\u001b[1;32m    226\u001b[0m   \u001b[0;32mdef\u001b[0m \u001b[0mpredict\u001b[0m\u001b[0;34m(\u001b[0m\u001b[0mself\u001b[0m\u001b[0;34m,\u001b[0m \u001b[0mx\u001b[0m\u001b[0;34m,\u001b[0m \u001b[0;34m**\u001b[0m\u001b[0mkwargs\u001b[0m\u001b[0;34m)\u001b[0m\u001b[0;34m:\u001b[0m\u001b[0;34m\u001b[0m\u001b[0m\n",
      "\u001b[0;32m/Users/weit/Library/Enthought/Canopy/edm/envs/User/lib/python3.5/site-packages/tensorflow/python/keras/wrappers/scikit_learn.py\u001b[0m in \u001b[0;36mfit\u001b[0;34m(self, x, y, **kwargs)\u001b[0m\n\u001b[1;32m    165\u001b[0m     \u001b[0mfit_args\u001b[0m\u001b[0;34m.\u001b[0m\u001b[0mupdate\u001b[0m\u001b[0;34m(\u001b[0m\u001b[0mkwargs\u001b[0m\u001b[0;34m)\u001b[0m\u001b[0;34m\u001b[0m\u001b[0m\n\u001b[1;32m    166\u001b[0m \u001b[0;34m\u001b[0m\u001b[0m\n\u001b[0;32m--> 167\u001b[0;31m     \u001b[0mhistory\u001b[0m \u001b[0;34m=\u001b[0m \u001b[0mself\u001b[0m\u001b[0;34m.\u001b[0m\u001b[0mmodel\u001b[0m\u001b[0;34m.\u001b[0m\u001b[0mfit\u001b[0m\u001b[0;34m(\u001b[0m\u001b[0mx\u001b[0m\u001b[0;34m,\u001b[0m \u001b[0my\u001b[0m\u001b[0;34m,\u001b[0m \u001b[0;34m**\u001b[0m\u001b[0mfit_args\u001b[0m\u001b[0;34m)\u001b[0m\u001b[0;34m\u001b[0m\u001b[0m\n\u001b[0m\u001b[1;32m    168\u001b[0m \u001b[0;34m\u001b[0m\u001b[0m\n\u001b[1;32m    169\u001b[0m     \u001b[0;32mreturn\u001b[0m \u001b[0mhistory\u001b[0m\u001b[0;34m\u001b[0m\u001b[0m\n",
      "\u001b[0;32m/Users/weit/Library/Enthought/Canopy/edm/envs/User/lib/python3.5/site-packages/tensorflow/python/keras/engine/training.py\u001b[0m in \u001b[0;36mfit\u001b[0;34m(self, x, y, batch_size, epochs, verbose, callbacks, validation_split, validation_data, shuffle, class_weight, sample_weight, initial_epoch, steps_per_epoch, validation_steps, **kwargs)\u001b[0m\n\u001b[1;32m   1507\u001b[0m         \u001b[0msteps_name\u001b[0m\u001b[0;34m=\u001b[0m\u001b[0;34m'steps_per_epoch'\u001b[0m\u001b[0;34m,\u001b[0m\u001b[0;34m\u001b[0m\u001b[0m\n\u001b[1;32m   1508\u001b[0m         \u001b[0msteps\u001b[0m\u001b[0;34m=\u001b[0m\u001b[0msteps_per_epoch\u001b[0m\u001b[0;34m,\u001b[0m\u001b[0;34m\u001b[0m\u001b[0m\n\u001b[0;32m-> 1509\u001b[0;31m         validation_split=validation_split)\n\u001b[0m\u001b[1;32m   1510\u001b[0m \u001b[0;34m\u001b[0m\u001b[0m\n\u001b[1;32m   1511\u001b[0m     \u001b[0;31m# Prepare validation data.\u001b[0m\u001b[0;34m\u001b[0m\u001b[0;34m\u001b[0m\u001b[0m\n",
      "\u001b[0;32m/Users/weit/Library/Enthought/Canopy/edm/envs/User/lib/python3.5/site-packages/tensorflow/python/keras/engine/training.py\u001b[0m in \u001b[0;36m_standardize_user_data\u001b[0;34m(self, x, y, sample_weight, class_weight, batch_size, check_steps, steps_name, steps, validation_split)\u001b[0m\n\u001b[1;32m    991\u001b[0m       \u001b[0mx\u001b[0m\u001b[0;34m,\u001b[0m \u001b[0my\u001b[0m \u001b[0;34m=\u001b[0m \u001b[0mnext_element\u001b[0m\u001b[0;34m\u001b[0m\u001b[0m\n\u001b[1;32m    992\u001b[0m     x, y, sample_weights = self._standardize_weights(x, y, sample_weight,\n\u001b[0;32m--> 993\u001b[0;31m                                                      class_weight, batch_size)\n\u001b[0m\u001b[1;32m    994\u001b[0m     \u001b[0;32mreturn\u001b[0m \u001b[0mx\u001b[0m\u001b[0;34m,\u001b[0m \u001b[0my\u001b[0m\u001b[0;34m,\u001b[0m \u001b[0msample_weights\u001b[0m\u001b[0;34m\u001b[0m\u001b[0m\n\u001b[1;32m    995\u001b[0m \u001b[0;34m\u001b[0m\u001b[0m\n",
      "\u001b[0;32m/Users/weit/Library/Enthought/Canopy/edm/envs/User/lib/python3.5/site-packages/tensorflow/python/keras/engine/training.py\u001b[0m in \u001b[0;36m_standardize_weights\u001b[0;34m(self, x, y, sample_weight, class_weight, batch_size)\u001b[0m\n\u001b[1;32m   1110\u001b[0m         \u001b[0mfeed_input_shapes\u001b[0m\u001b[0;34m,\u001b[0m\u001b[0;34m\u001b[0m\u001b[0m\n\u001b[1;32m   1111\u001b[0m         \u001b[0mcheck_batch_axis\u001b[0m\u001b[0;34m=\u001b[0m\u001b[0;32mFalse\u001b[0m\u001b[0;34m,\u001b[0m  \u001b[0;31m# Don't enforce the batch size.\u001b[0m\u001b[0;34m\u001b[0m\u001b[0m\n\u001b[0;32m-> 1112\u001b[0;31m         exception_prefix='input')\n\u001b[0m\u001b[1;32m   1113\u001b[0m \u001b[0;34m\u001b[0m\u001b[0m\n\u001b[1;32m   1114\u001b[0m     \u001b[0;32mif\u001b[0m \u001b[0my\u001b[0m \u001b[0;32mis\u001b[0m \u001b[0;32mnot\u001b[0m \u001b[0;32mNone\u001b[0m\u001b[0;34m:\u001b[0m\u001b[0;34m\u001b[0m\u001b[0m\n",
      "\u001b[0;32m/Users/weit/Library/Enthought/Canopy/edm/envs/User/lib/python3.5/site-packages/tensorflow/python/keras/engine/training_utils.py\u001b[0m in \u001b[0;36mstandardize_input_data\u001b[0;34m(data, names, shapes, check_batch_axis, exception_prefix)\u001b[0m\n\u001b[1;32m    323\u001b[0m                 \u001b[0;34m'Error when checking '\u001b[0m \u001b[0;34m+\u001b[0m \u001b[0mexception_prefix\u001b[0m \u001b[0;34m+\u001b[0m \u001b[0;34m': expected '\u001b[0m \u001b[0;34m+\u001b[0m\u001b[0;34m\u001b[0m\u001b[0m\n\u001b[1;32m    324\u001b[0m                 \u001b[0mnames\u001b[0m\u001b[0;34m[\u001b[0m\u001b[0mi\u001b[0m\u001b[0;34m]\u001b[0m \u001b[0;34m+\u001b[0m \u001b[0;34m' to have shape '\u001b[0m \u001b[0;34m+\u001b[0m \u001b[0mstr\u001b[0m\u001b[0;34m(\u001b[0m\u001b[0mshape\u001b[0m\u001b[0;34m)\u001b[0m \u001b[0;34m+\u001b[0m\u001b[0;34m\u001b[0m\u001b[0m\n\u001b[0;32m--> 325\u001b[0;31m                 ' but got array with shape ' + str(data_shape))\n\u001b[0m\u001b[1;32m    326\u001b[0m   \u001b[0;32mreturn\u001b[0m \u001b[0mdata\u001b[0m\u001b[0;34m\u001b[0m\u001b[0m\n\u001b[1;32m    327\u001b[0m \u001b[0;34m\u001b[0m\u001b[0m\n",
      "\u001b[0;31mValueError\u001b[0m: Error when checking input: expected dense_2_input to have shape (4,) but got array with shape (3,)"
     ]
    }
   ],
   "source": [
    "from tensorflow.keras.wrappers.scikit_learn import KerasClassifier\n",
    "from sklearn.model_selection import cross_val_score\n",
    "\n",
    "estimator = KerasClassifier(build_fn=create_model, epochs=100, verbose=0)\n",
    "\n",
    "cv_scores = cross_val_score(estimator, all_features_scaled, all_classes, cv=10)\n",
    "print(cv_scores.mean())\n",
    "print(normalized_all_features)"
   ]
  },
  {
   "cell_type": "code",
   "execution_count": null,
   "metadata": {
    "collapsed": false,
    "deletable": true,
    "editable": true
   },
   "outputs": [],
   "source": []
  },
  {
   "cell_type": "code",
   "execution_count": null,
   "metadata": {
    "collapsed": false,
    "deletable": true,
    "editable": true
   },
   "outputs": [],
   "source": []
  },
  {
   "cell_type": "markdown",
   "metadata": {
    "collapsed": true,
    "deletable": true,
    "editable": true
   },
   "source": [
    "## Do we have a winner?\n",
    "\n",
    "Which model, and which choice of hyperparameters, performed the best? Feel free to share your results!"
   ]
  },
  {
   "cell_type": "code",
   "execution_count": null,
   "metadata": {
    "collapsed": true,
    "deletable": true,
    "editable": true
   },
   "outputs": [],
   "source": []
  },
  {
   "cell_type": "code",
   "execution_count": null,
   "metadata": {
    "collapsed": true,
    "deletable": true,
    "editable": true
   },
   "outputs": [],
   "source": []
  }
 ],
 "metadata": {
  "kernelspec": {
   "display_name": "Python 3",
   "language": "python",
   "name": "python3"
  },
  "language_info": {
   "codemirror_mode": {
    "name": "ipython",
    "version": 3
   },
   "file_extension": ".py",
   "mimetype": "text/x-python",
   "name": "python",
   "nbconvert_exporter": "python",
   "pygments_lexer": "ipython3",
   "version": "3.5.2"
  }
 },
 "nbformat": 4,
 "nbformat_minor": 2
}
